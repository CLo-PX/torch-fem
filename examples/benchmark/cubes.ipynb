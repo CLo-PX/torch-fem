{
 "cells": [
  {
   "cell_type": "code",
   "execution_count": 2,
   "metadata": {},
   "outputs": [],
   "source": [
    "import cProfile\n",
    "import pstats\n",
    "\n",
    "import subprocess\n",
    "from memory_profiler import memory_usage\n",
    "\n",
    "from cubes import get_cube"
   ]
  },
  {
   "cell_type": "code",
   "execution_count": null,
   "metadata": {},
   "outputs": [
    {
     "name": "stdout",
     "output_type": "stream",
     "text": [
      "|  N  |     DOFs |  FWD Time |  BWD Time |        RAM |\n",
      "| --- | -------- | --------- | --------- | ---------- |\n",
      "|  10 |     3000 |     0.12s |     0.06s |    618.5MB |\n",
      "|  20 |    24000 |     0.54s |     0.34s |    934.7MB |\n",
      "|  30 |    81000 |     1.90s |     1.33s |   1949.0MB |\n",
      "|  40 |   192000 |     4.84s |     4.00s |   4061.1MB |\n",
      "|  50 |   375000 |    10.43s |     9.58s |   6877.9MB |\n",
      "|  60 |   648000 |    19.05s |    21.73s |  11318.2MB |\n",
      "|  70 |  1029000 |    34.34s |    40.30s |  16345.3MB |\n",
      "|  80 |  1536000 |    55.64s |    56.67s |  23191.6MB |\n",
      "|  90 |  2187000 |    82.74s |   136.69s |  32951.2MB |\n"
     ]
    }
   ],
   "source": [
    "print(\"|  N  |     DOFs |  FWD Time |  BWD Time |   Peak RAM |\")\n",
    "print(\"| --- | -------- | --------- | --------- | ---------- |\")\n",
    "\n",
    "device = \"cpu\"\n",
    "for N in [10, 20, 30, 40, 50, 60, 70, 80, 90]:\n",
    "    mem_usage, result = memory_usage(\n",
    "        lambda: subprocess.run(\n",
    "            [\"python\", \"cubes.py\", \"-N\", str(N), \"-device\", device],\n",
    "            capture_output=True,\n",
    "            text=True,\n",
    "        ),\n",
    "        retval=True,\n",
    "        include_children=True,\n",
    "        max_usage=True,\n",
    "        interval=0.1,\n",
    "    )\n",
    "\n",
    "    print(result.stdout.strip() + f\" {mem_usage:8.1f}MB |\")"
   ]
  },
  {
   "cell_type": "markdown",
   "metadata": {},
   "source": [
    "### Memory and speed analysis for cube of size 70"
   ]
  },
  {
   "cell_type": "code",
   "execution_count": 3,
   "metadata": {},
   "outputs": [],
   "source": [
    "# add @profile decorator to function to be profiled\n",
    "cube = get_cube(70)\n",
    "solution = cube.solve()"
   ]
  },
  {
   "cell_type": "code",
   "execution_count": 4,
   "metadata": {},
   "outputs": [
    {
     "name": "stdout",
     "output_type": "stream",
     "text": [
      "Fri Nov  1 10:10:50 2024    stats\n",
      "\n",
      "         32487 function calls (32447 primitive calls) in 34.591 seconds\n",
      "\n",
      "   Ordered by: internal time\n",
      "   List reduced from 367 to 10 due to restriction <10>\n",
      "\n",
      "   ncalls  tottime  percall  cumtime  percall filename:lineno(function)\n",
      "      319   15.273    0.048   15.273    0.048 {built-in method scipy.sparse._sparsetools.csr_matvec}\n",
      "        1    7.530    7.530    7.530    7.530 {method 'coalesce' of 'torch._C.TensorBase' objects}\n",
      "        1    4.383    4.383   19.310   19.310 c:\\Users\\meyernil\\AppData\\Local\\miniforge3\\envs\\torchfem\\Lib\\site-packages\\scipy\\sparse\\linalg\\_isolve\\minres.py:10(minres)\n",
      "        2    1.602    0.801    3.373    1.687 C:\\Users\\meyernil\\torch-fem\\src\\torchfem\\base.py:75(integrate)\n",
      "       96    1.186    0.012    1.186    0.012 {built-in method torch.einsum}\n",
      "       10    0.882    0.088   32.002    3.200 c:\\Users\\meyernil\\AppData\\Local\\miniforge3\\envs\\torchfem\\Lib\\selectors.py:313(_select)\n",
      "      198    0.744    0.004    0.744    0.004 {built-in method torch.stack}\n",
      "        1    0.450    0.450    8.096    8.096 C:\\Users\\meyernil\\torch-fem\\src\\torchfem\\base.py:128(assemble_stiffness)\n",
      "       16    0.352    0.022    0.352    0.022 {built-in method torch._C._linalg.linalg_inv}\n",
      "        1    0.317    0.317    0.317    0.317 {built-in method scipy.sparse._sparsetools.coo_tocsr}\n",
      "\n",
      "\n"
     ]
    },
    {
     "data": {
      "text/plain": [
       "<pstats.Stats at 0x1d67b55acc0>"
      ]
     },
     "execution_count": 4,
     "metadata": {},
     "output_type": "execute_result"
    }
   ],
   "source": [
    "cProfile\n",
    "cProfile.run(\"get_cube(70).solve()\", \"stats\")\n",
    "p = pstats.Stats(\"stats\")\n",
    "p.sort_stats(\"tottime\").print_stats(10)"
   ]
  }
 ],
 "metadata": {
  "kernelspec": {
   "display_name": "torchfem",
   "language": "python",
   "name": "python3"
  },
  "language_info": {
   "codemirror_mode": {
    "name": "ipython",
    "version": 3
   },
   "file_extension": ".py",
   "mimetype": "text/x-python",
   "name": "python",
   "nbconvert_exporter": "python",
   "pygments_lexer": "ipython3",
   "version": "3.12.7"
  }
 },
 "nbformat": 4,
 "nbformat_minor": 2
}
