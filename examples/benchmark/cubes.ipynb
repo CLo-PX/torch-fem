{
 "cells": [
  {
   "cell_type": "code",
   "execution_count": 1,
   "metadata": {},
   "outputs": [],
   "source": [
    "import torch\n",
    "import time\n",
    "import scipy\n",
    "from memory_profiler import memory_usage\n",
    "import cProfile\n",
    "import pstats\n",
    "\n",
    "from torchfem import Solid\n",
    "from torchfem.materials import Isotropic"
   ]
  },
  {
   "cell_type": "code",
   "execution_count": 2,
   "metadata": {},
   "outputs": [],
   "source": [
    "def get_cube(N):\n",
    "    # Create nodes\n",
    "    grid = torch.linspace(0, 1, N)\n",
    "    x, y, z = torch.meshgrid(grid, grid, grid, indexing=\"ij\")\n",
    "    nodes = torch.vstack([x.ravel(), y.ravel(), z.ravel()]).T\n",
    "\n",
    "    # Create elements\n",
    "    indices = torch.arange(N**3).reshape((N, N, N))\n",
    "    n0 = indices[:-1, :-1, :-1].ravel()\n",
    "    n1 = indices[1:, :-1, :-1].ravel()\n",
    "    n2 = indices[:-1, 1:, :-1].ravel()\n",
    "    n3 = indices[1:, 1:, :-1].ravel()\n",
    "    n4 = indices[:-1, :-1, 1:].ravel()\n",
    "    n5 = indices[1:, :-1, 1:].ravel()\n",
    "    n6 = indices[:-1, 1:, 1:].ravel()\n",
    "    n7 = indices[1:, 1:, 1:].ravel()\n",
    "    elements = torch.vstack([n0, n1, n3, n2, n4, n5, n7, n6]).T\n",
    "\n",
    "    # Material model\n",
    "    material = Isotropic(E=1000.0, nu=0.3)\n",
    "\n",
    "    # Define cube\n",
    "    cube = Solid(nodes, elements, material)\n",
    "\n",
    "    # Assign boundary conditions\n",
    "    cube.forces = torch.zeros_like(nodes, requires_grad=True)\n",
    "    cube.constraints[nodes[:, 0] == 0.0, :] = True\n",
    "    cube.constraints[nodes[:, 0] == 1.0, 0] = True\n",
    "    cube.displacements[nodes[:, 0] == 1.0, 0] = 0.1\n",
    "\n",
    "    return cube"
   ]
  },
  {
   "cell_type": "code",
   "execution_count": 3,
   "metadata": {},
   "outputs": [],
   "source": [
    "# cProfile\n",
    "cProfile.run(\"get_cube(30).solve()\", \"stats\")"
   ]
  },
  {
   "cell_type": "code",
   "execution_count": 4,
   "metadata": {},
   "outputs": [
    {
     "name": "stdout",
     "output_type": "stream",
     "text": [
      "Fri Oct 25 19:07:31 2024    stats\n",
      "\n",
      "         27780 function calls (27384 primitive calls) in 7.358 seconds\n",
      "\n",
      "   Ordered by: internal time\n",
      "   List reduced from 596 to 10 due to restriction <10>\n",
      "\n",
      "   ncalls  tottime  percall  cumtime  percall filename:lineno(function)\n",
      "        2    2.286    1.143    2.286    1.143 {method 'coalesce' of 'torch._C.TensorBase' objects}\n",
      "        4    1.877    0.469    1.877    0.469 {built-in method torch.matmul}\n",
      "        4    1.375    0.344    1.375    0.344 {built-in method torch.isin}\n",
      "      150    0.634    0.004    0.634    0.004 {built-in method scipy.sparse._sparsetools.csr_matvec}\n",
      "       12    0.387    0.032    0.387    0.032 {built-in method torch.einsum}\n",
      "       45    0.168    0.004    0.168    0.004 {built-in method torch.stack}\n",
      "        2    0.111    0.055    3.828    1.914 /Users/meyernil/Code/torch-fem/src/torchfem/base.py:96(assemble_stiffness)\n",
      "        4    0.077    0.019    0.077    0.019 {method 'sum' of 'torch._C.TensorBase' objects}\n",
      "        1    0.059    0.059    7.286    7.286 /Users/meyernil/Code/torch-fem/src/torchfem/base.py:129(solve)\n",
      "        1    0.057    0.057    0.704    0.704 /Users/meyernil/miniforge3/envs/torchfem/lib/python3.10/site-packages/scipy/sparse/linalg/_isolve/minres.py:10(minres)\n",
      "\n",
      "\n"
     ]
    },
    {
     "data": {
      "text/plain": [
       "<pstats.Stats at 0x11aedf160>"
      ]
     },
     "execution_count": 4,
     "metadata": {},
     "output_type": "execute_result"
    }
   ],
   "source": [
    "p = pstats.Stats(\"stats\")\n",
    "p.sort_stats(\"tottime\").print_stats(10)"
   ]
  },
  {
   "cell_type": "code",
   "execution_count": 5,
   "metadata": {},
   "outputs": [
    {
     "name": "stdout",
     "output_type": "stream",
     "text": [
      "Running N=10\n",
      "  ... forward pass with 3000 DOFs done in 0.45s.\n",
      "  ... backward pass with 3000 DOFs done in 0.61.\n",
      "Running N=20\n",
      "  ... forward pass with 24000 DOFs done in 4.15s.\n",
      "  ... backward pass with 24000 DOFs done in 2.77.\n",
      "Running N=30\n",
      "  ... forward pass with 81000 DOFs done in 5.78s.\n",
      "  ... backward pass with 81000 DOFs done in 1.47.\n",
      "Running N=40\n",
      "  ... forward pass with 192000 DOFs done in 14.70s.\n",
      "  ... backward pass with 192000 DOFs done in 4.11.\n",
      "Running N=50\n",
      "  ... forward pass with 375000 DOFs done in 31.28s.\n",
      "  ... backward pass with 375000 DOFs done in 9.31.\n",
      "Running N=60\n"
     ]
    },
    {
     "ename": "KeyboardInterrupt",
     "evalue": "",
     "output_type": "error",
     "traceback": [
      "\u001b[0;31m---------------------------------------------------------------------------\u001b[0m",
      "\u001b[0;31mKeyboardInterrupt\u001b[0m                         Traceback (most recent call last)",
      "Cell \u001b[0;32mIn[5], line 9\u001b[0m\n\u001b[1;32m      7\u001b[0m \u001b[38;5;66;03m# Forward pass\u001b[39;00m\n\u001b[1;32m      8\u001b[0m start_time \u001b[38;5;241m=\u001b[39m time\u001b[38;5;241m.\u001b[39mtime()\n\u001b[0;32m----> 9\u001b[0m mem_usage, (u, f, sigma, epsilon, state) \u001b[38;5;241m=\u001b[39m \u001b[43mmemory_usage\u001b[49m\u001b[43m(\u001b[49m\n\u001b[1;32m     10\u001b[0m \u001b[43m    \u001b[49m\u001b[38;5;28;43;01mlambda\u001b[39;49;00m\u001b[43m:\u001b[49m\u001b[43m \u001b[49m\u001b[43mbox\u001b[49m\u001b[38;5;241;43m.\u001b[39;49m\u001b[43msolve\u001b[49m\u001b[43m(\u001b[49m\u001b[43m)\u001b[49m\u001b[43m,\u001b[49m\u001b[43m \u001b[49m\u001b[43mretval\u001b[49m\u001b[38;5;241;43m=\u001b[39;49m\u001b[38;5;28;43;01mTrue\u001b[39;49;00m\u001b[43m,\u001b[49m\u001b[43m \u001b[49m\u001b[43minterval\u001b[49m\u001b[38;5;241;43m=\u001b[39;49m\u001b[38;5;241;43m0.1\u001b[39;49m\n\u001b[1;32m     11\u001b[0m \u001b[43m\u001b[49m\u001b[43m)\u001b[49m\n\u001b[1;32m     12\u001b[0m end_time \u001b[38;5;241m=\u001b[39m time\u001b[38;5;241m.\u001b[39mtime()\n\u001b[1;32m     13\u001b[0m fwd_mem_usage \u001b[38;5;241m=\u001b[39m \u001b[38;5;28mmax\u001b[39m(mem_usage) \u001b[38;5;241m-\u001b[39m \u001b[38;5;28mmin\u001b[39m(mem_usage)\n",
      "File \u001b[0;32m~/miniforge3/envs/torchfem/lib/python3.10/site-packages/memory_profiler.py:379\u001b[0m, in \u001b[0;36mmemory_usage\u001b[0;34m(proc, interval, timeout, timestamps, include_children, multiprocess, max_usage, retval, stream, backend, max_iterations)\u001b[0m\n\u001b[1;32m    376\u001b[0m \u001b[38;5;66;03m# When there is an exception in the \"proc\" - the (spawned) monitoring processes don't get killed.\u001b[39;00m\n\u001b[1;32m    377\u001b[0m \u001b[38;5;66;03m# Therefore, the whole process hangs indefinitely. Here, we are ensuring that the process gets killed!\u001b[39;00m\n\u001b[1;32m    378\u001b[0m \u001b[38;5;28;01mtry\u001b[39;00m:\n\u001b[0;32m--> 379\u001b[0m     returned \u001b[38;5;241m=\u001b[39m \u001b[43mf\u001b[49m\u001b[43m(\u001b[49m\u001b[38;5;241;43m*\u001b[39;49m\u001b[43margs\u001b[49m\u001b[43m,\u001b[49m\u001b[43m \u001b[49m\u001b[38;5;241;43m*\u001b[39;49m\u001b[38;5;241;43m*\u001b[39;49m\u001b[43mkw\u001b[49m\u001b[43m)\u001b[49m\n\u001b[1;32m    380\u001b[0m     parent_conn\u001b[38;5;241m.\u001b[39msend(\u001b[38;5;241m0\u001b[39m)  \u001b[38;5;66;03m# finish timing\u001b[39;00m\n\u001b[1;32m    381\u001b[0m     ret \u001b[38;5;241m=\u001b[39m parent_conn\u001b[38;5;241m.\u001b[39mrecv()\n",
      "Cell \u001b[0;32mIn[5], line 10\u001b[0m, in \u001b[0;36m<lambda>\u001b[0;34m()\u001b[0m\n\u001b[1;32m      7\u001b[0m \u001b[38;5;66;03m# Forward pass\u001b[39;00m\n\u001b[1;32m      8\u001b[0m start_time \u001b[38;5;241m=\u001b[39m time\u001b[38;5;241m.\u001b[39mtime()\n\u001b[1;32m      9\u001b[0m mem_usage, (u, f, sigma, epsilon, state) \u001b[38;5;241m=\u001b[39m memory_usage(\n\u001b[0;32m---> 10\u001b[0m     \u001b[38;5;28;01mlambda\u001b[39;00m: \u001b[43mbox\u001b[49m\u001b[38;5;241;43m.\u001b[39;49m\u001b[43msolve\u001b[49m\u001b[43m(\u001b[49m\u001b[43m)\u001b[49m, retval\u001b[38;5;241m=\u001b[39m\u001b[38;5;28;01mTrue\u001b[39;00m, interval\u001b[38;5;241m=\u001b[39m\u001b[38;5;241m0.1\u001b[39m\n\u001b[1;32m     11\u001b[0m )\n\u001b[1;32m     12\u001b[0m end_time \u001b[38;5;241m=\u001b[39m time\u001b[38;5;241m.\u001b[39mtime()\n\u001b[1;32m     13\u001b[0m fwd_mem_usage \u001b[38;5;241m=\u001b[39m \u001b[38;5;28mmax\u001b[39m(mem_usage) \u001b[38;5;241m-\u001b[39m \u001b[38;5;28mmin\u001b[39m(mem_usage)\n",
      "File \u001b[0;32m~/Code/torch-fem/src/torchfem/solid.py:142\u001b[0m, in \u001b[0;36mSolid.solve\u001b[0;34m(self, increments, max_iter, tol, verbose)\u001b[0m\n\u001b[1;32m    137\u001b[0m k, f_int, epsilon_new, sigma_new, state_new \u001b[38;5;241m=\u001b[39m \u001b[38;5;28mself\u001b[39m\u001b[38;5;241m.\u001b[39mintegrate_step(\n\u001b[1;32m    138\u001b[0m     epsilon[i \u001b[38;5;241m-\u001b[39m \u001b[38;5;241m1\u001b[39m], sigma[i \u001b[38;5;241m-\u001b[39m \u001b[38;5;241m1\u001b[39m], state[i \u001b[38;5;241m-\u001b[39m \u001b[38;5;241m1\u001b[39m], du\u001b[38;5;241m.\u001b[39mreshape((\u001b[38;5;241m-\u001b[39m\u001b[38;5;241m1\u001b[39m, \u001b[38;5;241m3\u001b[39m)), DE\n\u001b[1;32m    139\u001b[0m )\n\u001b[1;32m    141\u001b[0m \u001b[38;5;66;03m# Assemble global stiffness matrix and internal force vector\u001b[39;00m\n\u001b[0;32m--> 142\u001b[0m K \u001b[38;5;241m=\u001b[39m \u001b[38;5;28;43mself\u001b[39;49m\u001b[38;5;241;43m.\u001b[39;49m\u001b[43massemble_stiffness\u001b[49m\u001b[43m(\u001b[49m\u001b[43mk\u001b[49m\u001b[43m,\u001b[49m\u001b[43m \u001b[49m\u001b[43mcon\u001b[49m\u001b[43m)\u001b[49m\n\u001b[1;32m    143\u001b[0m F_int \u001b[38;5;241m=\u001b[39m \u001b[38;5;28mself\u001b[39m\u001b[38;5;241m.\u001b[39massemble_force(f_int)\n\u001b[1;32m    145\u001b[0m \u001b[38;5;66;03m# Compute residual\u001b[39;00m\n",
      "File \u001b[0;32m~/Code/torch-fem/src/torchfem/solid.py:84\u001b[0m, in \u001b[0;36mSolid.assemble_stiffness\u001b[0;34m(self, k, con)\u001b[0m\n\u001b[1;32m     82\u001b[0m values \u001b[38;5;241m=\u001b[39m k\u001b[38;5;241m.\u001b[39mravel()\n\u001b[1;32m     83\u001b[0m \u001b[38;5;66;03m# Eliminate and replace constrained dofs\u001b[39;00m\n\u001b[0;32m---> 84\u001b[0m mask \u001b[38;5;241m=\u001b[39m \u001b[38;5;241m~\u001b[39m(\u001b[43mtorch\u001b[49m\u001b[38;5;241;43m.\u001b[39;49m\u001b[43misin\u001b[49m\u001b[43m(\u001b[49m\u001b[43mindices\u001b[49m\u001b[43m[\u001b[49m\u001b[38;5;241;43m0\u001b[39;49m\u001b[43m,\u001b[49m\u001b[43m \u001b[49m\u001b[43m:\u001b[49m\u001b[43m]\u001b[49m\u001b[43m,\u001b[49m\u001b[43m \u001b[49m\u001b[43mcon\u001b[49m\u001b[43m)\u001b[49m \u001b[38;5;241m|\u001b[39m torch\u001b[38;5;241m.\u001b[39misin(indices[\u001b[38;5;241m1\u001b[39m, :], con))\n\u001b[1;32m     85\u001b[0m diag_index \u001b[38;5;241m=\u001b[39m torch\u001b[38;5;241m.\u001b[39mstack((con, con), dim\u001b[38;5;241m=\u001b[39m\u001b[38;5;241m0\u001b[39m)\n\u001b[1;32m     86\u001b[0m diag_value \u001b[38;5;241m=\u001b[39m torch\u001b[38;5;241m.\u001b[39mones_like(con, dtype\u001b[38;5;241m=\u001b[39mk\u001b[38;5;241m.\u001b[39mdtype)\n",
      "\u001b[0;31mKeyboardInterrupt\u001b[0m: "
     ]
    }
   ],
   "source": [
    "results = {}\n",
    "for N in [10, 20, 30, 40, 50, 60, 70, 80, 90]:\n",
    "    print(f\"Running N={N}\")\n",
    "    box = get_cube(N)\n",
    "    dofs = box.n_dofs\n",
    "\n",
    "    # Forward pass\n",
    "    start_time = time.time()\n",
    "    mem_usage, (u, f, sigma, epsilon, state) = memory_usage(\n",
    "        lambda: box.solve(), retval=True, interval=0.1\n",
    "    )\n",
    "    end_time = time.time()\n",
    "    fwd_mem_usage = max(mem_usage) - min(mem_usage)\n",
    "    fwd_time = end_time - start_time\n",
    "    print(f\"  ... forward pass with {dofs} DOFs done in {fwd_time:.2f}s.\")\n",
    "\n",
    "    # Backward pass\n",
    "    start_time = time.time()\n",
    "    mem_usage = memory_usage(lambda: u.sum().backward(retain_graph=True), interval=0.1)\n",
    "    end_time = time.time()\n",
    "    bwd_mem_usage = max(mem_usage) - min(mem_usage)\n",
    "    bwd_time = end_time - start_time\n",
    "    print(f\"  ... backward pass with {dofs} DOFs done in {bwd_time:.2f}.\")\n",
    "\n",
    "    results[N] = (\n",
    "        dofs,\n",
    "        fwd_time,\n",
    "        fwd_mem_usage,\n",
    "        bwd_time,\n",
    "        bwd_mem_usage,\n",
    "    )"
   ]
  },
  {
   "cell_type": "code",
   "execution_count": null,
   "metadata": {},
   "outputs": [],
   "source": [
    "# Format results as a table\n",
    "print(\"|  N  |    DOFs | FWD Time |  FWD Memory | BWD Time |  BWD Memory |\")\n",
    "print(\"| --- | ------- | -------- | ----------- | -------- | ----------- |\")\n",
    "for N, (dofs, fwd_t, fwd_mem, bwd_t, bwd_mem) in results.items():\n",
    "    print(\n",
    "        f\"| {N:3d} | {dofs:7d} |\"\n",
    "        f\" {fwd_t:7.2f}s |  {fwd_mem:7.2f} MB |\"\n",
    "        f\" {bwd_t:7.2f}s |  {bwd_mem:7.2f} MB |\"\n",
    "    )\n",
    "\n",
    "\n",
    "scipy.show_config()"
   ]
  }
 ],
 "metadata": {
  "kernelspec": {
   "display_name": "torchfem",
   "language": "python",
   "name": "python3"
  },
  "language_info": {
   "codemirror_mode": {
    "name": "ipython",
    "version": 3
   },
   "file_extension": ".py",
   "mimetype": "text/x-python",
   "name": "python",
   "nbconvert_exporter": "python",
   "pygments_lexer": "ipython3",
   "version": "3.10.13"
  }
 },
 "nbformat": 4,
 "nbformat_minor": 2
}
