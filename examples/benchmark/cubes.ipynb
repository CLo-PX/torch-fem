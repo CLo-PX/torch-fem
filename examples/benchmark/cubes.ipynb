{
 "cells": [
  {
   "cell_type": "code",
   "execution_count": 5,
   "metadata": {},
   "outputs": [],
   "source": [
    "import torch\n",
    "import time\n",
    "import scipy\n",
    "from memory_profiler import memory_usage\n",
    "import cProfile\n",
    "import pstats\n",
    "\n",
    "from torchfem import Solid\n",
    "from torchfem.materials import Isotropic"
   ]
  },
  {
   "cell_type": "code",
   "execution_count": 2,
   "metadata": {},
   "outputs": [],
   "source": [
    "def get_cube(N):\n",
    "    # Create nodes\n",
    "    grid = torch.linspace(0, 1, N)\n",
    "    x, y, z = torch.meshgrid(grid, grid, grid, indexing=\"ij\")\n",
    "    nodes = torch.vstack([x.ravel(), y.ravel(), z.ravel()]).T\n",
    "\n",
    "    # Create elements\n",
    "    indices = torch.arange(N**3).reshape((N, N, N))\n",
    "    n0 = indices[:-1, :-1, :-1].ravel()\n",
    "    n1 = indices[1:, :-1, :-1].ravel()\n",
    "    n2 = indices[:-1, 1:, :-1].ravel()\n",
    "    n3 = indices[1:, 1:, :-1].ravel()\n",
    "    n4 = indices[:-1, :-1, 1:].ravel()\n",
    "    n5 = indices[1:, :-1, 1:].ravel()\n",
    "    n6 = indices[:-1, 1:, 1:].ravel()\n",
    "    n7 = indices[1:, 1:, 1:].ravel()\n",
    "    elements = torch.vstack([n0, n1, n3, n2, n4, n5, n7, n6]).T\n",
    "\n",
    "    # Material model\n",
    "    material = Isotropic(E=1000.0, nu=0.3)\n",
    "\n",
    "    # Assign boundary conditions\n",
    "    forces = torch.zeros_like(nodes, requires_grad=True)\n",
    "    constraints = torch.zeros_like(nodes, dtype=bool)\n",
    "    constraints[nodes[:, 0] == 0.0, :] = True\n",
    "    constraints[nodes[:, 0] == 1.0, 0] = True\n",
    "    displacements = torch.zeros_like(nodes)\n",
    "    displacements[nodes[:, 0] == 1.0, 0] = 0.1\n",
    "\n",
    "    return Solid(nodes, elements, forces, displacements, constraints, material.C())"
   ]
  },
  {
   "cell_type": "code",
   "execution_count": null,
   "metadata": {},
   "outputs": [],
   "source": [
    "results = {}\n",
    "for N in [10, 20, 30, 40, 50, 60, 70, 80, 90]:\n",
    "    print(f\"Running N={N}\")\n",
    "    box = get_cube(N)\n",
    "    dofs = box.n_dofs\n",
    "\n",
    "    # Forward pass\n",
    "    start_time = time.time()\n",
    "    mem_usage, (u, f) = memory_usage(lambda: box.solve(), retval=True, interval=0.1)\n",
    "    end_time = time.time()\n",
    "    fwd_mem_usage = max(mem_usage) - min(mem_usage)\n",
    "    fwd_time = end_time - start_time\n",
    "    print(f\"  ... forward pass with {dofs} DOFs done in {fwd_time:.2f}s.\")\n",
    "\n",
    "    # Backward pass\n",
    "    start_time = time.time()\n",
    "    mem_usage = memory_usage(lambda: u.sum().backward(retain_graph=True), interval=0.1)\n",
    "    end_time = time.time()\n",
    "    bwd_mem_usage = max(mem_usage) - min(mem_usage)\n",
    "    bwd_time = end_time - start_time\n",
    "    print(f\"  ... backward pass with {dofs} DOFs done in {bwd_time:.2f}.\")\n",
    "\n",
    "    results[N] = (\n",
    "        dofs,\n",
    "        fwd_time,\n",
    "        fwd_mem_usage,\n",
    "        bwd_time,\n",
    "        bwd_mem_usage,\n",
    "    )"
   ]
  },
  {
   "cell_type": "code",
   "execution_count": null,
   "metadata": {},
   "outputs": [],
   "source": [
    "# cProfile\n",
    "cProfile.run(\"get_cube(70).solve()\", \"stats\")"
   ]
  },
  {
   "cell_type": "code",
   "execution_count": null,
   "metadata": {},
   "outputs": [],
   "source": [
    "p = pstats.Stats(\"stats\")\n",
    "p.sort_stats(\"tottime\").print_stats(10)"
   ]
  },
  {
   "cell_type": "code",
   "execution_count": null,
   "metadata": {},
   "outputs": [],
   "source": [
    "# Format results as a table\n",
    "print(\"|  N  |    DOFs | FWD Time |  FWD Memory | BWD Time |  BWD Memory |\")\n",
    "print(\"| --- | ------- | -------- | ----------- | -------- | ----------- |\")\n",
    "for N, (dofs, fwd_t, fwd_mem, bwd_t, bwd_mem) in results.items():\n",
    "    print(\n",
    "        f\"| {N:3d} | {dofs:7d} |\"\n",
    "        f\" {fwd_t:7.2f}s |  {fwd_mem:7.2f} MB |\"\n",
    "        f\" {bwd_t:7.2f}s |  {bwd_mem:7.2f} MB |\"\n",
    "    )\n",
    "\n",
    "\n",
    "scipy.show_config()"
   ]
  }
 ],
 "metadata": {
  "kernelspec": {
   "display_name": "torchfem",
   "language": "python",
   "name": "python3"
  },
  "language_info": {
   "codemirror_mode": {
    "name": "ipython",
    "version": 3
   },
   "file_extension": ".py",
   "mimetype": "text/x-python",
   "name": "python",
   "nbconvert_exporter": "python",
   "pygments_lexer": "ipython3",
   "version": "3.10.13"
  }
 },
 "nbformat": 4,
 "nbformat_minor": 2
}
