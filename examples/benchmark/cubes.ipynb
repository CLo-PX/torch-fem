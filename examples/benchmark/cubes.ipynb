{
 "cells": [
  {
   "cell_type": "code",
   "execution_count": 1,
   "metadata": {},
   "outputs": [],
   "source": [
    "import cProfile\n",
    "import pstats\n",
    "\n",
    "import subprocess\n",
    "from memory_profiler import memory_usage\n",
    "\n",
    "from cubes import get_cube"
   ]
  },
  {
   "cell_type": "code",
   "execution_count": 2,
   "metadata": {},
   "outputs": [
    {
     "name": "stdout",
     "output_type": "stream",
     "text": [
      "|  N  |     DOFs |  FWD Time |  BWD Time |   Peak RAM |\n",
      "| --- | -------- | --------- | --------- | ---------- |\n",
      "|  10 |     3000 |     0.24s |     0.15s |    567.7MB |\n",
      "|  20 |    24000 |     0.74s |     0.25s |    965.7MB |\n",
      "|  30 |    81000 |     2.63s |     1.18s |   1797.9MB |\n",
      "|  40 |   192000 |     7.18s |     3.66s |   2814.2MB |\n",
      "|  50 |   375000 |    15.60s |     9.12s |   3784.7MB |\n",
      "|  60 |   648000 |    32.22s |    19.24s |   4368.8MB |\n",
      "|  70 |  1029000 |    55.33s |    34.54s |   5903.4MB |\n",
      "|  80 |  1536000 |    87.58s |    56.95s |   7321.9MB |\n",
      "|  90 |  2187000 |   137.29s |   106.87s |   8855.2MB |\n"
     ]
    }
   ],
   "source": [
    "print(\"|  N  |     DOFs |  FWD Time |  BWD Time |   Peak RAM |\")\n",
    "print(\"| --- | -------- | --------- | --------- | ---------- |\")\n",
    "\n",
    "device = \"cpu\"\n",
    "for N in [10, 20, 30, 40, 50, 60, 70, 80, 90]:\n",
    "    mem_usage, result = memory_usage(\n",
    "        lambda: subprocess.run(\n",
    "            [\"python\", \"cubes.py\", \"-N\", str(N), \"-device\", device],\n",
    "            capture_output=True,\n",
    "            text=True,\n",
    "        ),\n",
    "        retval=True,\n",
    "        include_children=True,\n",
    "        max_usage=True,\n",
    "        interval=0.1,\n",
    "    )\n",
    "\n",
    "    print(result.stdout.strip() + f\" {mem_usage:8.1f}MB |\")"
   ]
  },
  {
   "cell_type": "markdown",
   "metadata": {},
   "source": [
    "### Memory and speed analysis for cube of size 70"
   ]
  },
  {
   "cell_type": "code",
   "execution_count": 2,
   "metadata": {},
   "outputs": [
    {
     "name": "stdout",
     "output_type": "stream",
     "text": [
      "Filename: /Users/meyernil/Code/torch-fem/src/torchfem/base.py\n",
      "\n",
      "Line #    Mem usage    Increment  Occurrences   Line Contents\n",
      "=============================================================\n",
      "   164   1980.1 MiB   1980.1 MiB           1       @profile\n",
      "   165                                             def solve(\n",
      "   166                                                 self,\n",
      "   167                                                 increments: Tensor = torch.tensor([0.0, 1.0]),\n",
      "   168                                                 max_iter: int = 10,\n",
      "   169                                                 tol: float = 1e-4,\n",
      "   170                                                 verbose: bool = False,\n",
      "   171                                                 return_intermediate: bool = False,\n",
      "   172                                                 aggregate_integration_points: bool = True,\n",
      "   173                                             ) -> Tuple[Tensor, Tensor, Tensor, Tensor, Tensor]:\n",
      "   174                                                 \"\"\"Solve the FEM problem with the Newton-Raphson method.\"\"\"\n",
      "   175                                                 # Number of increments\n",
      "   176   1980.1 MiB      0.0 MiB           1           N = len(increments)\n",
      "   177                                         \n",
      "   178                                                 # Indexes of constrained and unconstrained degrees of freedom\n",
      "   179   1980.3 MiB      0.2 MiB           1           con = torch.nonzero(self.constraints.ravel(), as_tuple=False).ravel()\n",
      "   180                                         \n",
      "   181                                                 # Initialize variables to be computed\n",
      "   182   2100.6 MiB    120.3 MiB           1           epsilon = torch.zeros(N, self.n_int, self.n_elem, self.n_strains)\n",
      "   183   2221.0 MiB    120.3 MiB           1           sigma = torch.zeros(N, self.n_int, self.n_elem, self.n_strains)\n",
      "   184   2221.0 MiB      0.0 MiB           1           state = torch.zeros(N, self.n_int, self.n_elem, self.material.n_state)\n",
      "   185   2221.0 MiB      0.0 MiB           1           f = torch.zeros(N, self.n_nod, self.n_dim)\n",
      "   186   2221.0 MiB      0.0 MiB           1           u = torch.zeros(N, self.n_nod, self.n_dim)\n",
      "   187                                         \n",
      "   188                                                 # Initialize global stiffness matrix\n",
      "   189   2221.0 MiB      0.0 MiB           1           self.K = torch.empty(0)\n",
      "   190                                         \n",
      "   191                                                 # Initialize displacement increment\n",
      "   192   2224.9 MiB      4.0 MiB           1           du = torch.zeros_like(self.nodes).ravel()\n",
      "   193                                         \n",
      "   194                                                 # Incremental loading\n",
      "   195   2224.9 MiB      0.0 MiB           2           for n in range(1, N):\n",
      "   196                                                     # Increment size\n",
      "   197   2225.0 MiB      0.0 MiB           1               inc = increments[n] - increments[n - 1]\n",
      "   198                                         \n",
      "   199                                                     # Load increment\n",
      "   200   2232.9 MiB      7.9 MiB           1               F_ext = increments[n] * self.forces.ravel()\n",
      "   201   2240.8 MiB      7.9 MiB           1               DU = inc * self.displacements.clone().ravel()\n",
      "   202   2248.4 MiB      7.5 MiB           1               DE = inc * self.ext_strain\n",
      "   203                                         \n",
      "   204                                                     # Newton-Raphson iterations\n",
      "   205   2248.4 MiB      0.0 MiB           2               for i in range(max_iter):\n",
      "   206   2248.5 MiB      0.1 MiB           1                   du[con] = DU[con]\n",
      "   207                                         \n",
      "   208                                                         # Element-wise integration\n",
      "   209                                                         # fmt: off\n",
      "   210   3163.0 MiB    914.5 MiB           1                   k, f_int = self.integrate(epsilon, sigma, state, n, du, DE)\n",
      "   211                                                         # fmt: on\n",
      "   212                                         \n",
      "   213                                                         # Assemble global stiffness matrix and internal force vector. (Only\n",
      "   214                                                         # reassemble stiffness matrix if state has changed.)\n",
      "   215   3163.0 MiB      0.0 MiB           1                   if self.K.numel() == 0 or not self.material.n_state == 0:\n",
      "   216    212.0 MiB  -2951.0 MiB           1                       self.K = self.assemble_stiffness(k, con)\n",
      "   217    277.9 MiB     65.9 MiB           1                   F_int = self.assemble_force(f_int)\n",
      "   218                                         \n",
      "   219                                                         # Compute residual\n",
      "   220    286.0 MiB      8.1 MiB           1                   residual = F_int - F_ext\n",
      "   221    286.5 MiB      0.6 MiB           1                   residual[con] = 0.0\n",
      "   222    287.3 MiB      0.8 MiB           1                   res_norm = torch.linalg.norm(residual) / self.n_dofs\n",
      "   223    287.3 MiB      0.0 MiB           1                   if verbose:\n",
      "   224                                                             print(f\"Increment {n} | Iteration {i+1} | Residual: {res_norm:.5f}\")\n",
      "   225    287.5 MiB      0.2 MiB           1                   if res_norm < tol:\n",
      "   226                                                             break\n",
      "   227                                         \n",
      "   228                                                         # Solve for displacement increment\n",
      "   229   2038.7 MiB   1751.2 MiB           1                   du -= sparse_solve(self.K, residual)\n",
      "   230                                         \n",
      "   231                                                     # if res_norm > tol:\n",
      "   232                                                     #     raise Exception(\"Newton-Raphson iteration did not converge.\")\n",
      "   233                                         \n",
      "   234                                                     # Update increment\n",
      "   235   2042.7 MiB   -205.7 MiB           1               f[n] = F_int.reshape((-1, self.n_dim))\n",
      "   236   2050.7 MiB      8.0 MiB           1               u[n] = u[n - 1] + du.reshape((-1, self.n_dim))\n",
      "   237                                         \n",
      "   238                                                 # Aggregate integration points as mean\n",
      "   239   2050.7 MiB   -174.3 MiB           1           if aggregate_integration_points:\n",
      "   240   2186.2 MiB    135.6 MiB           1               epsilon = epsilon.mean(dim=1)\n",
      "   241   2321.6 MiB    135.4 MiB           1               sigma = sigma.mean(dim=1)\n",
      "   242   2321.6 MiB      0.0 MiB           1               state = state.mean(dim=1)\n",
      "   243                                         \n",
      "   244   2321.6 MiB      0.0 MiB           1           if return_intermediate:\n",
      "   245                                                     # Return all intermediate values\n",
      "   246                                                     return u, f, sigma, epsilon, state\n",
      "   247                                                 else:\n",
      "   248                                                     # Return only the final values\n",
      "   249   2321.6 MiB      0.0 MiB           1               return u[-1], f[-1], sigma[-1], epsilon[-1], state[-1]\n",
      "\n",
      "\n"
     ]
    }
   ],
   "source": [
    "# add @profile decorator to function to be profiled\n",
    "cube = get_cube(70)\n",
    "solution = cube.solve(max_iter=1)"
   ]
  },
  {
   "cell_type": "code",
   "execution_count": 3,
   "metadata": {},
   "outputs": [
    {
     "name": "stdout",
     "output_type": "stream",
     "text": [
      "Mon Nov  4 19:09:33 2024    stats\n",
      "\n",
      "         48705 function calls (48274 primitive calls) in 50.813 seconds\n",
      "\n",
      "   Ordered by: internal time\n",
      "   List reduced from 472 to 10 due to restriction <10>\n",
      "\n",
      "   ncalls  tottime  percall  cumtime  percall filename:lineno(function)\n",
      "      317   18.207    0.057   18.207    0.057 {built-in method scipy.sparse._sparsetools.csr_matvec}\n",
      "        1   15.898   15.898   15.898   15.898 {method 'coalesce' of 'torch._C.TensorBase' objects}\n",
      "       96    9.260    0.096    9.260    0.096 {built-in method torch.einsum}\n",
      "        1    2.459    2.459   20.850   20.850 /Users/meyernil/miniforge3/envs/torchfem/lib/python3.10/site-packages/scipy/sparse/linalg/_isolve/minres.py:10(minres)\n",
      "        2    0.841    0.421   11.618    5.809 /Users/meyernil/Code/torch-fem/src/torchfem/base.py:76(integrate)\n",
      "      198    0.819    0.004    0.819    0.004 {built-in method torch.stack}\n",
      "        1    0.731    0.731   17.218   17.218 /Users/meyernil/Code/torch-fem/src/torchfem/base.py:128(assemble_stiffness)\n",
      "        2    0.582    0.291    0.582    0.291 {built-in method torch.cat}\n",
      "        1    0.445    0.445    0.445    0.445 {built-in method scipy.sparse._sparsetools.coo_tocsr}\n",
      "       16    0.375    0.023    0.375    0.023 {built-in method torch._C._linalg.linalg_inv}\n",
      "\n",
      "\n"
     ]
    },
    {
     "data": {
      "text/plain": [
       "<pstats.Stats at 0x142350e80>"
      ]
     },
     "execution_count": 3,
     "metadata": {},
     "output_type": "execute_result"
    }
   ],
   "source": [
    "cProfile\n",
    "cProfile.run(\"get_cube(70).solve()\", \"stats\")\n",
    "p = pstats.Stats(\"stats\")\n",
    "p.sort_stats(\"tottime\").print_stats(10)"
   ]
  }
 ],
 "metadata": {
  "kernelspec": {
   "display_name": "torchfem",
   "language": "python",
   "name": "python3"
  },
  "language_info": {
   "codemirror_mode": {
    "name": "ipython",
    "version": 3
   },
   "file_extension": ".py",
   "mimetype": "text/x-python",
   "name": "python",
   "nbconvert_exporter": "python",
   "pygments_lexer": "ipython3",
   "version": "3.10.13"
  }
 },
 "nbformat": 4,
 "nbformat_minor": 2
}
