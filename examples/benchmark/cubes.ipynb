{
 "cells": [
  {
   "cell_type": "code",
   "execution_count": 1,
   "metadata": {},
   "outputs": [],
   "source": [
    "import torch\n",
    "import time\n",
    "import scipy\n",
    "from memory_profiler import memory_usage\n",
    "import cProfile\n",
    "import pstats\n",
    "\n",
    "from torchfem import Solid\n",
    "from torchfem.materials import Isotropic"
   ]
  },
  {
   "cell_type": "code",
   "execution_count": 2,
   "metadata": {},
   "outputs": [],
   "source": [
    "def get_cube(N):\n",
    "    # Create nodes\n",
    "    grid = torch.linspace(0, 1, N)\n",
    "    x, y, z = torch.meshgrid(grid, grid, grid, indexing=\"ij\")\n",
    "    nodes = torch.vstack([x.ravel(), y.ravel(), z.ravel()]).T\n",
    "\n",
    "    # Create elements\n",
    "    indices = torch.arange(N**3).reshape((N, N, N))\n",
    "    n0 = indices[:-1, :-1, :-1].ravel()\n",
    "    n1 = indices[1:, :-1, :-1].ravel()\n",
    "    n2 = indices[:-1, 1:, :-1].ravel()\n",
    "    n3 = indices[1:, 1:, :-1].ravel()\n",
    "    n4 = indices[:-1, :-1, 1:].ravel()\n",
    "    n5 = indices[1:, :-1, 1:].ravel()\n",
    "    n6 = indices[:-1, 1:, 1:].ravel()\n",
    "    n7 = indices[1:, 1:, 1:].ravel()\n",
    "    elements = torch.vstack([n0, n1, n3, n2, n4, n5, n7, n6]).T\n",
    "\n",
    "    # Material model\n",
    "    material = Isotropic(E=1000.0, nu=0.3)\n",
    "\n",
    "    # Define cube\n",
    "    cube = Solid(nodes, elements, material)\n",
    "\n",
    "    # Assign boundary conditions\n",
    "    cube.forces = torch.zeros_like(nodes, requires_grad=True)\n",
    "    cube.constraints[nodes[:, 0] == 0.0, :] = True\n",
    "    cube.constraints[nodes[:, 0] == 1.0, 0] = True\n",
    "    cube.displacements[nodes[:, 0] == 1.0, 0] = 0.1\n",
    "\n",
    "    return cube"
   ]
  },
  {
   "cell_type": "markdown",
   "metadata": {},
   "source": [
    "### Memory analysis for cube of size 70\n",
    "\n",
    "**Initializing Object:** 4000 MB with 3000 MB in indices and 800 MB in vectorized material"
   ]
  },
  {
   "cell_type": "code",
   "execution_count": 3,
   "metadata": {},
   "outputs": [],
   "source": [
    "_ = get_cube(70).solve()"
   ]
  },
  {
   "cell_type": "code",
   "execution_count": 4,
   "metadata": {},
   "outputs": [
    {
     "name": "stdout",
     "output_type": "stream",
     "text": [
      "Sun Oct 27 17:22:25 2024    stats\n",
      "\n",
      "         26815 function calls (26711 primitive calls) in 7.613 seconds\n",
      "\n",
      "   Ordered by: internal time\n",
      "   List reduced from 274 to 10 due to restriction <10>\n",
      "\n",
      "   ncalls  tottime  percall  cumtime  percall filename:lineno(function)\n",
      "        1    2.512    2.512    2.512    2.512 {method 'coalesce' of 'torch._C.TensorBase' objects}\n",
      "      196    1.992    0.010    1.992    0.010 {built-in method scipy.sparse._sparsetools.csr_matvec}\n",
      "       96    1.840    0.019    1.840    0.019 {built-in method torch.einsum}\n",
      "        2    0.270    0.135    2.412    1.206 /Users/meyernil/Code/torch-fem/src/torchfem/base.py:75(integrate)\n",
      "        1    0.207    0.207    2.221    2.221 /Users/meyernil/miniforge3/envs/torchfem/lib/python3.10/site-packages/scipy/sparse/linalg/_isolve/minres.py:10(minres)\n",
      "      198    0.161    0.001    0.161    0.001 {built-in method torch.stack}\n",
      "        1    0.136    0.136    2.737    2.737 /Users/meyernil/Code/torch-fem/src/torchfem/base.py:117(assemble_stiffness)\n",
      "        2    0.085    0.042    0.085    0.042 {built-in method torch.cat}\n",
      "        1    0.074    0.074    0.074    0.074 {built-in method scipy.sparse._sparsetools.coo_tocsr}\n",
      "       16    0.074    0.005    0.074    0.005 {built-in method torch._C._linalg.linalg_inv}\n",
      "\n",
      "\n"
     ]
    },
    {
     "data": {
      "text/plain": [
       "<pstats.Stats at 0x122163490>"
      ]
     },
     "execution_count": 4,
     "metadata": {},
     "output_type": "execute_result"
    }
   ],
   "source": [
    "# cProfile\n",
    "cProfile.run(\"get_cube(40).solve()\", \"stats\")\n",
    "p = pstats.Stats(\"stats\")\n",
    "p.sort_stats(\"tottime\").print_stats(10)"
   ]
  },
  {
   "cell_type": "code",
   "execution_count": 5,
   "metadata": {},
   "outputs": [
    {
     "name": "stdout",
     "output_type": "stream",
     "text": [
      "Running N=10\n",
      "  ... forward pass with 3000 DOFs done in 0.84s.\n",
      "  ... backward pass with 3000 DOFs done in 0.66.\n",
      "Running N=20\n",
      "  ... forward pass with 24000 DOFs done in 5.92s.\n",
      "  ... backward pass with 24000 DOFs done in 5.45.\n",
      "Running N=30\n",
      "  ... forward pass with 81000 DOFs done in 2.94s.\n",
      "  ... backward pass with 81000 DOFs done in 1.58.\n",
      "Running N=40\n",
      "  ... forward pass with 192000 DOFs done in 7.86s.\n",
      "  ... backward pass with 192000 DOFs done in 4.08.\n",
      "Running N=50\n",
      "  ... forward pass with 375000 DOFs done in 16.45s.\n",
      "  ... backward pass with 375000 DOFs done in 9.30.\n",
      "Running N=60\n",
      "  ... forward pass with 648000 DOFs done in 31.62s.\n",
      "  ... backward pass with 648000 DOFs done in 19.37.\n",
      "Running N=70\n",
      "  ... forward pass with 1029000 DOFs done in 56.33s.\n",
      "  ... backward pass with 1029000 DOFs done in 34.10.\n",
      "Running N=80\n",
      "  ... forward pass with 1536000 DOFs done in 93.71s.\n",
      "  ... backward pass with 1536000 DOFs done in 56.53.\n",
      "Running N=90\n",
      "  ... forward pass with 2187000 DOFs done in 146.70s.\n",
      "  ... backward pass with 2187000 DOFs done in 109.08.\n"
     ]
    }
   ],
   "source": [
    "results = {}\n",
    "for N in [10, 20, 30, 40, 50, 60, 70, 80, 90]:\n",
    "    print(f\"Running N={N}\")\n",
    "    box = get_cube(N)\n",
    "    dofs = box.n_dofs\n",
    "\n",
    "    # Forward pass\n",
    "    start_time = time.time()\n",
    "    mem_usage, (u, f, sigma, epsilon, state) = memory_usage(\n",
    "        lambda: box.solve(), retval=True, interval=0.1\n",
    "    )\n",
    "    end_time = time.time()\n",
    "    fwd_mem_usage = max(mem_usage) - min(mem_usage)\n",
    "    fwd_time = end_time - start_time\n",
    "    print(f\"  ... forward pass with {dofs} DOFs done in {fwd_time:.2f}s.\")\n",
    "\n",
    "    # Backward pass\n",
    "    start_time = time.time()\n",
    "    mem_usage = memory_usage(lambda: u.sum().backward(retain_graph=True), interval=0.1)\n",
    "    end_time = time.time()\n",
    "    bwd_mem_usage = max(mem_usage) - min(mem_usage)\n",
    "    bwd_time = end_time - start_time\n",
    "    print(f\"  ... backward pass with {dofs} DOFs done in {bwd_time:.2f}.\")\n",
    "\n",
    "    results[N] = (\n",
    "        dofs,\n",
    "        fwd_time,\n",
    "        fwd_mem_usage,\n",
    "        bwd_time,\n",
    "        bwd_mem_usage,\n",
    "    )"
   ]
  },
  {
   "cell_type": "code",
   "execution_count": 6,
   "metadata": {},
   "outputs": [
    {
     "name": "stdout",
     "output_type": "stream",
     "text": [
      "|  N  |    DOFs | FWD Time |  FWD Memory | BWD Time |  BWD Memory |\n",
      "| --- | ------- | -------- | ----------- | -------- | ----------- |\n",
      "|  10 |    3000 |    0.84s |     0.53 MB |    0.66s |     0.12 MB |\n",
      "|  20 |   24000 |    5.92s |   268.69 MB |    5.45s |   235.25 MB |\n",
      "|  30 |   81000 |    2.94s |   670.89 MB |    1.58s |     0.62 MB |\n",
      "|  40 |  192000 |    7.86s |  1681.77 MB |    4.08s |   350.62 MB |\n",
      "|  50 |  375000 |   16.45s |  3056.41 MB |    9.30s |   834.12 MB |\n",
      "|  60 |  648000 |   31.62s |  4049.66 MB |   19.37s |  1296.44 MB |\n",
      "|  70 | 1029000 |   56.33s |  4495.06 MB |   34.10s |  2405.62 MB |\n",
      "|  80 | 1536000 |   93.71s |  6787.83 MB |   56.53s |  3716.17 MB |\n",
      "|  90 | 2187000 |  146.70s |  8282.39 MB |  109.08s |  6407.16 MB |\n",
      "Build Dependencies:\n",
      "  blas:\n",
      "    detection method: extraframeworks\n",
      "    found: true\n",
      "    include directory: unknown\n",
      "    lib directory: unknown\n",
      "    name: accelerate\n",
      "    openblas configuration: unknown\n",
      "    pc file directory: unknown\n",
      "    version: unknown\n",
      "  lapack:\n",
      "    detection method: extraframeworks\n",
      "    found: true\n",
      "    include directory: unknown\n",
      "    lib directory: unknown\n",
      "    name: accelerate\n",
      "    openblas configuration: unknown\n",
      "    pc file directory: unknown\n",
      "    version: unknown\n",
      "  pybind11:\n",
      "    detection method: config-tool\n",
      "    include directory: unknown\n",
      "    name: pybind11\n",
      "    version: 2.12.0\n",
      "Compilers:\n",
      "  c:\n",
      "    commands: cc\n",
      "    linker: ld64\n",
      "    name: clang\n",
      "    version: 15.0.0\n",
      "  c++:\n",
      "    commands: c++\n",
      "    linker: ld64\n",
      "    name: clang\n",
      "    version: 15.0.0\n",
      "  cython:\n",
      "    commands: cython\n",
      "    linker: cython\n",
      "    name: cython\n",
      "    version: 3.0.11\n",
      "  fortran:\n",
      "    commands: gfortran\n",
      "    linker: ld64\n",
      "    name: gcc\n",
      "    version: 13.3.0\n",
      "  pythran:\n",
      "    include directory: ../../../../../../private/var/folders/hw/1f0gcr8d6kn9ms0_wn0_57qc0000gn/T/pip-build-env-mmy0d4vk/overlay/lib/python3.10/site-packages/pythran\n",
      "    version: 0.16.1\n",
      "Machine Information:\n",
      "  build:\n",
      "    cpu: aarch64\n",
      "    endian: little\n",
      "    family: aarch64\n",
      "    system: darwin\n",
      "  cross-compiled: false\n",
      "  host:\n",
      "    cpu: aarch64\n",
      "    endian: little\n",
      "    family: aarch64\n",
      "    system: darwin\n",
      "Python Information:\n",
      "  path: /private/var/folders/hw/1f0gcr8d6kn9ms0_wn0_57qc0000gn/T/cibw-run-d9imboit/cp310-macosx_arm64/build/venv/bin/python\n",
      "  version: '3.10'\n",
      "\n"
     ]
    }
   ],
   "source": [
    "# Format results as a table\n",
    "print(\"|  N  |    DOFs | FWD Time |  FWD Memory | BWD Time |  BWD Memory |\")\n",
    "print(\"| --- | ------- | -------- | ----------- | -------- | ----------- |\")\n",
    "for N, (dofs, fwd_t, fwd_mem, bwd_t, bwd_mem) in results.items():\n",
    "    print(\n",
    "        f\"| {N:3d} | {dofs:7d} |\"\n",
    "        f\" {fwd_t:7.2f}s |  {fwd_mem:7.2f} MB |\"\n",
    "        f\" {bwd_t:7.2f}s |  {bwd_mem:7.2f} MB |\"\n",
    "    )\n",
    "\n",
    "\n",
    "scipy.show_config()"
   ]
  }
 ],
 "metadata": {
  "kernelspec": {
   "display_name": "torchfem",
   "language": "python",
   "name": "python3"
  },
  "language_info": {
   "codemirror_mode": {
    "name": "ipython",
    "version": 3
   },
   "file_extension": ".py",
   "mimetype": "text/x-python",
   "name": "python",
   "nbconvert_exporter": "python",
   "pygments_lexer": "ipython3",
   "version": "3.10.13"
  }
 },
 "nbformat": 4,
 "nbformat_minor": 2
}
