{
 "cells": [
  {
   "cell_type": "code",
   "execution_count": 20,
   "metadata": {},
   "outputs": [],
   "source": [
    "import torch\n",
    "\n",
    "import meshzoo\n",
    "\n",
    "from torchfem import Solid\n",
    "from torchfem.io import export_mesh"
   ]
  },
  {
   "attachments": {},
   "cell_type": "markdown",
   "metadata": {},
   "source": [
    "# Material model\n",
    "\n",
    "Isotropic linear elastic stiffness tensor"
   ]
  },
  {
   "cell_type": "code",
   "execution_count": 21,
   "metadata": {},
   "outputs": [],
   "source": [
    "# Material model\n",
    "E = 1000.0\n",
    "nu = 0.3\n",
    "lbd = (E * nu) / ((1.0 + nu) * (1.0 - 2.0 * nu))\n",
    "mu = E / (2.0 * (1.0 + nu))\n",
    "\n",
    "# E_xx, E_yy, E_zz, E_yz, E_xz, E_xy\n",
    "C = torch.tensor(\n",
    "    [\n",
    "        [lbd + 2.0 * mu, lbd, lbd, 0.0, 0.0, 0],\n",
    "        [lbd, lbd + 2.0 * mu, lbd, 0.0, 0.0, 0],\n",
    "        [lbd, lbd, lbd + 2.0 * mu, 0.0, 0.0, 0],\n",
    "        [0.0, 0.0, 0.0, mu, 0.0, 0],\n",
    "        [0.0, 0.0, 0.0, 0.0, mu, 0],\n",
    "        [0.0, 0.0, 0.0, 0.0, 0.0, mu],\n",
    "    ]\n",
    ")"
   ]
  },
  {
   "attachments": {},
   "cell_type": "markdown",
   "metadata": {},
   "source": [
    "# 3D Cube with hexaeders"
   ]
  },
  {
   "cell_type": "code",
   "execution_count": 22,
   "metadata": {},
   "outputs": [],
   "source": [
    "# Generate cube\n",
    "points, cells = meshzoo.cube_hexa(\n",
    "    torch.linspace(0.0, 1.0, 5),\n",
    "    torch.linspace(0.0, 1.0, 5),\n",
    "    torch.linspace(0.0, 1.0, 5),\n",
    ")\n",
    "nodes = torch.tensor(points)\n",
    "elements = cells.tolist()\n",
    "\n",
    "# Assign boundary conditions\n",
    "forces = torch.zeros_like(nodes)\n",
    "forces[nodes[:, 0] == 1.0, 0] = 100.0\n",
    "constraints = torch.zeros_like(nodes, dtype=bool)\n",
    "constraints[nodes[:, 0] == 0.0, :] = True\n",
    "\n",
    "box = Solid(nodes, elements, forces, constraints, C)\n",
    "\n",
    "u, f = box.solve()\n",
    "\n",
    "export_mesh(box, \"cube_hexa.vtk\", nodal_data={\"Disp\": u})"
   ]
  },
  {
   "attachments": {},
   "cell_type": "markdown",
   "metadata": {},
   "source": [
    "# 3D Cube with tetrahedrons"
   ]
  },
  {
   "cell_type": "code",
   "execution_count": 23,
   "metadata": {},
   "outputs": [],
   "source": [
    "# Generate cube\n",
    "points, cells = meshzoo.cube_tetra(\n",
    "    torch.linspace(0.0, 1.0, 3),\n",
    "    torch.linspace(0.0, 1.0, 3),\n",
    "    torch.linspace(0.0, 1.0, 3),\n",
    ")\n",
    "nodes = torch.tensor(points)\n",
    "elements = cells.tolist()\n",
    "\n",
    "# Assign boundary conditions\n",
    "forces = torch.zeros_like(nodes)\n",
    "forces[nodes[:, 0] == 1.0, 0] = 100.0\n",
    "constraints = torch.zeros_like(nodes, dtype=bool)\n",
    "constraints[nodes[:, 0] == 0.0, :] = True\n",
    "\n",
    "box = Solid(nodes, elements, forces, constraints, C)\n",
    "\n",
    "u, f = box.solve()\n",
    "\n",
    "export_mesh(box, \"cube_tetra.vtk\", nodal_data={\"Disp\": u})"
   ]
  }
 ],
 "metadata": {
  "kernelspec": {
   "display_name": "torchfem",
   "language": "python",
   "name": "python3"
  },
  "language_info": {
   "codemirror_mode": {
    "name": "ipython",
    "version": 3
   },
   "file_extension": ".py",
   "mimetype": "text/x-python",
   "name": "python",
   "nbconvert_exporter": "python",
   "pygments_lexer": "ipython3",
   "version": "3.11.3"
  },
  "orig_nbformat": 4
 },
 "nbformat": 4,
 "nbformat_minor": 2
}
