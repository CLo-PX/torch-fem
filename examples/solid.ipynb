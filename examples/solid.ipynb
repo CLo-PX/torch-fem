{
 "cells": [
  {
   "cell_type": "code",
   "execution_count": 9,
   "metadata": {},
   "outputs": [],
   "source": [
    "import torch\n",
    "\n",
    "from torchfem import Solid\n",
    "from torchfem.io import export_mesh"
   ]
  },
  {
   "attachments": {},
   "cell_type": "markdown",
   "metadata": {},
   "source": [
    "# 3D Box with a single element"
   ]
  },
  {
   "cell_type": "code",
   "execution_count": 10,
   "metadata": {},
   "outputs": [],
   "source": [
    "# Material model\n",
    "E = 1000.0\n",
    "nu = 0.3\n",
    "lbd = (E * nu) / ((1.0 + nu) * (1.0 - 2.0 * nu))\n",
    "mu = E / (2.0 * (1.0 + nu))\n",
    "\n",
    "# E_xx, E_yy, E_zz, E_yz, E_xz, E_xy\n",
    "C = torch.tensor(\n",
    "    [\n",
    "        [lbd + 2.0 * mu, lbd, lbd, 0.0, 0.0, 0],\n",
    "        [lbd, lbd + 2.0 * mu, lbd, 0.0, 0.0, 0],\n",
    "        [lbd, lbd, lbd + 2.0 * mu, 0.0, 0.0, 0],\n",
    "        [0.0, 0.0, 0.0, mu, 0.0, 0],\n",
    "        [0.0, 0.0, 0.0, 0.0, mu, 0],\n",
    "        [0.0, 0.0, 0.0, 0.0, 0.0, mu],\n",
    "    ]\n",
    ")\n",
    "\n",
    "nodes = torch.tensor(\n",
    "    [[i, j, k] for k in [0.0, 1.0] for j in [0.0, 1.0] for i in [0.0, 1.0]]\n",
    ")\n",
    "elements = [[0, 1, 3, 2, 4, 5, 7, 6]]\n",
    "forces = torch.zeros_like(nodes)\n",
    "forces[nodes[:, 0] == 1.0, 0] = 100.0\n",
    "constraints = torch.zeros_like(nodes, dtype=bool)\n",
    "constraints[nodes[:, 0] == 0.0, :] = True\n",
    "\n",
    "box = Solid(nodes, elements, forces, constraints, C)\n",
    "\n",
    "u, f = box.solve()\n",
    "\n",
    "export_mesh(box, \"temp.vtk\", nodal_data={\"Disp\": u})"
   ]
  }
 ],
 "metadata": {
  "kernelspec": {
   "display_name": "torchfem",
   "language": "python",
   "name": "python3"
  },
  "language_info": {
   "codemirror_mode": {
    "name": "ipython",
    "version": 3
   },
   "file_extension": ".py",
   "mimetype": "text/x-python",
   "name": "python",
   "nbconvert_exporter": "python",
   "pygments_lexer": "ipython3",
   "version": "3.11.3"
  },
  "orig_nbformat": 4
 },
 "nbformat": 4,
 "nbformat_minor": 2
}
