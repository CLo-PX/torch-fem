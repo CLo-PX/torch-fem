{
 "cells": [
  {
   "cell_type": "code",
   "execution_count": 1,
   "metadata": {},
   "outputs": [],
   "source": [
    "from math import sqrt\n",
    "\n",
    "import meshzoo\n",
    "import torch\n",
    "torch.set_default_dtype(torch.double) # noqa\n",
    "from tqdm import tqdm\n",
    "\n",
    "from torchfem import Shell\n",
    "\n",
    "import matplotlib.pyplot as plt"
   ]
  },
  {
   "cell_type": "code",
   "execution_count": 2,
   "metadata": {},
   "outputs": [],
   "source": [
    "# Material parameters\n",
    "E = 200000\n",
    "nu = 0.3\n",
    "\n",
    "# Define nodes and element of the cantilever\n",
    "X = torch.linspace(0.0, 100.0, 9)\n",
    "Y = torch.linspace(0.0, 50.0, 9)\n",
    "points, cells = meshzoo.rectangle_tri(X, Y, variant=\"zigzag\")\n",
    "N = len(points)\n",
    "nodes = torch.hstack([torch.tensor(points, dtype=torch.float32), torch.zeros((N, 1))])\n",
    "elements = cells.tolist()\n",
    "\n",
    "# Define masks for boundaries\n",
    "left = nodes[:, 0] < 0.01\n",
    "tip = (nodes[:, 0] > 99.9) & (nodes[:, 1] < 25.01) & (nodes[:, 1] > 24.99)\n",
    "\n",
    "# Apply load boundary conditions\n",
    "forces = torch.zeros((N, 6))\n",
    "forces[tip, 2] = 50\n",
    "\n",
    "# Apply displacement boundary conditions\n",
    "displacements = torch.zeros((N, 6))\n",
    "constraints = torch.zeros((N, 6), dtype=bool)\n",
    "constraints[left] = True\n",
    "\n",
    "# Thickness\n",
    "thickness = torch.ones(len(elements))\n",
    "\n",
    "# Define Shell model\n",
    "cantilever = Shell(\n",
    "    nodes, elements, forces, displacements, constraints, thickness, E, nu\n",
    ")"
   ]
  },
  {
   "cell_type": "code",
   "execution_count": 3,
   "metadata": {},
   "outputs": [
    {
     "name": "stderr",
     "output_type": "stream",
     "text": [
      "100%|██████████| 100/100 [00:01<00:00, 67.85it/s]\n"
     ]
    }
   ],
   "source": [
    "from scipy.optimize import bisect\n",
    "\n",
    "# Parameters\n",
    "iter = 100\n",
    "vol_frac = 0.5\n",
    "s = 0.7\n",
    "\n",
    "# Initial thickness, minimum thickness, maximum thickness\n",
    "d_0 = 2.5 * torch.ones(len(cantilever.elements), requires_grad=True)\n",
    "d_min = 0.1 * torch.ones(len(cantilever.elements))\n",
    "d_max = 5.0 * torch.ones(len(cantilever.elements))\n",
    "\n",
    "# Compute element-wise areas with one-point integration\n",
    "J = cantilever.etype.B([0.0, 0.0]) @ cantilever.loc_nodes\n",
    "areas = torch.linalg.det(J) / 2.0\n",
    "\n",
    "# Initial volume (50% of maximum available design volume)\n",
    "V_0 = vol_frac * torch.inner(d_max, areas)\n",
    "\n",
    "# Lists for compliances, thickness results and asymptotes\n",
    "comp = []\n",
    "d = [d_0]\n",
    "L = []\n",
    "\n",
    "# Iterate solutions\n",
    "for k in tqdm(range(iter)):\n",
    "    # Solve the problem at d_k\n",
    "    cantilever.thickness = d[k]\n",
    "    u_k, f_k = cantilever.solve()\n",
    "\n",
    "    # Evaluation of compliance\n",
    "    compliance = 0.5 * torch.inner(f_k.ravel(), u_k.ravel())\n",
    "\n",
    "    # Compute sensitivty thanks to differentiable torchfem solver\n",
    "    sensitivity = torch.autograd.grad(compliance, d[k])[0]\n",
    "\n",
    "    # Compute asymptote\n",
    "    if k <= 1:\n",
    "        L_k = d[k] - s * (d_max - d_min)\n",
    "    else:\n",
    "        L_k = torch.zeros_like(L[k - 1])\n",
    "        for j in range(len(L_k)):\n",
    "            if (d[k][j] - d[k - 1][j]) * (d[k - 1][j] - d[k - 2][j]) < 0.0:\n",
    "                L_k[j] = d[k][j] - s * (d[k - 1][j] - L[k - 1][j])\n",
    "            else:\n",
    "                L_k[j] = d[k][j] - 1 / sqrt(s) * (d[k - 1][j] - L[k - 1][j])\n",
    "    L.append(L_k)\n",
    "\n",
    "    # Compute lower move limit in this step\n",
    "    d_min_k = torch.maximum(d_min, 0.9 * L[k] + 0.1 * d[k])\n",
    "\n",
    "    # Analytical solution\n",
    "    def d_star(mu):\n",
    "        d_hat = L[k] + torch.sqrt((-sensitivity * (L[k] - d[k]) ** 2) / (mu * areas))\n",
    "        return torch.maximum(torch.minimum(d_hat, d_max), d_min_k)\n",
    "\n",
    "    # Analytical gradient\n",
    "    def grad(mu):\n",
    "        return torch.dot(d_star(mu), areas) - V_0\n",
    "\n",
    "    # Solve dual problem\n",
    "    with torch.no_grad():\n",
    "        mu_star = bisect(grad, 1e-10, 1.0)\n",
    "\n",
    "    # Compute current optimal point with dual solution\n",
    "    comp.append(compliance.detach())\n",
    "    d.append(d_star(mu_star))"
   ]
  },
  {
   "cell_type": "code",
   "execution_count": 4,
   "metadata": {},
   "outputs": [
    {
     "data": {
      "image/png": "[encoded data removed]",
      "text/plain": [
       "<Figure size 640x480 with 1 Axes>"
      ]
     },
     "metadata": {},
     "output_type": "display_data"
    }
   ],
   "source": [
    "plt.plot(comp, \".-k\")\n",
    "plt.title(\"Optimization history\")\n",
    "plt.xlabel(\"Iteration\")\n",
    "plt.ylabel(\"Compliance\")\n",
    "plt.show()"
   ]
  },
  {
   "cell_type": "code",
   "execution_count": 5,
   "metadata": {},
   "outputs": [
    {
     "data": {
      "application/vnd.jupyter.widget-view+json": {
       "model_id": "6f5f043a2ebc411f97b7014a84c2aaba",
       "version_major": 2,
       "version_minor": 0
      },
      "text/plain": [
       "Widget(value=\"<iframe src='http://localhost:62344/index.html?ui=P_0x16ad19e50_0&reconnect=auto' style='width: …"
      ]
     },
     "metadata": {},
     "output_type": "display_data"
    }
   ],
   "source": [
    "# Solve\n",
    "u, f = cantilever.solve()\n",
    "cantilever.plot(u[:, 0:3], element_property={\"t\": cantilever.thickness}, thickness=True)"
   ]
  }
 ],
 "metadata": {
  "kernelspec": {
   "display_name": "torchfem",
   "language": "python",
   "name": "python3"
  },
  "language_info": {
   "codemirror_mode": {
    "name": "ipython",
    "version": 3
   },
   "file_extension": ".py",
   "mimetype": "text/x-python",
   "name": "python",
   "nbconvert_exporter": "python",
   "pygments_lexer": "ipython3",
   "version": "3.11.4"
  }
 },
 "nbformat": 4,
 "nbformat_minor": 2
}
