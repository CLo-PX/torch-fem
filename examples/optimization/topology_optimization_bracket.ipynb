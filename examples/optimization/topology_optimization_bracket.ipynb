{
 "cells": [
  {
   "cell_type": "markdown",
   "metadata": {},
   "source": [
    "# Topology optimization of the GE jet engine bracket challenge\n",
    "\n",
    "The GE jet engine bracket challenge was a design challenge posted on GrabCAD [1].\n",
    "\n",
    "\n",
    "[1] https://grabcad.com/challenges/ge-jet-engine-bracket-challenge"
   ]
  },
  {
   "cell_type": "code",
   "execution_count": 1,
   "metadata": {},
   "outputs": [],
   "source": [
    "import meshio\n",
    "import torch\n",
    "import numpy as np\n",
    "from tqdm import tqdm\n",
    "import matplotlib.pyplot as plt\n",
    "from torchfem import Solid\n",
    "from scipy.optimize import bisect\n",
    "from torchfem.materials import Isotropic\n",
    "from torchfem.examples import get_example_file\n",
    "\n",
    "torch.set_default_dtype(torch.float64)"
   ]
  },
  {
   "cell_type": "code",
   "execution_count": null,
   "metadata": {},
   "outputs": [],
   "source": [
    "# Material model (Ti-6Al-4V) in imperial units\n",
    "material = Isotropic(E=16500.0, nu=0.342)"
   ]
  },
  {
   "cell_type": "markdown",
   "metadata": {},
   "source": [
    "## Mesh \n",
    "\n",
    "The domain is meshed with linear tetrahedrons in gmsh and subdivided in seven geometrical domains."
   ]
  },
  {
   "cell_type": "code",
   "execution_count": 3,
   "metadata": {},
   "outputs": [
    {
     "data": {
      "application/vnd.jupyter.widget-view+json": {
       "model_id": "9bc77185b14646039804ed54b6e39ee9",
       "version_major": 2,
       "version_minor": 0
      },
      "text/plain": [
       "Widget(value='<iframe src=\"http://localhost:57420/index.html?ui=P_0x301de5900_0&reconnect=auto\" class=\"pyvista…"
      ]
     },
     "metadata": {},
     "output_type": "display_data"
    }
   ],
   "source": [
    "mesh = meshio.read(get_example_file(\"ge_bracket.vtu\"))\n",
    "elements = torch.tensor(mesh.cells[0].data)\n",
    "nodes = torch.tensor(mesh.points)\n",
    "dom = torch.tensor(mesh.cell_data[\"gmsh:geometrical\"][0])\n",
    "\n",
    "model = Solid(nodes, elements, material)\n",
    "cmap = plt.get_cmap(\"tab10\", 7)\n",
    "model.plot(element_property={\"Domain\": dom}, cmap=cmap)"
   ]
  },
  {
   "cell_type": "code",
   "execution_count": 4,
   "metadata": {},
   "outputs": [
    {
     "data": {
      "application/vnd.jupyter.widget-view+json": {
       "model_id": "58545cfd15db46e1816608469353809f",
       "version_major": 2,
       "version_minor": 0
      },
      "text/plain": [
       "Widget(value='<iframe src=\"http://localhost:57420/index.html?ui=P_0x316de7550_1&reconnect=auto\" class=\"pyvista…"
      ]
     },
     "metadata": {},
     "output_type": "display_data"
    }
   ],
   "source": [
    "interface_1 = torch.unique(elements[(dom == 2) | (dom == 7)])\n",
    "interface_2 = torch.unique(elements[(dom == 1) | (dom == 3) | (dom == 4) | (dom == 5)])\n",
    "\n",
    "# Design elements\n",
    "design_elements = elements[dom == 6]\n",
    "\n",
    "# Define load cases (this is not using multi-point constraints yet...)\n",
    "load_case_1 = torch.zeros_like(nodes)\n",
    "load_case_1[interface_1, 2] = 8000 / len(interface_1)\n",
    "load_case_2 = torch.zeros_like(nodes)\n",
    "load_case_2[interface_1, 1] = -8500 / len(interface_1)\n",
    "load_case_3 = torch.zeros_like(nodes)\n",
    "load_case_3[interface_1, 1] = -9500 * np.sin(np.deg2rad(42)) / len(interface_1)\n",
    "load_case_3[interface_1, 2] = 9500 * np.cos(np.deg2rad(42)) / len(interface_1)\n",
    "load_case_4 = torch.zeros_like(nodes)\n",
    "levers = nodes[interface_1] - torch.tensor([0.0, 0.0, 0.0])\n",
    "load_case_4[interface_1, 1] = 5000 / levers[:, 0] / len(interface_1)\n",
    "\n",
    "# Apply load case 1\n",
    "model.forces = load_case_3\n",
    "\n",
    "# Constrained nodes at interface 2\n",
    "model.constraints[interface_2, :] = True\n",
    "\n",
    "# Solve\n",
    "u, f, sigma, epsilon, state = model.solve()\n",
    "\n",
    "# Plot\n",
    "model.plot(node_property={\"u\": u})"
   ]
  },
  {
   "cell_type": "markdown",
   "metadata": {},
   "source": [
    "## Optimization parameters \n",
    "We define the optimization parameters, i.e. the volume fraction, the penalization factor, the move limit, the filter radius, and the number of iterations."
   ]
  },
  {
   "cell_type": "code",
   "execution_count": 5,
   "metadata": {},
   "outputs": [],
   "source": [
    "volfrac = 0.15\n",
    "p = 3\n",
    "move = 0.2\n",
    "R = 5.0"
   ]
  },
  {
   "cell_type": "code",
   "execution_count": 16,
   "metadata": {},
   "outputs": [
    {
     "name": "stdout",
     "output_type": "stream",
     "text": [
      "torch.Size([209644])\n"
     ]
    }
   ],
   "source": [
    "B = model.etype.B(model.xi)\n",
    "J = torch.einsum(\"ijk,mkl->imjl\", B, nodes[design_elements, :])\n",
    "detJ = torch.linalg.det(J)\n",
    "vols = torch.einsum(\"i,ij->ij\", model.w, detJ).sum(dim=0)"
   ]
  },
  {
   "cell_type": "code",
   "execution_count": 18,
   "metadata": {},
   "outputs": [],
   "source": [
    "# Initial, minimum, and maximum values of design variables\n",
    "rho_0 = volfrac * torch.ones(len(design_elements))\n",
    "rho_min = 0.01 * torch.ones_like(rho_0)\n",
    "rho_max = torch.ones_like(rho_0)\n",
    "\n",
    "# Volume fraction\n",
    "V_0 = volfrac * vols.sum()\n",
    "\n",
    "# Analytical gradient of the stiffness matrix\n",
    "k0 = model.k0()[dom == 6].clone()\n",
    "C0 = model.material.C[:, dom == 6].clone()\n",
    "\n",
    "# Precompute filter weights (in chunks and as sparse matrix to save memory)\n",
    "ecenters = nodes[design_elements].mean(axis=1)\n",
    "row = []\n",
    "col = []\n",
    "values = []\n",
    "i = 0\n",
    "for chunk in ecenters.chunk(1000):\n",
    "    d = torch.cdist(chunk, ecenters)\n",
    "    H = R - d\n",
    "    mask = d < R\n",
    "    r, c = torch.where(mask)\n",
    "    row.append(r + i)\n",
    "    col.append(c)\n",
    "    values.append(H[mask])\n",
    "    i += len(chunk)\n",
    "\n",
    "row = torch.cat(row)\n",
    "col = torch.cat(col)\n",
    "values = torch.cat(values)\n",
    "\n",
    "H = torch.sparse_coo_tensor(\n",
    "    indices=torch.stack([row, col]),\n",
    "    values=values,\n",
    "    size=(len(design_elements), len(design_elements)),\n",
    ")\n",
    "\n",
    "H_sum = H.sum(dim=0).to_dense()"
   ]
  },
  {
   "cell_type": "markdown",
   "metadata": {},
   "source": [
    "## Optimization with optimality constraints. \n",
    "\n",
    "This may take an hour to run. Performance optimization is pending..."
   ]
  },
  {
   "cell_type": "code",
   "execution_count": 21,
   "metadata": {},
   "outputs": [
    {
     "name": "stderr",
     "output_type": "stream",
     "text": [
      " 12%|█▏        | 3/25 [16:34<2:01:31, 331.43s/it]\n"
     ]
    },
    {
     "ename": "KeyboardInterrupt",
     "evalue": "",
     "output_type": "error",
     "traceback": [
      "\u001b[0;31m---------------------------------------------------------------------------\u001b[0m",
      "\u001b[0;31mKeyboardInterrupt\u001b[0m                         Traceback (most recent call last)",
      "Cell \u001b[0;32mIn[21], line 15\u001b[0m\n\u001b[1;32m     13\u001b[0m model\u001b[38;5;241m.\u001b[39mforces \u001b[38;5;241m=\u001b[39m lc\n\u001b[1;32m     14\u001b[0m \u001b[38;5;66;03m# Compute solution\u001b[39;00m\n\u001b[0;32m---> 15\u001b[0m u_k, f_k, _, _, _ \u001b[38;5;241m=\u001b[39m \u001b[43mmodel\u001b[49m\u001b[38;5;241;43m.\u001b[39;49m\u001b[43msolve\u001b[49m\u001b[43m(\u001b[49m\u001b[43m)\u001b[49m\n\u001b[1;32m     16\u001b[0m \u001b[38;5;66;03m# Evaluation of compliance\u001b[39;00m\n\u001b[1;32m     17\u001b[0m compliance \u001b[38;5;241m=\u001b[39m torch\u001b[38;5;241m.\u001b[39minner(f_k\u001b[38;5;241m.\u001b[39mravel(), u_k\u001b[38;5;241m.\u001b[39mravel())\n",
      "File \u001b[0;32m~/Code/torch-fem/src/torchfem/solid.py:198\u001b[0m, in \u001b[0;36mSolid.solve\u001b[0;34m(self, increments, max_iter, tol, verbose, return_intermediate, aggregate_integration_points)\u001b[0m\n\u001b[1;32m    195\u001b[0m         \u001b[38;5;28;01mbreak\u001b[39;00m\n\u001b[1;32m    197\u001b[0m     \u001b[38;5;66;03m# Solve for displacement increment\u001b[39;00m\n\u001b[0;32m--> 198\u001b[0m     du \u001b[38;5;241m-\u001b[39m\u001b[38;5;241m=\u001b[39m \u001b[43msparse_solve\u001b[49m\u001b[43m(\u001b[49m\u001b[43mK\u001b[49m\u001b[43m,\u001b[49m\u001b[43m \u001b[49m\u001b[43mresidual\u001b[49m\u001b[43m)\u001b[49m\n\u001b[1;32m    200\u001b[0m \u001b[38;5;66;03m# Update increment\u001b[39;00m\n\u001b[1;32m    201\u001b[0m epsilon[i] \u001b[38;5;241m=\u001b[39m epsilon_new\n",
      "File \u001b[0;32m~/miniforge3/envs/torchfem/lib/python3.10/site-packages/torch/autograd/function.py:598\u001b[0m, in \u001b[0;36mFunction.apply\u001b[0;34m(cls, *args, **kwargs)\u001b[0m\n\u001b[1;32m    595\u001b[0m \u001b[38;5;28;01mif\u001b[39;00m \u001b[38;5;129;01mnot\u001b[39;00m torch\u001b[38;5;241m.\u001b[39m_C\u001b[38;5;241m.\u001b[39m_are_functorch_transforms_active():\n\u001b[1;32m    596\u001b[0m     \u001b[38;5;66;03m# See NOTE: [functorch vjp and autograd interaction]\u001b[39;00m\n\u001b[1;32m    597\u001b[0m     args \u001b[38;5;241m=\u001b[39m _functorch\u001b[38;5;241m.\u001b[39mutils\u001b[38;5;241m.\u001b[39munwrap_dead_wrappers(args)\n\u001b[0;32m--> 598\u001b[0m     \u001b[38;5;28;01mreturn\u001b[39;00m \u001b[38;5;28;43msuper\u001b[39;49m\u001b[43m(\u001b[49m\u001b[43m)\u001b[49m\u001b[38;5;241;43m.\u001b[39;49m\u001b[43mapply\u001b[49m\u001b[43m(\u001b[49m\u001b[38;5;241;43m*\u001b[39;49m\u001b[43margs\u001b[49m\u001b[43m,\u001b[49m\u001b[43m \u001b[49m\u001b[38;5;241;43m*\u001b[39;49m\u001b[38;5;241;43m*\u001b[39;49m\u001b[43mkwargs\u001b[49m\u001b[43m)\u001b[49m  \u001b[38;5;66;03m# type: ignore[misc]\u001b[39;00m\n\u001b[1;32m    600\u001b[0m \u001b[38;5;28;01mif\u001b[39;00m \u001b[38;5;129;01mnot\u001b[39;00m is_setup_ctx_defined:\n\u001b[1;32m    601\u001b[0m     \u001b[38;5;28;01mraise\u001b[39;00m \u001b[38;5;167;01mRuntimeError\u001b[39;00m(\n\u001b[1;32m    602\u001b[0m         \u001b[38;5;124m\"\u001b[39m\u001b[38;5;124mIn order to use an autograd.Function with functorch transforms \u001b[39m\u001b[38;5;124m\"\u001b[39m\n\u001b[1;32m    603\u001b[0m         \u001b[38;5;124m\"\u001b[39m\u001b[38;5;124m(vmap, grad, jvp, jacrev, ...), it must override the setup_context \u001b[39m\u001b[38;5;124m\"\u001b[39m\n\u001b[1;32m    604\u001b[0m         \u001b[38;5;124m\"\u001b[39m\u001b[38;5;124mstaticmethod. For more details, please see \u001b[39m\u001b[38;5;124m\"\u001b[39m\n\u001b[1;32m    605\u001b[0m         \u001b[38;5;124m\"\u001b[39m\u001b[38;5;124mhttps://pytorch.org/docs/master/notes/extending.func.html\u001b[39m\u001b[38;5;124m\"\u001b[39m\n\u001b[1;32m    606\u001b[0m     )\n",
      "File \u001b[0;32m~/Code/torch-fem/src/torchfem/sparse.py:31\u001b[0m, in \u001b[0;36mSolve.forward\u001b[0;34m(ctx, A, b)\u001b[0m\n\u001b[1;32m     28\u001b[0m     x_np \u001b[38;5;241m=\u001b[39m spsolve(A_np, b_np)\n\u001b[1;32m     29\u001b[0m \u001b[38;5;28;01melse\u001b[39;00m:\n\u001b[1;32m     30\u001b[0m     \u001b[38;5;66;03m# Solve large systems with iterative solver\u001b[39;00m\n\u001b[0;32m---> 31\u001b[0m     x_np, exit_code \u001b[38;5;241m=\u001b[39m \u001b[43mminres\u001b[49m\u001b[43m(\u001b[49m\u001b[43mA_np\u001b[49m\u001b[43m,\u001b[49m\u001b[43m \u001b[49m\u001b[43mb_np\u001b[49m\u001b[43m,\u001b[49m\u001b[43m \u001b[49m\u001b[43mrtol\u001b[49m\u001b[38;5;241;43m=\u001b[39;49m\u001b[38;5;241;43m1e-10\u001b[39;49m\u001b[43m)\u001b[49m\n\u001b[1;32m     32\u001b[0m     \u001b[38;5;28;01mif\u001b[39;00m exit_code \u001b[38;5;241m!=\u001b[39m \u001b[38;5;241m0\u001b[39m:\n\u001b[1;32m     33\u001b[0m         \u001b[38;5;28;01mraise\u001b[39;00m \u001b[38;5;167;01mRuntimeError\u001b[39;00m(\u001b[38;5;124mf\u001b[39m\u001b[38;5;124m\"\u001b[39m\u001b[38;5;124mminres failed with exit code \u001b[39m\u001b[38;5;132;01m{\u001b[39;00mexit_code\u001b[38;5;132;01m}\u001b[39;00m\u001b[38;5;124m\"\u001b[39m)\n",
      "File \u001b[0;32m~/miniforge3/envs/torchfem/lib/python3.10/site-packages/scipy/sparse/linalg/_isolve/minres.py:209\u001b[0m, in \u001b[0;36mminres\u001b[0;34m(A, b, x0, rtol, shift, maxiter, M, callback, show, check)\u001b[0m\n\u001b[1;32m    206\u001b[0m s \u001b[38;5;241m=\u001b[39m \u001b[38;5;241m1.0\u001b[39m\u001b[38;5;241m/\u001b[39mbeta\n\u001b[1;32m    207\u001b[0m v \u001b[38;5;241m=\u001b[39m s\u001b[38;5;241m*\u001b[39my\n\u001b[0;32m--> 209\u001b[0m y \u001b[38;5;241m=\u001b[39m \u001b[43mmatvec\u001b[49m\u001b[43m(\u001b[49m\u001b[43mv\u001b[49m\u001b[43m)\u001b[49m\n\u001b[1;32m    210\u001b[0m y \u001b[38;5;241m=\u001b[39m y \u001b[38;5;241m-\u001b[39m shift \u001b[38;5;241m*\u001b[39m v\n\u001b[1;32m    212\u001b[0m \u001b[38;5;28;01mif\u001b[39;00m itn \u001b[38;5;241m>\u001b[39m\u001b[38;5;241m=\u001b[39m \u001b[38;5;241m2\u001b[39m:\n",
      "File \u001b[0;32m~/miniforge3/envs/torchfem/lib/python3.10/site-packages/scipy/sparse/linalg/_interface.py:236\u001b[0m, in \u001b[0;36mLinearOperator.matvec\u001b[0;34m(self, x)\u001b[0m\n\u001b[1;32m    233\u001b[0m \u001b[38;5;28;01mif\u001b[39;00m x\u001b[38;5;241m.\u001b[39mshape \u001b[38;5;241m!=\u001b[39m (N,) \u001b[38;5;129;01mand\u001b[39;00m x\u001b[38;5;241m.\u001b[39mshape \u001b[38;5;241m!=\u001b[39m (N,\u001b[38;5;241m1\u001b[39m):\n\u001b[1;32m    234\u001b[0m     \u001b[38;5;28;01mraise\u001b[39;00m \u001b[38;5;167;01mValueError\u001b[39;00m(\u001b[38;5;124m'\u001b[39m\u001b[38;5;124mdimension mismatch\u001b[39m\u001b[38;5;124m'\u001b[39m)\n\u001b[0;32m--> 236\u001b[0m y \u001b[38;5;241m=\u001b[39m \u001b[38;5;28;43mself\u001b[39;49m\u001b[38;5;241;43m.\u001b[39;49m\u001b[43m_matvec\u001b[49m\u001b[43m(\u001b[49m\u001b[43mx\u001b[49m\u001b[43m)\u001b[49m\n\u001b[1;32m    238\u001b[0m \u001b[38;5;28;01mif\u001b[39;00m \u001b[38;5;28misinstance\u001b[39m(x, np\u001b[38;5;241m.\u001b[39mmatrix):\n\u001b[1;32m    239\u001b[0m     y \u001b[38;5;241m=\u001b[39m asmatrix(y)\n",
      "File \u001b[0;32m~/miniforge3/envs/torchfem/lib/python3.10/site-packages/scipy/sparse/linalg/_interface.py:203\u001b[0m, in \u001b[0;36mLinearOperator._matvec\u001b[0;34m(self, x)\u001b[0m\n\u001b[1;32m    193\u001b[0m \u001b[38;5;28;01mdef\u001b[39;00m \u001b[38;5;21m_matvec\u001b[39m(\u001b[38;5;28mself\u001b[39m, x):\n\u001b[1;32m    194\u001b[0m \u001b[38;5;250m    \u001b[39m\u001b[38;5;124;03m\"\"\"Default matrix-vector multiplication handler.\u001b[39;00m\n\u001b[1;32m    195\u001b[0m \n\u001b[1;32m    196\u001b[0m \u001b[38;5;124;03m    If self is a linear operator of shape (M, N), then this method will\u001b[39;00m\n\u001b[0;32m   (...)\u001b[0m\n\u001b[1;32m    201\u001b[0m \u001b[38;5;124;03m    will define matrix-vector multiplication as well.\u001b[39;00m\n\u001b[1;32m    202\u001b[0m \u001b[38;5;124;03m    \"\"\"\u001b[39;00m\n\u001b[0;32m--> 203\u001b[0m     \u001b[38;5;28;01mreturn\u001b[39;00m \u001b[38;5;28;43mself\u001b[39;49m\u001b[38;5;241;43m.\u001b[39;49m\u001b[43mmatmat\u001b[49m\u001b[43m(\u001b[49m\u001b[43mx\u001b[49m\u001b[38;5;241;43m.\u001b[39;49m\u001b[43mreshape\u001b[49m\u001b[43m(\u001b[49m\u001b[38;5;241;43m-\u001b[39;49m\u001b[38;5;241;43m1\u001b[39;49m\u001b[43m,\u001b[49m\u001b[43m \u001b[49m\u001b[38;5;241;43m1\u001b[39;49m\u001b[43m)\u001b[49m\u001b[43m)\u001b[49m\n",
      "File \u001b[0;32m~/miniforge3/envs/torchfem/lib/python3.10/site-packages/scipy/sparse/linalg/_interface.py:340\u001b[0m, in \u001b[0;36mLinearOperator.matmat\u001b[0;34m(self, X)\u001b[0m\n\u001b[1;32m    337\u001b[0m     \u001b[38;5;28;01mraise\u001b[39;00m \u001b[38;5;167;01mValueError\u001b[39;00m(\u001b[38;5;124mf\u001b[39m\u001b[38;5;124m'\u001b[39m\u001b[38;5;124mdimension mismatch: \u001b[39m\u001b[38;5;132;01m{\u001b[39;00m\u001b[38;5;28mself\u001b[39m\u001b[38;5;241m.\u001b[39mshape\u001b[38;5;132;01m}\u001b[39;00m\u001b[38;5;124m, \u001b[39m\u001b[38;5;132;01m{\u001b[39;00mX\u001b[38;5;241m.\u001b[39mshape\u001b[38;5;132;01m}\u001b[39;00m\u001b[38;5;124m'\u001b[39m)\n\u001b[1;32m    339\u001b[0m \u001b[38;5;28;01mtry\u001b[39;00m:\n\u001b[0;32m--> 340\u001b[0m     Y \u001b[38;5;241m=\u001b[39m \u001b[38;5;28;43mself\u001b[39;49m\u001b[38;5;241;43m.\u001b[39;49m\u001b[43m_matmat\u001b[49m\u001b[43m(\u001b[49m\u001b[43mX\u001b[49m\u001b[43m)\u001b[49m\n\u001b[1;32m    341\u001b[0m \u001b[38;5;28;01mexcept\u001b[39;00m \u001b[38;5;167;01mException\u001b[39;00m \u001b[38;5;28;01mas\u001b[39;00m e:\n\u001b[1;32m    342\u001b[0m     \u001b[38;5;28;01mif\u001b[39;00m issparse(X) \u001b[38;5;129;01mor\u001b[39;00m is_pydata_spmatrix(X):\n",
      "File \u001b[0;32m~/miniforge3/envs/torchfem/lib/python3.10/site-packages/scipy/sparse/linalg/_interface.py:800\u001b[0m, in \u001b[0;36mMatrixLinearOperator._matmat\u001b[0;34m(self, X)\u001b[0m\n\u001b[1;32m    799\u001b[0m \u001b[38;5;28;01mdef\u001b[39;00m \u001b[38;5;21m_matmat\u001b[39m(\u001b[38;5;28mself\u001b[39m, X):\n\u001b[0;32m--> 800\u001b[0m     \u001b[38;5;28;01mreturn\u001b[39;00m \u001b[38;5;28;43mself\u001b[39;49m\u001b[38;5;241;43m.\u001b[39;49m\u001b[43mA\u001b[49m\u001b[38;5;241;43m.\u001b[39;49m\u001b[43mdot\u001b[49m\u001b[43m(\u001b[49m\u001b[43mX\u001b[49m\u001b[43m)\u001b[49m\n",
      "File \u001b[0;32m~/miniforge3/envs/torchfem/lib/python3.10/site-packages/scipy/sparse/_base.py:450\u001b[0m, in \u001b[0;36m_spbase.dot\u001b[0;34m(self, other)\u001b[0m\n\u001b[1;32m    448\u001b[0m     \u001b[38;5;28;01mreturn\u001b[39;00m \u001b[38;5;28mself\u001b[39m \u001b[38;5;241m*\u001b[39m other\n\u001b[1;32m    449\u001b[0m \u001b[38;5;28;01melse\u001b[39;00m:\n\u001b[0;32m--> 450\u001b[0m     \u001b[38;5;28;01mreturn\u001b[39;00m \u001b[38;5;28;43mself\u001b[39;49m\u001b[43m \u001b[49m\u001b[38;5;241;43m@\u001b[39;49m\u001b[43m \u001b[49m\u001b[43mother\u001b[49m\n",
      "File \u001b[0;32m~/miniforge3/envs/torchfem/lib/python3.10/site-packages/scipy/sparse/_base.py:669\u001b[0m, in \u001b[0;36m_spbase.__matmul__\u001b[0;34m(self, other)\u001b[0m\n\u001b[1;32m    666\u001b[0m \u001b[38;5;28;01mif\u001b[39;00m isscalarlike(other):\n\u001b[1;32m    667\u001b[0m     \u001b[38;5;28;01mraise\u001b[39;00m \u001b[38;5;167;01mValueError\u001b[39;00m(\u001b[38;5;124m\"\u001b[39m\u001b[38;5;124mScalar operands are not allowed, \u001b[39m\u001b[38;5;124m\"\u001b[39m\n\u001b[1;32m    668\u001b[0m                      \u001b[38;5;124m\"\u001b[39m\u001b[38;5;124muse \u001b[39m\u001b[38;5;124m'\u001b[39m\u001b[38;5;124m*\u001b[39m\u001b[38;5;124m'\u001b[39m\u001b[38;5;124m instead\u001b[39m\u001b[38;5;124m\"\u001b[39m)\n\u001b[0;32m--> 669\u001b[0m \u001b[38;5;28;01mreturn\u001b[39;00m \u001b[38;5;28;43mself\u001b[39;49m\u001b[38;5;241;43m.\u001b[39;49m\u001b[43m_matmul_dispatch\u001b[49m\u001b[43m(\u001b[49m\u001b[43mother\u001b[49m\u001b[43m)\u001b[49m\n",
      "File \u001b[0;32m~/miniforge3/envs/torchfem/lib/python3.10/site-packages/scipy/sparse/_base.py:566\u001b[0m, in \u001b[0;36m_spbase._matmul_dispatch\u001b[0;34m(self, other)\u001b[0m\n\u001b[1;32m    564\u001b[0m     \u001b[38;5;28;01mreturn\u001b[39;00m \u001b[38;5;28mself\u001b[39m\u001b[38;5;241m.\u001b[39m_matmul_vector(other)\n\u001b[1;32m    565\u001b[0m \u001b[38;5;28;01melif\u001b[39;00m other\u001b[38;5;241m.\u001b[39mshape \u001b[38;5;241m==\u001b[39m (N, \u001b[38;5;241m1\u001b[39m):\n\u001b[0;32m--> 566\u001b[0m     result \u001b[38;5;241m=\u001b[39m \u001b[38;5;28;43mself\u001b[39;49m\u001b[38;5;241;43m.\u001b[39;49m\u001b[43m_matmul_vector\u001b[49m\u001b[43m(\u001b[49m\u001b[43mother\u001b[49m\u001b[38;5;241;43m.\u001b[39;49m\u001b[43mravel\u001b[49m\u001b[43m(\u001b[49m\u001b[43m)\u001b[49m\u001b[43m)\u001b[49m\n\u001b[1;32m    567\u001b[0m     \u001b[38;5;28;01mif\u001b[39;00m \u001b[38;5;28mself\u001b[39m\u001b[38;5;241m.\u001b[39mndim \u001b[38;5;241m==\u001b[39m \u001b[38;5;241m1\u001b[39m:\n\u001b[1;32m    568\u001b[0m         \u001b[38;5;28;01mreturn\u001b[39;00m result\n",
      "File \u001b[0;32m~/miniforge3/envs/torchfem/lib/python3.10/site-packages/scipy/sparse/_compressed.py:492\u001b[0m, in \u001b[0;36m_cs_matrix._matmul_vector\u001b[0;34m(self, other)\u001b[0m\n\u001b[1;32m    490\u001b[0m \u001b[38;5;66;03m# csr_matvec or csc_matvec\u001b[39;00m\n\u001b[1;32m    491\u001b[0m fn \u001b[38;5;241m=\u001b[39m \u001b[38;5;28mgetattr\u001b[39m(_sparsetools, \u001b[38;5;28mself\u001b[39m\u001b[38;5;241m.\u001b[39mformat \u001b[38;5;241m+\u001b[39m \u001b[38;5;124m'\u001b[39m\u001b[38;5;124m_matvec\u001b[39m\u001b[38;5;124m'\u001b[39m)\n\u001b[0;32m--> 492\u001b[0m \u001b[43mfn\u001b[49m\u001b[43m(\u001b[49m\u001b[43mM\u001b[49m\u001b[43m,\u001b[49m\u001b[43m \u001b[49m\u001b[43mN\u001b[49m\u001b[43m,\u001b[49m\u001b[43m \u001b[49m\u001b[38;5;28;43mself\u001b[39;49m\u001b[38;5;241;43m.\u001b[39;49m\u001b[43mindptr\u001b[49m\u001b[43m,\u001b[49m\u001b[43m \u001b[49m\u001b[38;5;28;43mself\u001b[39;49m\u001b[38;5;241;43m.\u001b[39;49m\u001b[43mindices\u001b[49m\u001b[43m,\u001b[49m\u001b[43m \u001b[49m\u001b[38;5;28;43mself\u001b[39;49m\u001b[38;5;241;43m.\u001b[39;49m\u001b[43mdata\u001b[49m\u001b[43m,\u001b[49m\u001b[43m \u001b[49m\u001b[43mother\u001b[49m\u001b[43m,\u001b[49m\u001b[43m \u001b[49m\u001b[43mresult\u001b[49m\u001b[43m)\u001b[49m\n\u001b[1;32m    494\u001b[0m \u001b[38;5;28;01mreturn\u001b[39;00m result[\u001b[38;5;241m0\u001b[39m] \u001b[38;5;28;01mif\u001b[39;00m \u001b[38;5;28mself\u001b[39m\u001b[38;5;241m.\u001b[39mndim \u001b[38;5;241m==\u001b[39m \u001b[38;5;241m1\u001b[39m \u001b[38;5;28;01melse\u001b[39;00m result\n",
      "\u001b[0;31mKeyboardInterrupt\u001b[0m: "
     ]
    },
    {
     "ename": "",
     "evalue": "",
     "output_type": "error",
     "traceback": [
      "\u001b[1;31mThe Kernel crashed while executing code in the current cell or a previous cell. \n",
      "\u001b[1;31mPlease review the code in the cell(s) to identify a possible cause of the failure. \n",
      "\u001b[1;31mClick <a href='https://aka.ms/vscodeJupyterKernelCrash'>here</a> for more info. \n",
      "\u001b[1;31mView Jupyter <a href='command:jupyter.viewOutput'>log</a> for further details."
     ]
    }
   ],
   "source": [
    "rho = [rho_0]\n",
    "history = []\n",
    "\n",
    "# Iterate solutions\n",
    "for k in tqdm(range(25)):\n",
    "    # Adjust thickness variables\n",
    "    model.material.C[:, dom == 6] = torch.einsum(\"j,ijkl->ijkl\", rho[k] ** p, C0)\n",
    "\n",
    "    sensitivity = torch.zeros_like(rho[k])\n",
    "    # Iterate over load cases\n",
    "    for lc in [load_case_1, load_case_2, load_case_3, load_case_4]:\n",
    "        # Apply load case\n",
    "        model.forces = lc\n",
    "        # Compute solution\n",
    "        u_k, f_k, _, _, _ = model.solve()\n",
    "        # Evaluation of compliance\n",
    "        compliance = torch.inner(f_k.ravel(), u_k.ravel())\n",
    "        # Compute analytical sensitivities\n",
    "        u_j = u_k[design_elements].reshape(len(design_elements), -1)\n",
    "        w_k = torch.einsum(\"...i, ...ij, ...j\", u_j, k0, u_j)\n",
    "        sensitivity += -p * rho[k] ** (p - 1.0) * w_k\n",
    "\n",
    "    # Filter sensitivities (if r provided)\n",
    "    sensitivity = H @ (rho[k] * sensitivity / vols) / H_sum / (rho[k] / vols)\n",
    "\n",
    "    # For a certain value of mu, apply the iteration scheme\n",
    "    def make_step(mu):\n",
    "        G_k = -sensitivity / mu\n",
    "        upper = torch.min(rho_max, (1 + move) * rho[k])\n",
    "        lower = torch.max(rho_min, (1 - move) * rho[k])\n",
    "        rho_trial = G_k**0.5 * rho[k]\n",
    "        return torch.maximum(torch.minimum(rho_trial, upper), lower)\n",
    "\n",
    "    # Constraint function\n",
    "    def g(mu):\n",
    "        rho_k = make_step(mu)\n",
    "        return torch.inner(rho_k, vols) - V_0\n",
    "\n",
    "    # Find the root of g(mu)\n",
    "    with torch.no_grad():\n",
    "        mu = bisect(g, 1e-10, 100.0)\n",
    "\n",
    "    # Update design history\n",
    "    rho.append(make_step(mu))\n",
    "    history.append(compliance)"
   ]
  },
  {
   "cell_type": "markdown",
   "metadata": {},
   "source": [
    "## Postprocessing"
   ]
  },
  {
   "cell_type": "code",
   "execution_count": 19,
   "metadata": {},
   "outputs": [
    {
     "ename": "NameError",
     "evalue": "name 'history' is not defined",
     "output_type": "error",
     "traceback": [
      "\u001b[0;31m---------------------------------------------------------------------------\u001b[0m",
      "\u001b[0;31mNameError\u001b[0m                                 Traceback (most recent call last)",
      "Cell \u001b[0;32mIn[19], line 1\u001b[0m\n\u001b[0;32m----> 1\u001b[0m plt\u001b[38;5;241m.\u001b[39mplot(\u001b[43mhistory\u001b[49m)\n\u001b[1;32m      2\u001b[0m plt\u001b[38;5;241m.\u001b[39mxlabel(\u001b[38;5;124m\"\u001b[39m\u001b[38;5;124mIteration\u001b[39m\u001b[38;5;124m\"\u001b[39m)\n\u001b[1;32m      3\u001b[0m plt\u001b[38;5;241m.\u001b[39mylabel(\u001b[38;5;124m\"\u001b[39m\u001b[38;5;124mCompliance\u001b[39m\u001b[38;5;124m\"\u001b[39m)\n",
      "\u001b[0;31mNameError\u001b[0m: name 'history' is not defined"
     ]
    }
   ],
   "source": [
    "plt.plot(history)\n",
    "plt.xlabel(\"Iteration\")\n",
    "plt.ylabel(\"Compliance\")\n",
    "plt.show()"
   ]
  },
  {
   "cell_type": "code",
   "execution_count": 10,
   "metadata": {},
   "outputs": [],
   "source": [
    "from torchfem.io import export_mesh\n",
    "\n",
    "rho_final = torch.ones(len(elements))\n",
    "rho_final[dom == 6] = rho[-1]\n",
    "export_mesh(\n",
    "    model,\n",
    "    \"ge_bracket_topo.vtu\",\n",
    "    elem_data={\"rho\": [rho_final]},\n",
    "    nodal_data={\n",
    "        \"u\": u,\n",
    "        \"L1\": load_case_1,\n",
    "        \"L2\": load_case_2,\n",
    "        \"L3\": load_case_3,\n",
    "        \"L4\": load_case_4,\n",
    "    },\n",
    ")"
   ]
  }
 ],
 "metadata": {
  "kernelspec": {
   "display_name": "torchfem",
   "language": "python",
   "name": "python3"
  },
  "language_info": {
   "codemirror_mode": {
    "name": "ipython",
    "version": 3
   },
   "file_extension": ".py",
   "mimetype": "text/x-python",
   "name": "python",
   "nbconvert_exporter": "python",
   "pygments_lexer": "ipython3",
   "version": "3.10.13"
  },
  "orig_nbformat": 4
 },
 "nbformat": 4,
 "nbformat_minor": 2
}
