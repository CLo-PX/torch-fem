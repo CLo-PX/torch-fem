{
 "cells": [
  {
   "cell_type": "markdown",
   "metadata": {},
   "source": [
    "# Topology optimization using torch-fem"
   ]
  },
  {
   "cell_type": "markdown",
   "metadata": {},
   "source": [
    "## Problem configuration \n",
    "The configuration of the problem is defined as a dictionary that is consistent to the format used in [ToPy](https://github.com/williamhunter/topy) for comparison to well established codes."
   ]
  },
  {
   "cell_type": "code",
   "execution_count": 1,
   "metadata": {},
   "outputs": [],
   "source": [
    "# The 'classic' 60x20 2d mbb beam, as per Ole Sigmund's 99 line code.\n",
    "config = {\n",
    "    \"FILT_RAD\": 1.5,\n",
    "    \"FXTR_NODE_X\": range(1, 22),\n",
    "    \"FXTR_NODE_Y\": 1281,\n",
    "    \"LOAD_NODE_Y\": 1,\n",
    "    \"LOAD_VALU_Y\": -1,\n",
    "    \"NUM_ELEM_X\": 60,\n",
    "    \"NUM_ELEM_Y\": 20,\n",
    "    \"NUM_ITER\": 94,\n",
    "    \"P_FAC\": 3.0,\n",
    "    \"VOL_FRAC\": 0.5,\n",
    "}"
   ]
  },
  {
   "cell_type": "markdown",
   "metadata": {},
   "source": [
    "Using the configuration, we can build the FEM model representing the solution domain."
   ]
  },
  {
   "cell_type": "code",
   "execution_count": 2,
   "metadata": {},
   "outputs": [
    {
     "data": {
      "image/png": "[encoded data removed]",
      "text/plain": [
       "<Figure size 800x600 with 1 Axes>"
      ]
     },
     "metadata": {},
     "output_type": "display_data"
    }
   ],
   "source": [
    "import torch\n",
    "torch.set_default_dtype(torch.double)\n",
    "from torchfem import Planar\n",
    "\n",
    "Nx = config[\"NUM_ELEM_X\"]\n",
    "Ny = config[\"NUM_ELEM_Y\"]\n",
    "\n",
    "# Create nodes\n",
    "n1 = torch.linspace(0.0, Nx, Nx + 1)\n",
    "n2 = torch.linspace(Ny, 0.0, Ny + 1)\n",
    "n1, n2 = torch.stack(torch.meshgrid(n1, n2, indexing=\"ij\"))\n",
    "nodes = torch.stack([n1.ravel(), n2.ravel()], dim=1)\n",
    "\n",
    "# Create elements connecting nodes\n",
    "elements = []\n",
    "for j in range(Ny):\n",
    "    for i in range(Nx):\n",
    "        n0 = j + i * (Ny + 1)\n",
    "        elements.append([n0, n0 + 1, n0 + Ny + 2, n0 + Ny + 1])\n",
    "\n",
    "# Load at top\n",
    "forces = torch.zeros_like(nodes)\n",
    "forces[torch.tensor(config[\"LOAD_NODE_Y\"])-1, 1] = config[\"LOAD_VALU_Y\"]\n",
    "\n",
    "# Constrained displacement at left end\n",
    "constraints = torch.zeros_like(nodes, dtype=bool)\n",
    "displacements = torch.zeros_like(nodes)\n",
    "constraints[torch.tensor(config[\"FXTR_NODE_X\"])-1, 0] = True\n",
    "constraints[torch.tensor(config[\"FXTR_NODE_Y\"])-1, 1] = True\n",
    "\n",
    "# Thickness\n",
    "thickness = torch.ones(len(elements))\n",
    "\n",
    "# Material model (plane stress)\n",
    "E = 100.0\n",
    "nu = 0.3\n",
    "C = (E / ((1.0 + nu) * (1.0 - 2.0 * nu))) * torch.tensor(\n",
    "    [[1.0 - nu, nu, 0.0], [nu, 1.0 - nu, 0.0], [0.0, 0.0, 0.5 - nu]]\n",
    ")\n",
    "\n",
    "# Create and plot the domain\n",
    "model = Planar(nodes, elements, forces, displacements, constraints, thickness, C)\n",
    "model.plot()"
   ]
  },
  {
   "cell_type": "markdown",
   "metadata": {},
   "source": [
    "## Optimization\n",
    "We solve the toplogy optimization problem of minimizing compliance for a prescribed volume fraction via optimality conditions. To do so, we first define couple of optimization parameters:"
   ]
  },
  {
   "cell_type": "code",
   "execution_count": 3,
   "metadata": {},
   "outputs": [],
   "source": [
    "# Initial, minimum, and maximum values of design variables\n",
    "rho_0 = config[\"VOL_FRAC\"] * torch.ones(len(elements), requires_grad=True)\n",
    "rho_min = 0.01 * torch.ones_like(rho_0)\n",
    "rho_max = torch.ones_like(rho_0)\n",
    "\n",
    "# Volume fraction\n",
    "V_0 = config[\"VOL_FRAC\"] * Nx * Ny \n",
    "\n",
    "# Analytical gradient of the stiffness matrix\n",
    "k0 = torch.einsum(\"i,ijk->ijk\", 1.0 / model.thickness, model.k())\n",
    "\n",
    "# Move limit for optimality condition algortihm\n",
    "move = 0.2\n",
    "\n",
    "# Precompute filter weights\n",
    "if config[\"FILT_RAD\"] > 0.0:\n",
    "    ecenters = torch.stack([torch.mean(nodes[e], dim=0) for e in elements])\n",
    "    dist = torch.cdist(ecenters, ecenters)\n",
    "    H = config[\"FILT_RAD\"] - dist\n",
    "    H[dist > config[\"FILT_RAD\"]] = 0.0"
   ]
  },
  {
   "cell_type": "markdown",
   "metadata": {},
   "source": [
    "This is the actual optimization using optimality conditions. There are two variants:\n",
    "- `TORCH_SENS = True` uses automatic differentiation to compute the sensitivities $\\frac{\\partial C}{\\partial \\rho_i}$ making use of the torch implementation of FEM. \n",
    "- `TORCH_SENS = False` uses the well established analytical solution for the sensitivities $$\\frac{\\partial C}{\\partial \\rho_i} = -p \\rho_i^{p-1} \\mathbf{u} \\cdot \\mathbf{k_0} \\cdot \\mathbf{u}.$$\n",
    "\n",
    "In this case, automatic differentiation is approximately 30-50% slower, but it eliminates the need to compute sensitivities. This might be useful, if analytical solutions are not as simple and readily available, as for the archetype topology optimization problem."
   ]
  },
  {
   "cell_type": "code",
   "execution_count": 4,
   "metadata": {},
   "outputs": [
    {
     "name": "stdout",
     "output_type": "stream",
     "text": [
      "Iteration k=0 - Compliance: 9.16104\n",
      "Iteration k=1 - Compliance: 6.28342\n",
      "Iteration k=2 - Compliance: 4.80509\n",
      "Iteration k=3 - Compliance: 3.86055\n",
      "Iteration k=4 - Compliance: 3.24614\n",
      "Iteration k=5 - Compliance: 3.04871\n",
      "Iteration k=6 - Compliance: 2.93244\n",
      "Iteration k=7 - Compliance: 2.83243\n",
      "Iteration k=8 - Compliance: 2.73582\n",
      "Iteration k=9 - Compliance: 2.63700\n",
      "Iteration k=10 - Compliance: 2.53660\n",
      "Iteration k=11 - Compliance: 2.42932\n",
      "Iteration k=12 - Compliance: 2.31388\n",
      "Iteration k=13 - Compliance: 2.20253\n",
      "Iteration k=14 - Compliance: 2.12295\n",
      "Iteration k=15 - Compliance: 2.06585\n",
      "Iteration k=16 - Compliance: 2.02312\n",
      "Iteration k=17 - Compliance: 1.99034\n",
      "Iteration k=18 - Compliance: 1.96587\n",
      "Iteration k=19 - Compliance: 1.94854\n",
      "Iteration k=20 - Compliance: 1.93399\n",
      "Iteration k=21 - Compliance: 1.92066\n",
      "Iteration k=22 - Compliance: 1.90879\n",
      "Iteration k=23 - Compliance: 1.89900\n",
      "Iteration k=24 - Compliance: 1.89102\n",
      "Iteration k=25 - Compliance: 1.88462\n",
      "Iteration k=26 - Compliance: 1.88093\n",
      "Iteration k=27 - Compliance: 1.87942\n",
      "Iteration k=28 - Compliance: 1.87884\n",
      "Iteration k=29 - Compliance: 1.87882\n",
      "Iteration k=30 - Compliance: 1.87885\n",
      "Iteration k=31 - Compliance: 1.87893\n",
      "Iteration k=32 - Compliance: 1.87858\n",
      "Iteration k=33 - Compliance: 1.87799\n",
      "Iteration k=34 - Compliance: 1.87730\n",
      "Iteration k=35 - Compliance: 1.87651\n",
      "Iteration k=36 - Compliance: 1.87562\n",
      "Iteration k=37 - Compliance: 1.87461\n",
      "Iteration k=38 - Compliance: 1.87348\n",
      "Iteration k=39 - Compliance: 1.87241\n",
      "Iteration k=40 - Compliance: 1.87173\n",
      "Iteration k=41 - Compliance: 1.87122\n",
      "Iteration k=42 - Compliance: 1.87074\n",
      "Iteration k=43 - Compliance: 1.87031\n",
      "Iteration k=44 - Compliance: 1.86990\n",
      "Iteration k=45 - Compliance: 1.86952\n",
      "Iteration k=46 - Compliance: 1.86916\n",
      "Iteration k=47 - Compliance: 1.86880\n",
      "Iteration k=48 - Compliance: 1.86845\n",
      "Iteration k=49 - Compliance: 1.86810\n",
      "Iteration k=50 - Compliance: 1.86774\n",
      "Iteration k=51 - Compliance: 1.86737\n",
      "Iteration k=52 - Compliance: 1.86699\n",
      "Iteration k=53 - Compliance: 1.86661\n",
      "Iteration k=54 - Compliance: 1.86623\n",
      "Iteration k=55 - Compliance: 1.86587\n",
      "Iteration k=56 - Compliance: 1.86554\n",
      "Iteration k=57 - Compliance: 1.86521\n",
      "Iteration k=58 - Compliance: 1.86490\n",
      "Iteration k=59 - Compliance: 1.86462\n",
      "Iteration k=60 - Compliance: 1.86437\n",
      "Iteration k=61 - Compliance: 1.86415\n",
      "Iteration k=62 - Compliance: 1.86395\n",
      "Iteration k=63 - Compliance: 1.86379\n",
      "Iteration k=64 - Compliance: 1.86365\n",
      "Iteration k=65 - Compliance: 1.86352\n",
      "Iteration k=66 - Compliance: 1.86340\n",
      "Iteration k=67 - Compliance: 1.86326\n",
      "Iteration k=68 - Compliance: 1.86311\n",
      "Iteration k=69 - Compliance: 1.86295\n",
      "Iteration k=70 - Compliance: 1.86277\n",
      "Iteration k=71 - Compliance: 1.86255\n",
      "Iteration k=72 - Compliance: 1.86232\n",
      "Iteration k=73 - Compliance: 1.86206\n",
      "Iteration k=74 - Compliance: 1.86179\n",
      "Iteration k=75 - Compliance: 1.86152\n",
      "Iteration k=76 - Compliance: 1.86131\n",
      "Iteration k=77 - Compliance: 1.86115\n",
      "Iteration k=78 - Compliance: 1.86101\n",
      "Iteration k=79 - Compliance: 1.86085\n",
      "Iteration k=80 - Compliance: 1.86070\n",
      "Iteration k=81 - Compliance: 1.86058\n",
      "Iteration k=82 - Compliance: 1.86045\n",
      "Iteration k=83 - Compliance: 1.86031\n",
      "Iteration k=84 - Compliance: 1.86017\n",
      "Iteration k=85 - Compliance: 1.86002\n",
      "Iteration k=86 - Compliance: 1.85988\n",
      "Iteration k=87 - Compliance: 1.85975\n",
      "Iteration k=88 - Compliance: 1.85962\n",
      "Iteration k=89 - Compliance: 1.85946\n",
      "Iteration k=90 - Compliance: 1.85931\n",
      "Iteration k=91 - Compliance: 1.85918\n",
      "Iteration k=92 - Compliance: 1.85907\n",
      "Iteration k=93 - Compliance: 1.85896\n"
     ]
    }
   ],
   "source": [
    "from scipy.optimize import bisect \n",
    "\n",
    "rho = [rho_0]\n",
    "p = config[\"P_FAC\"]\n",
    "\n",
    "TORCH_SENS = False\n",
    "\n",
    "# Iterate solutions\n",
    "for k in range(config[\"NUM_ITER\"]):\n",
    "    # Adjust thickness variables\n",
    "    model.thickness = rho[k] ** p\n",
    "\n",
    "    # Compute solution\n",
    "    u_k, f_k = model.solve()\n",
    "\n",
    "    # Evaluation of compliance\n",
    "    compliance = torch.inner(f_k.ravel(), u_k.ravel())\n",
    "    print(f\"Iteration k={k} - Compliance: {compliance:.5f}\")\n",
    "\n",
    "    if TORCH_SENS:\n",
    "        # The lazy variant - simply compute the sensitivity of the compliance via \n",
    "        # automatic differentiation.\n",
    "        sensitivity = torch.autograd.grad(compliance, rho[k])[0]\n",
    "    else:\n",
    "        # Compute analytical sensitivities\n",
    "        u_j = u_k[elements].reshape(model.n_elem, -1)\n",
    "        w_k = torch.einsum(\"...i, ...ij, ...j\", u_j, k0, u_j)\n",
    "        sensitivity = - p * rho[k] ** (p - 1.0) * w_k\n",
    "    \n",
    "    # Filter sensitivities (if r provided)\n",
    "    if config[\"FILT_RAD\"] > 0.0:\n",
    "        sensitivity = H @ (rho[k] * sensitivity) / H.sum(dim=0) / rho[k]\n",
    "\n",
    "    # For a certain value of mu, apply the iteration scheme\n",
    "    def make_step(mu):\n",
    "        G_k = -sensitivity / mu \n",
    "        upper = torch.min(rho_max, (1 + move) * rho[k])\n",
    "        lower = torch.max(rho_min, (1 - move) * rho[k])\n",
    "        rho_trial = G_k**0.5 * rho[k]\n",
    "        return torch.maximum(torch.minimum(rho_trial, upper), lower)\n",
    "\n",
    "    # Constraint function\n",
    "    def g(mu):\n",
    "        rho_k = make_step(mu)\n",
    "        return rho_k.sum() - V_0\n",
    "\n",
    "    # Find the root of g(mu)\n",
    "    with torch.no_grad():\n",
    "        mu = bisect(g, 1e-10, 100.0)\n",
    "\n",
    "    rho.append(make_step(mu))"
   ]
  },
  {
   "cell_type": "code",
   "execution_count": 5,
   "metadata": {},
   "outputs": [
    {
     "data": {
      "image/png": "[encoded data removed]",
      "text/plain": [
       "<Figure size 800x600 with 1 Axes>"
      ]
     },
     "metadata": {},
     "output_type": "display_data"
    }
   ],
   "source": [
    "model.plot(element_property=rho[-1], cmap=\"gray_r\")"
   ]
  }
 ],
 "metadata": {
  "kernelspec": {
   "display_name": "torchfem",
   "language": "python",
   "name": "python3"
  },
  "language_info": {
   "codemirror_mode": {
    "name": "ipython",
    "version": 3
   },
   "file_extension": ".py",
   "mimetype": "text/x-python",
   "name": "python",
   "nbconvert_exporter": "python",
   "pygments_lexer": "ipython3",
   "version": "3.11.4"
  },
  "orig_nbformat": 4
 },
 "nbformat": 4,
 "nbformat_minor": 2
}
