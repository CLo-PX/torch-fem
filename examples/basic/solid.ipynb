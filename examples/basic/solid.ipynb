{
 "cells": [
  {
   "cell_type": "code",
   "execution_count": 1,
   "metadata": {},
   "outputs": [],
   "source": [
    "import torch\n",
    "\n",
    "import meshzoo\n",
    "\n",
    "from torchfem.elements import linear_to_quadratic\n",
    "from torchfem import Solid\n",
    "from torchfem.materials import Isotropic\n",
    "\n",
    "# Material model\n",
    "material = Isotropic(E=1000.0, nu=0.3)"
   ]
  },
  {
   "attachments": {},
   "cell_type": "markdown",
   "metadata": {},
   "source": [
    "# 3D Cube with linear hexaeders"
   ]
  },
  {
   "cell_type": "code",
   "execution_count": 2,
   "metadata": {},
   "outputs": [
    {
     "data": {
      "application/vnd.jupyter.widget-view+json": {
       "model_id": "e61a07cb5f5748e58da823505163c38a",
       "version_major": 2,
       "version_minor": 0
      },
      "text/plain": [
       "Widget(value='<iframe src=\"http://localhost:60984/index.html?ui=P_0x32e3f23e0_0&reconnect=auto\" class=\"pyvista…"
      ]
     },
     "metadata": {},
     "output_type": "display_data"
    }
   ],
   "source": [
    "# Generate cube\n",
    "points, cells = meshzoo.cube_hexa(\n",
    "    torch.linspace(0.0, 1.0, 5),\n",
    "    torch.linspace(0.0, 1.0, 5),\n",
    "    torch.linspace(0.0, 1.0, 5),\n",
    ")\n",
    "nodes = torch.tensor(points)\n",
    "elements = torch.tensor(cells.tolist())\n",
    "\n",
    "# Assign boundary conditions\n",
    "forces = torch.zeros_like(nodes)\n",
    "constraints = torch.zeros_like(nodes, dtype=bool)\n",
    "constraints[nodes[:, 0] == 0.0, :] = True\n",
    "constraints[nodes[:, 0] == 1.0, 0] = True\n",
    "displacements = torch.zeros_like(nodes)\n",
    "displacements[nodes[:, 0] == 1.0, 0] = 0.1\n",
    "\n",
    "# Create model\n",
    "box = Solid(nodes, elements, forces, displacements, constraints, material.C())\n",
    "\n",
    "# Solve\n",
    "u, f = box.solve()\n",
    "\n",
    "# Plot\n",
    "box.plot(u=u, node_property={\"Disp\": u})"
   ]
  },
  {
   "cell_type": "markdown",
   "metadata": {},
   "source": [
    "## 3D Cube with quadratic hexaeders"
   ]
  },
  {
   "cell_type": "code",
   "execution_count": 3,
   "metadata": {},
   "outputs": [
    {
     "data": {
      "application/vnd.jupyter.widget-view+json": {
       "model_id": "8a90096683684a69af1ef8ff65ebd5c8",
       "version_major": 2,
       "version_minor": 0
      },
      "text/plain": [
       "Widget(value='<iframe src=\"http://localhost:60984/index.html?ui=P_0x106063700_1&reconnect=auto\" class=\"pyvista…"
      ]
     },
     "metadata": {},
     "output_type": "display_data"
    }
   ],
   "source": [
    "# Upgrade elements to quadratic\n",
    "nodes, elements = linear_to_quadratic(nodes, elements)\n",
    "\n",
    "# Assign boundary conditions\n",
    "forces = torch.zeros_like(nodes)\n",
    "constraints = torch.zeros_like(nodes, dtype=bool)\n",
    "constraints[nodes[:, 0] == 0.0, :] = True\n",
    "constraints[nodes[:, 0] == 1.0, 0] = True\n",
    "displacements = torch.zeros_like(nodes)\n",
    "displacements[nodes[:, 0] == 1.0, 0] = 0.1\n",
    "\n",
    "# Create model\n",
    "box = Solid(nodes, elements, forces, displacements, constraints, material.C())\n",
    "\n",
    "# Solve\n",
    "u, f = box.solve()\n",
    "\n",
    "# Plot\n",
    "box.plot(u=u, node_property={\"Disp\": u})"
   ]
  },
  {
   "cell_type": "markdown",
   "metadata": {},
   "source": [
    "# 3D Cube with linear hexaeders and inelastic (e.g. thermal) strain"
   ]
  },
  {
   "cell_type": "code",
   "execution_count": 4,
   "metadata": {},
   "outputs": [],
   "source": [
    "# Reset constraints\n",
    "displacements = torch.zeros_like(nodes)\n",
    "constraints[:, :] = False\n",
    "constraints[nodes[:, 0] == 0.0, 0] = True\n",
    "constraints[nodes[:, 0] == 1.0, 0] = True\n",
    "constraints[nodes[:, 1] == 0.5, 1] = True\n",
    "constraints[nodes[:, 2] == 0.5, 2] = True\n",
    "\n",
    "# Set inelastic strain (isotropic shrinkage)\n",
    "s = -0.1\n",
    "strains = torch.stack(len(elements) * [torch.tensor([s, s, s, 0.0, 0.0, 0.0])])\n",
    "\n",
    "box = Solid(nodes, elements, forces, displacements, constraints, material.C(), strains)"
   ]
  },
  {
   "cell_type": "code",
   "execution_count": 5,
   "metadata": {},
   "outputs": [
    {
     "data": {
      "application/vnd.jupyter.widget-view+json": {
       "model_id": "a03b0b7876034cf4809ecbf2ac7d03b7",
       "version_major": 2,
       "version_minor": 0
      },
      "text/plain": [
       "Widget(value='<iframe src=\"http://localhost:60984/index.html?ui=P_0x330d731c0_2&reconnect=auto\" class=\"pyvista…"
      ]
     },
     "metadata": {},
     "output_type": "display_data"
    }
   ],
   "source": [
    "u, f = box.solve()\n",
    "box.plot(u=u, node_property={\"Disp\": u}, show_undeformed=True)"
   ]
  },
  {
   "cell_type": "code",
   "execution_count": 6,
   "metadata": {},
   "outputs": [
    {
     "name": "stdout",
     "output_type": "stream",
     "text": [
      "Mean stress in x is 99.99999237060547. It should be 100.0.\n"
     ]
    }
   ],
   "source": [
    "sigma = box.compute_stress(u)\n",
    "print(f\"Mean stress in x is {sigma[:,0].mean()}. It should be {-material.E() * s}.\")"
   ]
  },
  {
   "attachments": {},
   "cell_type": "markdown",
   "metadata": {},
   "source": [
    "## 3D Cube with linear tetrahedrons"
   ]
  },
  {
   "cell_type": "code",
   "execution_count": 7,
   "metadata": {},
   "outputs": [
    {
     "data": {
      "application/vnd.jupyter.widget-view+json": {
       "model_id": "16e3cc8d96774bd1b90b237835b072ad",
       "version_major": 2,
       "version_minor": 0
      },
      "text/plain": [
       "Widget(value='<iframe src=\"http://localhost:60984/index.html?ui=P_0x330e934f0_3&reconnect=auto\" class=\"pyvista…"
      ]
     },
     "metadata": {},
     "output_type": "display_data"
    }
   ],
   "source": [
    "# Generate cube\n",
    "points, cells = meshzoo.cube_tetra(\n",
    "    torch.linspace(0.0, 1.0, 3),\n",
    "    torch.linspace(0.0, 1.0, 3),\n",
    "    torch.linspace(0.0, 1.0, 3),\n",
    ")\n",
    "nodes = torch.tensor(points)\n",
    "elements = torch.tensor(cells.tolist())\n",
    "\n",
    "# Assign boundary conditions\n",
    "forces = torch.zeros_like(nodes)\n",
    "constraints = torch.zeros_like(nodes, dtype=bool)\n",
    "constraints[nodes[:, 0] == 0.0, :] = True\n",
    "constraints[nodes[:, 0] == 1.0, 0] = True\n",
    "displacements = torch.zeros_like(nodes)\n",
    "displacements[nodes[:, 0] == 1.0, 0] = 0.1\n",
    "\n",
    "\n",
    "box = Solid(nodes, elements, forces, displacements, constraints, material.C())\n",
    "\n",
    "u, f = box.solve()\n",
    "\n",
    "box.plot(u=u, node_property={\"Disp\": u})"
   ]
  },
  {
   "cell_type": "markdown",
   "metadata": {},
   "source": [
    "## 3D Cube with quadratic tetrahedrons"
   ]
  },
  {
   "cell_type": "code",
   "execution_count": 8,
   "metadata": {},
   "outputs": [
    {
     "data": {
      "application/vnd.jupyter.widget-view+json": {
       "model_id": "68d459335bb54f36830e4f35a3d2fe85",
       "version_major": 2,
       "version_minor": 0
      },
      "text/plain": [
       "Widget(value='<iframe src=\"http://localhost:60984/index.html?ui=P_0x330e93d00_4&reconnect=auto\" class=\"pyvista…"
      ]
     },
     "metadata": {},
     "output_type": "display_data"
    }
   ],
   "source": [
    "nodes, elements = linear_to_quadratic(nodes, elements)\n",
    "\n",
    "# Assign boundary conditions\n",
    "forces = torch.zeros_like(nodes)\n",
    "constraints = torch.zeros_like(nodes, dtype=bool)\n",
    "constraints[nodes[:, 0] == 0.0, :] = True\n",
    "constraints[nodes[:, 0] == 1.0, 0] = True\n",
    "displacements = torch.zeros_like(nodes)\n",
    "displacements[nodes[:, 0] == 1.0, 0] = 0.1\n",
    "\n",
    "\n",
    "box = Solid(nodes, elements, forces, displacements, constraints, material.C())\n",
    "\n",
    "u, f = box.solve()\n",
    "\n",
    "box.plot(u=u, node_property={\"Disp\": u})"
   ]
  },
  {
   "cell_type": "markdown",
   "metadata": {},
   "source": [
    "# 3D Cube with tetrahedrons and inelastic (e.g. thermal) strain"
   ]
  },
  {
   "cell_type": "code",
   "execution_count": 9,
   "metadata": {},
   "outputs": [],
   "source": [
    "# Reset constraints\n",
    "displacements = torch.zeros_like(nodes)\n",
    "constraints[:, :] = False\n",
    "constraints[nodes[:, 0] == 0.0, 0] = True\n",
    "constraints[nodes[:, 0] == 1.0, 0] = True\n",
    "constraints[nodes[:, 1] == 0.5, 1] = True\n",
    "constraints[nodes[:, 2] == 0.5, 2] = True\n",
    "\n",
    "# Set inelastic strain (isotropic shrinkage)\n",
    "s = -0.1\n",
    "strains = torch.stack(len(elements) * [torch.tensor([s, s, s, 0.0, 0.0, 0.0])])\n",
    "\n",
    "box = Solid(nodes, elements, forces, displacements, constraints, material.C(), strains)"
   ]
  },
  {
   "cell_type": "code",
   "execution_count": 10,
   "metadata": {},
   "outputs": [
    {
     "data": {
      "application/vnd.jupyter.widget-view+json": {
       "model_id": "5c51bced95c941579e704c227491ac75",
       "version_major": 2,
       "version_minor": 0
      },
      "text/plain": [
       "Widget(value='<iframe src=\"http://localhost:60984/index.html?ui=P_0x330e92b30_5&reconnect=auto\" class=\"pyvista…"
      ]
     },
     "metadata": {},
     "output_type": "display_data"
    }
   ],
   "source": [
    "u, f = box.solve()\n",
    "box.plot(u=u, node_property={\"Disp\": u}, show_undeformed=True)"
   ]
  },
  {
   "cell_type": "code",
   "execution_count": 11,
   "metadata": {},
   "outputs": [
    {
     "name": "stdout",
     "output_type": "stream",
     "text": [
      "Mean stress in x is 99.99996948242188. It should be 100.0.\n"
     ]
    }
   ],
   "source": [
    "sigma = box.compute_stress(u)\n",
    "print(f\"Mean stress in x is {sigma[:,0].mean()}. It should be {-material.E() * s}.\")"
   ]
  }
 ],
 "metadata": {
  "kernelspec": {
   "display_name": "torchfem",
   "language": "python",
   "name": "python3"
  },
  "language_info": {
   "codemirror_mode": {
    "name": "ipython",
    "version": 3
   },
   "file_extension": ".py",
   "mimetype": "text/x-python",
   "name": "python",
   "nbconvert_exporter": "python",
   "pygments_lexer": "ipython3",
   "version": "3.10.13"
  },
  "orig_nbformat": 4
 },
 "nbformat": 4,
 "nbformat_minor": 2
}
