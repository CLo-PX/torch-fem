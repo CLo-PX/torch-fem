{
 "cells": [
  {
   "cell_type": "code",
   "execution_count": 1,
   "metadata": {},
   "outputs": [],
   "source": [
    "import torch\n",
    "from math import sqrt\n",
    "import matplotlib.pyplot as plt\n",
    "import meshzoo\n",
    "\n",
    "from torchfem.elements import linear_to_quadratic\n",
    "from torchfem import Solid\n",
    "from torchfem.materials import Isotropic\n",
    "\n",
    "torch.set_default_dtype(torch.float64)\n",
    "\n",
    "# Material model\n",
    "material = Isotropic(E=1000.0, nu=0.3)"
   ]
  },
  {
   "attachments": {},
   "cell_type": "markdown",
   "metadata": {},
   "source": [
    "# 3D Cube with linear hexaeders"
   ]
  },
  {
   "cell_type": "code",
   "execution_count": 2,
   "metadata": {},
   "outputs": [
    {
     "name": "stdout",
     "output_type": "stream",
     "text": [
      "Residual (Increment 1, Iteration 0): 123.8155794199607\n",
      "Residual (Increment 1, Iteration 1): 7.749470330149509e-14\n",
      "Residual (Increment 1, Iteration 2): 1.3774262192347725e-14\n"
     ]
    },
    {
     "data": {
      "application/vnd.jupyter.widget-view+json": {
       "model_id": "120d147283fd4a7fa714607ab6657f49",
       "version_major": 2,
       "version_minor": 0
      },
      "text/plain": [
       "Widget(value='<iframe src=\"http://localhost:62366/index.html?ui=P_0x166830ac0_0&reconnect=auto\" class=\"pyvista…"
      ]
     },
     "metadata": {},
     "output_type": "display_data"
    }
   ],
   "source": [
    "# Generate cube\n",
    "points, cells = meshzoo.cube_hexa(\n",
    "    torch.linspace(0.0, 1.0, 5),\n",
    "    torch.linspace(0.0, 1.0, 5),\n",
    "    torch.linspace(0.0, 1.0, 5),\n",
    ")\n",
    "nodes = torch.tensor(points)\n",
    "elements = torch.tensor(cells.tolist())\n",
    "\n",
    "# Create model\n",
    "box = Solid(nodes, elements, material)\n",
    "\n",
    "# Assign boundary conditions\n",
    "box.constraints[nodes[:, 0] == 0.0, :] = True\n",
    "box.constraints[nodes[:, 0] == 1.0, 0] = True\n",
    "box.displacements[nodes[:, 0] == 1.0, 0] = 0.1\n",
    "# box.forces[nodes[:, 0] == 1.0, 0] = 1.0\n",
    "\n",
    "# Solve\n",
    "u, f, sigma, epsilon = box.solve()\n",
    "\n",
    "# Plot\n",
    "box.plot(u=u, node_property={\"Disp\": u})"
   ]
  },
  {
   "cell_type": "markdown",
   "metadata": {},
   "source": [
    "## 3D Cube with quadratic hexaeders"
   ]
  },
  {
   "cell_type": "code",
   "execution_count": 3,
   "metadata": {},
   "outputs": [
    {
     "name": "stdout",
     "output_type": "stream",
     "text": [
      "Residual (Increment 1, Iteration 0): 392.28873995824455\n",
      "Residual (Increment 1, Iteration 1): 2.881572895403998e-13\n",
      "Residual (Increment 1, Iteration 2): 7.225122867113792e-14\n"
     ]
    },
    {
     "data": {
      "application/vnd.jupyter.widget-view+json": {
       "model_id": "fd5c4892c9a640a882e3df98a66882f3",
       "version_major": 2,
       "version_minor": 0
      },
      "text/plain": [
       "Widget(value='<iframe src=\"http://localhost:62366/index.html?ui=P_0x12beaad70_1&reconnect=auto\" class=\"pyvista…"
      ]
     },
     "metadata": {},
     "output_type": "display_data"
    }
   ],
   "source": [
    "# Upgrade elements to quadratic\n",
    "nodes, elements = linear_to_quadratic(nodes, elements)\n",
    "\n",
    "# Create model\n",
    "box = Solid(nodes, elements, material)\n",
    "\n",
    "# Assign boundary conditions\n",
    "box.constraints[nodes[:, 0] == 0.0, :] = True\n",
    "box.constraints[nodes[:, 0] == 1.0, 0] = True\n",
    "box.displacements[nodes[:, 0] == 1.0, 0] = 0.1\n",
    "\n",
    "# Solve\n",
    "u, f, sigma, epsilon = box.solve()\n",
    "\n",
    "# Plot\n",
    "box.plot(u=u, node_property={\"Disp\": u})"
   ]
  },
  {
   "cell_type": "markdown",
   "metadata": {},
   "source": [
    "# 3D Cube with linear hexaeders and inelastic (e.g. thermal) strain"
   ]
  },
  {
   "cell_type": "code",
   "execution_count": 4,
   "metadata": {},
   "outputs": [
    {
     "name": "stdout",
     "output_type": "stream",
     "text": [
      "Residual (Increment 1, Iteration 0): 0.0\n",
      "Residual (Increment 1, Iteration 1): 0.0\n",
      "Residual (Increment 1, Iteration 2): 0.0\n"
     ]
    },
    {
     "data": {
      "application/vnd.jupyter.widget-view+json": {
       "model_id": "4e9042ea32bb494ab322e8b2a55ff4f4",
       "version_major": 2,
       "version_minor": 0
      },
      "text/plain": [
       "Widget(value='<iframe src=\"http://localhost:62366/index.html?ui=P_0x176803820_2&reconnect=auto\" class=\"pyvista…"
      ]
     },
     "metadata": {},
     "output_type": "display_data"
    }
   ],
   "source": [
    "# Generate cube\n",
    "points, cells = meshzoo.cube_hexa(\n",
    "    torch.linspace(0.0, 1.0, 5),\n",
    "    torch.linspace(0.0, 1.0, 5),\n",
    "    torch.linspace(0.0, 1.0, 5),\n",
    ")\n",
    "nodes = torch.tensor(points)\n",
    "elements = torch.tensor(cells.tolist())\n",
    "\n",
    "# Create model\n",
    "box = Solid(nodes, elements, material)\n",
    "\n",
    "# Set constraints\n",
    "box.constraints[:, :] = False\n",
    "box.constraints[nodes[:, 0] == 0.0, 0] = True\n",
    "box.constraints[nodes[:, 0] == 1.0, 0] = True\n",
    "box.constraints[nodes[:, 1] == 0.5, 1] = True\n",
    "box.constraints[nodes[:, 2] == 0.5, 2] = True\n",
    "\n",
    "# Set inelastic strain (isotropic shrinkage)\n",
    "s = -0.1\n",
    "box.strains = torch.stack(len(elements) * [torch.tensor([s, s, s, 0.0, 0.0, 0.0])])\n",
    "\n",
    "u, f, sigma, epsilon = box.solve()\n",
    "\n",
    "box.plot(u=u, node_property={\"Disp\": u}, show_undeformed=True)"
   ]
  },
  {
   "cell_type": "code",
   "execution_count": 5,
   "metadata": {},
   "outputs": [
    {
     "ename": "AttributeError",
     "evalue": "'Solid' object has no attribute 'compute_stress'",
     "output_type": "error",
     "traceback": [
      "\u001b[0;31m---------------------------------------------------------------------------\u001b[0m",
      "\u001b[0;31mAttributeError\u001b[0m                            Traceback (most recent call last)",
      "Cell \u001b[0;32mIn[5], line 1\u001b[0m\n\u001b[0;32m----> 1\u001b[0m sigma \u001b[38;5;241m=\u001b[39m \u001b[43mbox\u001b[49m\u001b[38;5;241;43m.\u001b[39;49m\u001b[43mcompute_stress\u001b[49m(u)\n\u001b[1;32m      2\u001b[0m \u001b[38;5;28mprint\u001b[39m(\u001b[38;5;124mf\u001b[39m\u001b[38;5;124m\"\u001b[39m\u001b[38;5;124mMean stress in x is \u001b[39m\u001b[38;5;132;01m{\u001b[39;00msigma[:,\u001b[38;5;241m0\u001b[39m]\u001b[38;5;241m.\u001b[39mmean()\u001b[38;5;132;01m}\u001b[39;00m\u001b[38;5;124m. It should be \u001b[39m\u001b[38;5;132;01m{\u001b[39;00m\u001b[38;5;241m-\u001b[39mmaterial\u001b[38;5;241m.\u001b[39mE()\u001b[38;5;250m \u001b[39m\u001b[38;5;241m*\u001b[39m\u001b[38;5;250m \u001b[39ms\u001b[38;5;132;01m}\u001b[39;00m\u001b[38;5;124m.\u001b[39m\u001b[38;5;124m\"\u001b[39m)\n",
      "\u001b[0;31mAttributeError\u001b[0m: 'Solid' object has no attribute 'compute_stress'"
     ]
    }
   ],
   "source": [
    "sigma = box.compute_stress(u)\n",
    "print(f\"Mean stress in x is {sigma[:,0].mean()}. It should be {-material.E() * s}.\")"
   ]
  },
  {
   "attachments": {},
   "cell_type": "markdown",
   "metadata": {},
   "source": [
    "## 3D Cube with linear tetrahedrons"
   ]
  },
  {
   "cell_type": "code",
   "execution_count": null,
   "metadata": {},
   "outputs": [],
   "source": [
    "# Generate cube\n",
    "points, cells = meshzoo.cube_tetra(\n",
    "    torch.linspace(0.0, 1.0, 3),\n",
    "    torch.linspace(0.0, 1.0, 3),\n",
    "    torch.linspace(0.0, 1.0, 3),\n",
    ")\n",
    "nodes = torch.tensor(points)\n",
    "elements = torch.tensor(cells.tolist())\n",
    "\n",
    "box = Solid(nodes, elements, material)\n",
    "\n",
    "# Assign boundary conditions\n",
    "box.constraints[nodes[:, 0] == 0.0, :] = True\n",
    "box.constraints[nodes[:, 0] == 1.0, 0] = True\n",
    "box.displacements[nodes[:, 0] == 1.0, 0] = 0.1\n",
    "\n",
    "u, f = box.solve()\n",
    "\n",
    "box.plot(u=u, node_property={\"Disp\": u})"
   ]
  },
  {
   "cell_type": "markdown",
   "metadata": {},
   "source": [
    "## 3D Cube with quadratic tetrahedrons"
   ]
  },
  {
   "cell_type": "code",
   "execution_count": null,
   "metadata": {},
   "outputs": [],
   "source": [
    "nodes, elements = linear_to_quadratic(nodes, elements)\n",
    "\n",
    "box = Solid(nodes, elements, material)\n",
    "\n",
    "# Assign boundary conditions\n",
    "box.constraints[nodes[:, 0] == 0.0, :] = True\n",
    "box.constraints[nodes[:, 0] == 1.0, 0] = True\n",
    "box.displacements[nodes[:, 0] == 1.0, 0] = 0.1\n",
    "\n",
    "u, f = box.solve()\n",
    "\n",
    "box.plot(u=u, node_property={\"Disp\": u})"
   ]
  },
  {
   "cell_type": "markdown",
   "metadata": {},
   "source": [
    "# 3D Cube with tetrahedrons and inelastic (e.g. thermal) strain"
   ]
  },
  {
   "cell_type": "code",
   "execution_count": null,
   "metadata": {},
   "outputs": [],
   "source": [
    "# Generate cube\n",
    "points, cells = meshzoo.cube_tetra(\n",
    "    torch.linspace(0.0, 1.0, 3),\n",
    "    torch.linspace(0.0, 1.0, 3),\n",
    "    torch.linspace(0.0, 1.0, 3),\n",
    ")\n",
    "nodes = torch.tensor(points)\n",
    "elements = torch.tensor(cells.tolist())\n",
    "\n",
    "box = Solid(nodes, elements, material)\n",
    "\n",
    "# Boundary conditions\n",
    "box.constraints[nodes[:, 0] == 0.0, 0] = True\n",
    "box.constraints[nodes[:, 0] == 1.0, 0] = True\n",
    "box.constraints[nodes[:, 1] == 0.5, 1] = True\n",
    "box.constraints[nodes[:, 2] == 0.5, 2] = True\n",
    "\n",
    "# Set inelastic strain (isotropic shrinkage)\n",
    "s = -0.1\n",
    "box.strains = torch.stack(len(elements) * [torch.tensor([s, s, s, 0.0, 0.0, 0.0])])\n",
    "\n",
    "u, f = box.solve()\n",
    "\n",
    "box.plot(u=u, node_property={\"Disp\": u}, show_undeformed=True)"
   ]
  },
  {
   "cell_type": "code",
   "execution_count": null,
   "metadata": {},
   "outputs": [],
   "source": [
    "sigma = box.compute_stress(u)\n",
    "print(f\"Mean stress in x is {sigma[:,0].mean()}. It should be {-material.E() * s}.\")"
   ]
  },
  {
   "cell_type": "markdown",
   "metadata": {},
   "source": [
    "# Plasticity\n",
    "We subject a 3D unit cube meshed with linear hexahedrons to a uniaxial stress state in the x-direction. The displacement is increased in increments and the material yields when the stress reaches a critical value. The material is modeled with a von Mises yield criterion and a linear isotropic hardening law.\n"
   ]
  },
  {
   "cell_type": "code",
   "execution_count": 21,
   "metadata": {},
   "outputs": [],
   "source": [
    "# Generate cube\n",
    "points, cells = meshzoo.cube_hexa(\n",
    "    torch.linspace(0.0, 1.0, 5),\n",
    "    torch.linspace(0.0, 1.0, 5),\n",
    "    torch.linspace(0.0, 1.0, 5),\n",
    ")\n",
    "nodes = torch.tensor(points)\n",
    "elements = torch.tensor(cells.tolist())\n",
    "\n",
    "box = Solid(nodes, elements, material)\n",
    "\n",
    "# Set constraints\n",
    "box.constraints[nodes[:, 0] == 0.0, 0] = True\n",
    "box.constraints[nodes[:, 0] == 1.0, 0] = True\n",
    "box.constraints[nodes[:, 1] == 0.5, 1] = True\n",
    "box.constraints[nodes[:, 2] == 0.5, 2] = True"
   ]
  },
  {
   "cell_type": "markdown",
   "metadata": {},
   "source": [
    "#### Material model\n",
    "We employ a von Mises yield criterion with isotropic linear hardening. The plastic hardening function is given by\n",
    "\n",
    "$$\n",
    "\\sigma_f(q) = \\sigma_y + k q\n",
    "$$\n",
    "\n",
    "with the yield stress $\\sigma_y$, the equivalent plastic strain $q$ and the hardening modulus $k$."
   ]
  },
  {
   "cell_type": "code",
   "execution_count": 22,
   "metadata": {},
   "outputs": [],
   "source": [
    "E = 1000.0\n",
    "nu = 0.3\n",
    "sigma_y = 50.0\n",
    "k = 100.0\n",
    "\n",
    "# Elastic properties\n",
    "material = Isotropic(E=E, nu=nu)\n",
    "C = material.C()\n",
    "G = material.G()\n",
    "\n",
    "\n",
    "# Hardening function\n",
    "def sigma_f(q):\n",
    "    return sigma_y + k * q\n",
    "\n",
    "\n",
    "# Derivative of the hardening function\n",
    "def sigma_f_prime(q):\n",
    "    return k"
   ]
  },
  {
   "cell_type": "markdown",
   "metadata": {},
   "source": [
    "#### Incremental loading with radial return mapping algorithm \n",
    "We implement a radial return mapping algorithm to solve the plasticity problem. In each increment, we calculate the trial stress \n",
    "$$ \n",
    "\\sigma_{\\text{trial}} = \\sigma_n + C : \\Delta\\varepsilon\n",
    "$$\n",
    "and check if it exceeds the yield surface by evaluating the flow potential\n",
    "$$ \n",
    "f = ||\\sigma_{\\text{trial}}'|| - \\sqrt{\\frac{2}{3}}\\sigma_f(q).\n",
    "$$\n",
    "Here, $||\\sigma_{\\text{trial}}'||$ denotes the Frobenius norm of the deviatoric part of the trial stress.\n",
    "\n",
    "1. If $f \\leq 0$, the stress state is elastic. We update the variables as follows: \n",
    "$$\n",
    "\\sigma_{n+1} = \\sigma_{\\text{trial}} \\\\ q_{n+1} = q_{n}\\\\ d\\sigma d\\varepsilon_{n+1} = C.\n",
    "$$\n",
    "\n",
    "2. If $f > 0$, the stress state is plastic. We need to calculate the equivalent plastic strain $\\Delta \\gamma$ that leads to $f=0$ to satisfy the yield condition. This is generally a nonlinear equation and we solve it with Newton's method (in case of linear hardening, this is essentially solved in the first step...). We assume, that the direction of of flow is given by the deviatoric part of the trial stress, i.e. $n = \\frac{\\sigma_{\\text{trial}}'}{||\\sigma_{\\text{trial}}'||}$.\n",
    "Then, we update the variables as follows: \n",
    "\n",
    "$$\n",
    "\\sigma_{n+1} = \\sigma_{\\text{trial}} - 2 G \\Delta \\gamma n \\\\\n",
    "\\quad q_{n+1} = q_{n} + \\sqrt{\\frac{2}{3}} \\Delta \\gamma \\\\\n",
    "(d\\sigma d\\varepsilon)_{ijkl} = C_{ijkl} \n",
    "    - \\frac{2 G}{1 + \\frac{\\sigma_f'}{3 \\mu}} n_{ij} n_{kl}\n",
    "    - \\frac{4 G^2 \\Delta\\gamma}{||s||} \\left(\\frac{1}{2} \\left( \\delta_{ik}\\delta_{jl} + \\delta_{il}\\delta_{kj} \\right)\n",
    "         - \\frac{1}{3} \\delta_{ij} \\delta_{kl}\n",
    "        - n_{ij} n_{lk} \\right)\n",
    "$$"
   ]
  },
  {
   "cell_type": "code",
   "execution_count": 23,
   "metadata": {},
   "outputs": [],
   "source": [
    "# Initialize variables\n",
    "n_elem = len(box.elements)\n",
    "u = torch.zeros_like(box.nodes)\n",
    "q = torch.zeros((n_elem))\n",
    "epsilon = torch.zeros((n_elem, 6))\n",
    "sigma = torch.zeros((n_elem, 6))\n",
    "\n",
    "stress = [0.0]\n",
    "strain = [0.0]\n",
    "\n",
    "# Incremental loading\n",
    "increments = 50 * [0.002] + 50 * [-0.002]\n",
    "\n",
    "for inc in increments:\n",
    "    # Set displacement increment\n",
    "    box.displacements[box.nodes[:, 0] == 1.0, 0] = inc\n",
    "\n",
    "    # Solve small deformation increment\n",
    "    du, df = box.solve()\n",
    "\n",
    "    # Strain increment\n",
    "    de = box.compute_strain(du)\n",
    "    epsilon += de\n",
    "\n",
    "    # Compute trial stress\n",
    "    ds = torch.einsum(\"...ij,...j->...i\", C, de)\n",
    "    s_trial = sigma + ds\n",
    "\n",
    "    # Compute the deviatoric trial stress\n",
    "    s_trial_trace = s_trial[:, 0] + s_trial[:, 1] + s_trial[:, 2]\n",
    "    dev = s_trial.clone()\n",
    "    dev[:, 0:3] -= s_trial_trace[:, None] / 3\n",
    "    dev_norm = torch.sqrt((dev[:, 0:3] ** 2 + 2 * dev[:, 3:6] ** 2).sum(dim=-1))\n",
    "\n",
    "    # Flow potential\n",
    "    f = dev_norm - sqrt(2.0 / 3.0) * sigma_f(q)\n",
    "    fm = f > 0\n",
    "\n",
    "    # Direction of flow\n",
    "    n = dev[fm] / dev_norm[fm, None]\n",
    "\n",
    "    # Local Newton solver to find plastic strain increment\n",
    "    dGamma = torch.zeros_like(f[fm])\n",
    "    for j in range(10):\n",
    "        res = dev_norm[fm] - 2.0 * G * dGamma - sqrt(2.0 / 3.0) * sigma_f(q[fm])\n",
    "        ddGamma = res / (2.0 * G + 2.0 / 3.0 * sigma_f_prime(q[fm]))\n",
    "        dGamma += ddGamma\n",
    "        q[fm] += sqrt(2.0 / 3.0) * ddGamma\n",
    "    if (torch.abs(res) > 1e-10).any():\n",
    "        print(\"Local Newton iteration did not converge\")\n",
    "\n",
    "    # Update stress\n",
    "    sigma[~fm] = s_trial[~fm]\n",
    "    sigma[fm] = s_trial[fm] - 2.0 * G * dGamma[:, None] * n\n",
    "\n",
    "    # Update algorithmic tangent\n",
    "    box.C[~fm] = C\n",
    "    A = 2.0 * G / (1.0 + sigma_f_prime(q[fm]) / (3.0 * G))\n",
    "    B = 4.0 * G**2 * dGamma / dev_norm[fm]\n",
    "    box.C[fm, 0, 0] = C[0, 0] - A * n[:, 0] ** 2 - B * (2 / 3 - n[:, 0] ** 2)\n",
    "    box.C[fm, 1, 1] = C[1, 1] - A * n[:, 1] ** 2 - B * (2 / 3 - n[:, 1] ** 2)\n",
    "    box.C[fm, 2, 2] = C[2, 2] - A * n[:, 2] ** 2 - B * (2 / 3 - n[:, 2] ** 2)\n",
    "    box.C[fm, 0, 1] = C[0, 1] - A * n[:, 0] * n[:, 1] - B * (-1 / 3 - n[:, 0] * n[:, 1])\n",
    "    box.C[fm, 1, 0] = box.C[fm, 0, 1]\n",
    "    box.C[fm, 0, 2] = C[0, 2] - A * n[:, 0] * n[:, 2] - B * (-1 / 3 - n[:, 0] * n[:, 2])\n",
    "    box.C[fm, 2, 0] = box.C[fm, 0, 2]\n",
    "    box.C[fm, 1, 2] = C[1, 2] - A * n[:, 1] * n[:, 2] - B * (-1 / 3 - n[:, 1] * n[:, 2])\n",
    "    box.C[fm, 2, 1] = box.C[fm, 1, 2]\n",
    "    box.C[fm, 3, 3] = C[3, 3] - A * n[:, 3] ** 2 - B * (1 / 2 - n[:, 3] ** 2)\n",
    "    box.C[fm, 4, 4] = C[4, 4] - A * n[:, 4] ** 2 - B * (1 / 2 - n[:, 4] ** 2)\n",
    "    box.C[fm, 5, 5] = C[5, 5] - A * n[:, 5] ** 2 - B * (1 / 2 - n[:, 5] ** 2)\n",
    "\n",
    "    # Update displacement\n",
    "    u += du\n",
    "\n",
    "    # Track history of stress and strain\n",
    "    strain.append(epsilon[:, 0].mean())\n",
    "    stress.append(sigma[:, 0].mean())"
   ]
  },
  {
   "cell_type": "markdown",
   "metadata": {},
   "source": [
    "#### Postprocessing and evaluation\n",
    "\n",
    "The reference solution for the plastic region is given by solving the hardening rule\n",
    "$$\n",
    "\\sigma = \\sigma_y + K q\n",
    "$$\n",
    "for $q$ and substituting it into the elastic equation\n",
    "$$\n",
    "\\sigma = E (\\varepsilon - q).\n",
    "$$\n",
    "Solving for $\\sigma$ gives \n",
    "$$\n",
    "\\sigma = \\frac{kE}{k+E} (\\varepsilon + \\frac{\\sigma_y}{k}).\n",
    "$$"
   ]
  },
  {
   "cell_type": "code",
   "execution_count": null,
   "metadata": {},
   "outputs": [],
   "source": [
    "ref_strain = [0.0, sigma_y / E, max(strain), max(strain) - max(stress) / E]\n",
    "ref_stress = [0.0, sigma_y, k * E / (k + E) * (max(strain) + sigma_y / k), 0]\n",
    "\n",
    "\n",
    "plt.plot(ref_strain, ref_stress, \"-\", label=\"Reference\")\n",
    "plt.plot(strain, stress, \".\", label=\"FEM\")\n",
    "plt.xlabel(\"Strain ε_xx\")\n",
    "plt.ylabel(\"Stress σ_xx\")\n",
    "plt.ylim(bottom=0)\n",
    "plt.xlim(left=0)\n",
    "plt.grid()\n",
    "plt.legend()\n",
    "plt.show()"
   ]
  }
 ],
 "metadata": {
  "kernelspec": {
   "display_name": "torchfem",
   "language": "python",
   "name": "python3"
  },
  "language_info": {
   "codemirror_mode": {
    "name": "ipython",
    "version": 3
   },
   "file_extension": ".py",
   "mimetype": "text/x-python",
   "name": "python",
   "nbconvert_exporter": "python",
   "pygments_lexer": "ipython3",
   "version": "3.10.13"
  },
  "orig_nbformat": 4
 },
 "nbformat": 4,
 "nbformat_minor": 2
}
