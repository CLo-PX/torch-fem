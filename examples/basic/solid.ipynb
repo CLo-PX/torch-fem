{
 "cells": [
  {
   "cell_type": "code",
   "execution_count": null,
   "metadata": {},
   "outputs": [],
   "source": [
    "import torch\n",
    "\n",
    "import meshzoo\n",
    "\n",
    "from torchfem import Solid\n",
    "from torchfem.materials import Isotropic"
   ]
  },
  {
   "attachments": {},
   "cell_type": "markdown",
   "metadata": {},
   "source": [
    "# Material model\n",
    "\n",
    "Isotropic linear elastic stiffness tensor"
   ]
  },
  {
   "cell_type": "code",
   "execution_count": null,
   "metadata": {},
   "outputs": [],
   "source": [
    "# Material model\n",
    "material = Isotropic(E=1000.0, nu=0.3)"
   ]
  },
  {
   "attachments": {},
   "cell_type": "markdown",
   "metadata": {},
   "source": [
    "# 3D Cube with hexaeders"
   ]
  },
  {
   "cell_type": "code",
   "execution_count": null,
   "metadata": {},
   "outputs": [],
   "source": [
    "# Generate cube\n",
    "points, cells = meshzoo.cube_hexa(\n",
    "    torch.linspace(0.0, 1.0, 5),\n",
    "    torch.linspace(0.0, 1.0, 5),\n",
    "    torch.linspace(0.0, 1.0, 5),\n",
    ")\n",
    "nodes = torch.tensor(points)\n",
    "elements = cells.tolist()\n",
    "\n",
    "# Assign boundary conditions\n",
    "forces = torch.zeros_like(nodes)\n",
    "constraints = torch.zeros_like(nodes, dtype=bool)\n",
    "constraints[nodes[:, 0] == 0.0, :] = True\n",
    "constraints[nodes[:, 0] == 1.0, 0] = True\n",
    "displacements = torch.zeros_like(nodes)\n",
    "displacements[nodes[:, 0] == 1.0, 0] = 0.1\n",
    "\n",
    "box = Solid(nodes, elements, forces, displacements, constraints, material.C())"
   ]
  },
  {
   "cell_type": "code",
   "execution_count": null,
   "metadata": {},
   "outputs": [],
   "source": [
    "u, f = box.solve()"
   ]
  },
  {
   "cell_type": "code",
   "execution_count": null,
   "metadata": {},
   "outputs": [],
   "source": [
    "box.plot(u=u, node_property={\"Disp\": u})"
   ]
  },
  {
   "cell_type": "markdown",
   "metadata": {},
   "source": [
    "# 3D Cube with hexaeders and inelastic (e.g. thermal) strain"
   ]
  },
  {
   "cell_type": "code",
   "execution_count": null,
   "metadata": {},
   "outputs": [],
   "source": [
    "# Remove constraints and set thermal strain instead\n",
    "displacements = torch.zeros_like(nodes)\n",
    "constraints[:, :] = False\n",
    "constraints[nodes[:, 0] == 0.0, 0] = True\n",
    "constraints[nodes[:, 1] == 0.0, 1] = True\n",
    "constraints[nodes[:, 2] == 0.0, 2] = True\n",
    "strains = torch.stack(len(elements) * [torch.tensor([0.1, 0.2, 0.3, 0.0, 0.0, 0.0])])\n",
    "\n",
    "box = Solid(nodes, elements, forces, displacements, constraints, material.C(), strains)"
   ]
  },
  {
   "cell_type": "code",
   "execution_count": null,
   "metadata": {},
   "outputs": [],
   "source": [
    "u, f = box.solve()"
   ]
  },
  {
   "cell_type": "code",
   "execution_count": null,
   "metadata": {},
   "outputs": [],
   "source": [
    "box.plot(u=u, node_property={\"Disp\": u})"
   ]
  },
  {
   "attachments": {},
   "cell_type": "markdown",
   "metadata": {},
   "source": [
    "# 3D Cube with tetrahedrons"
   ]
  },
  {
   "cell_type": "code",
   "execution_count": null,
   "metadata": {},
   "outputs": [],
   "source": [
    "# Generate cube\n",
    "points, cells = meshzoo.cube_tetra(\n",
    "    torch.linspace(0.0, 1.0, 3),\n",
    "    torch.linspace(0.0, 1.0, 3),\n",
    "    torch.linspace(0.0, 1.0, 3),\n",
    ")\n",
    "nodes = torch.tensor(points)\n",
    "elements = cells.tolist()\n",
    "\n",
    "# Assign boundary conditions\n",
    "forces = torch.zeros_like(nodes)\n",
    "constraints = torch.zeros_like(nodes, dtype=bool)\n",
    "constraints[nodes[:, 0] == 0.0, :] = True\n",
    "constraints[nodes[:, 0] == 1.0, 0] = True\n",
    "displacements = torch.zeros_like(nodes)\n",
    "displacements[nodes[:, 0] == 1.0, 0] = 0.1\n",
    "\n",
    "\n",
    "box = Solid(nodes, elements, forces, displacements, constraints, material.C())"
   ]
  },
  {
   "cell_type": "code",
   "execution_count": null,
   "metadata": {},
   "outputs": [],
   "source": [
    "u, f = box.solve()"
   ]
  },
  {
   "cell_type": "code",
   "execution_count": null,
   "metadata": {},
   "outputs": [],
   "source": [
    "box.plot(u=u, node_property={\"Disp\": u})"
   ]
  }
 ],
 "metadata": {
  "kernelspec": {
   "display_name": "torchfem",
   "language": "python",
   "name": "python3"
  },
  "language_info": {
   "codemirror_mode": {
    "name": "ipython",
    "version": 3
   },
   "file_extension": ".py",
   "mimetype": "text/x-python",
   "name": "python",
   "nbconvert_exporter": "python",
   "pygments_lexer": "ipython3",
   "version": "3.10.13"
  },
  "orig_nbformat": 4
 },
 "nbformat": 4,
 "nbformat_minor": 2
}
