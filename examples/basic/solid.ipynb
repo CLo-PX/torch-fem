{
 "cells": [
  {
   "cell_type": "code",
   "execution_count": 49,
   "metadata": {},
   "outputs": [],
   "source": [
    "import torch\n",
    "\n",
    "import meshzoo\n",
    "\n",
    "from torchfem import Solid\n",
    "from torchfem.materials import Isotropic"
   ]
  },
  {
   "attachments": {},
   "cell_type": "markdown",
   "metadata": {},
   "source": [
    "# Material model\n",
    "\n",
    "Isotropic linear elastic stiffness tensor"
   ]
  },
  {
   "cell_type": "code",
   "execution_count": 50,
   "metadata": {},
   "outputs": [],
   "source": [
    "# Material model\n",
    "material = Isotropic(E=1000.0, nu=0.3)"
   ]
  },
  {
   "attachments": {},
   "cell_type": "markdown",
   "metadata": {},
   "source": [
    "# 3D Cube with hexaeders"
   ]
  },
  {
   "cell_type": "code",
   "execution_count": 51,
   "metadata": {},
   "outputs": [],
   "source": [
    "# Generate cube\n",
    "points, cells = meshzoo.cube_hexa(\n",
    "    torch.linspace(0.0, 1.0, 5),\n",
    "    torch.linspace(0.0, 1.0, 5),\n",
    "    torch.linspace(0.0, 1.0, 5),\n",
    ")\n",
    "nodes = torch.tensor(points)\n",
    "elements = torch.tensor(cells.tolist())\n",
    "\n",
    "# Assign boundary conditions\n",
    "forces = torch.zeros_like(nodes)\n",
    "constraints = torch.zeros_like(nodes, dtype=bool)\n",
    "constraints[nodes[:, 0] == 0.0, :] = True\n",
    "constraints[nodes[:, 0] == 1.0, 0] = True\n",
    "displacements = torch.zeros_like(nodes)\n",
    "displacements[nodes[:, 0] == 1.0, 0] = 0.1\n",
    "\n",
    "box = Solid(nodes, elements, forces, displacements, constraints, material.C())"
   ]
  },
  {
   "cell_type": "code",
   "execution_count": 52,
   "metadata": {},
   "outputs": [],
   "source": [
    "u, f = box.solve()"
   ]
  },
  {
   "cell_type": "code",
   "execution_count": 53,
   "metadata": {},
   "outputs": [
    {
     "data": {
      "application/vnd.jupyter.widget-view+json": {
       "model_id": "98c9b0b0fd13467bb09630f4bd1eb1c2",
       "version_major": 2,
       "version_minor": 0
      },
      "text/plain": [
       "Widget(value=\"<iframe src='http://localhost:64016/index.html?ui=P_0x13eb1d7b0_4&reconnect=auto' style='width: …"
      ]
     },
     "metadata": {},
     "output_type": "display_data"
    }
   ],
   "source": [
    "box.plot(u=u, node_property={\"Disp\": u})"
   ]
  },
  {
   "cell_type": "markdown",
   "metadata": {},
   "source": [
    "# 3D Cube with hexaeders and inelastic (e.g. thermal) strain"
   ]
  },
  {
   "cell_type": "code",
   "execution_count": 54,
   "metadata": {},
   "outputs": [
    {
     "name": "stdout",
     "output_type": "stream",
     "text": [
      " JS Error => Malformed message:  {\"wslink\": \"1.0\", \"id\": \"publish:trame.vtk.delta:0\", \"result\": {\"parent\": \"0x0\", \"id\": 5, \"type\": \"vtkCocoaRenderWindow\", \"properties\": {\"numberOfLayers\": 2}, \"dependencies\": [{\"parent\": \"000000013df49960\", \"id\": \"00000001178b8200\", \"type\": \"vtkOpenGLRenderer\", \"properties\": {\"background\": [1.0, 1.0, 1.0], \"background2\": [0.2, 0.2, 0.2], \"viewport\": [0.0, 0.0, 1.0, 1.0], \"twoSidedLighting\": 1, \"lightFollowCamera\": 1, \"layer\": 0, \"preserveColorBuffer\": 0, \"preserveDepthBuffer\": 0, \"nearClippingPlaneTolerance\": 0.001, \"clippingRangeExpansion\": 0.5, \"useShadows\": 0, \"useDepthPeeling\": 0, \"occlusionRatio\": 0.0, \"maximumNumberOfPeels\": 4, \"interactive\": 1}, \"dependencies\": [{\"parent\": \"00000001178b8200\", \"id\": \"000000013df44f10\", \"type\": \"vtkOpenGLCamera\", \"properties\": {\"focalPoint\": [0.550000011920929, 0.5, 0.5], \"position\": [2.548322916095824, 2.498322904174895, 2.498322904174895], \"viewUp\": [0.0, 0.0, 1.0], \"clippingRange\": [1.6457479129482366, 5.7548215268957135]}}, {\"parent\": \"00000001178b8200\", \"id\": \"000000013e395960\", \"type\": \"vtkOpenGLActor\", \"properties\": {\"visibility\": 1, \"pickable\": 1, \"dragable\": 1, \"useBounds\": true, \"origin\": [0.0, 0.0, 0.0], \"position\": [0.0, 0.0, 0.0], \"scale\": [1.0, 1.0, 1.0], \"forceOpaque\": false, \"forceTranslucent\": false}, \"calls\": [[\"setMapper\", [\"instance:${000000013e36e640}\"]], [\"setProperty\", [\"instance:${000000013e397490}\"]]], \"dependencies\": [{\"parent\": \"000000013e395960\", \"id\": \"000000013e36e640\", \"type\": \"vtkMapper\", \"properties\": {\"resolveCoincidentTopology\": 0, \"renderTime\": 0.0, \"arrayAccessMode\": 0, \"scalarRange\": [0.0, 0.10247792303562164], \"useLookupTableScalarRange\": 0, \"scalarVisibility\": 1, \"colorByArrayName\": -1, \"colorMode\": 1, \"scalarMode\": 1, \"interpolateScalarsBeforeMapping\": 1}, \"calls\": [[\"setInputData\", [\"instance:${000000013e36e640-dataset}\"]], [\"setLookupTable\", [\"instance:${000000013dbcf530}\"]]], \"dependencies\": [{\"parent\": \"000000013e36e640\", \"id\": \"000000013e36e640-dataset\", \"type\": \"vtkPolyData\", \"properties\": {\"points\": {\"hash\": \"741be6a9ad2cf8bb66f153c3df783fb6_294d\", \"vtkClass\": \"vtkPoints\", \"name\": \"Points\", \"dataType\": \"Float64Array\", \"numberOfComponents\": 3, \"size\": 294, \"ranges\": [{\"min\": 0.0, \"max\": 1.100000023841858, \"component\": null}, {\"min\": 0.0, \"max\": 1.0, \"component\": null}, {\"min\": 0.0, \"max\": 1.0, \"component\": null}, {\"min\": 0.0, \"max\": 1.7740201243350686, \"component\": null}]}, \"polys\": {\"hash\": \"720da1cb82360216b2deef301444f2fd_480L\", \"vtkClass\": \"vtkCellArray\", \"name\": null, \"dataType\": \"Uint32Array\", \"numberOfComponents\": 1, \"size\": 480, \"ranges\": [{\"min\": 0.0, \"max\": 97.0, \"component\": null}]}, \"fields\": [{\"hash\": \"e17a99ba83dab546485a80e58dc6bb5f_98f\", \"vtkClass\": \"vtkDataArray\", \"name\": \"Disp-normed\", \"dataType\": \"Float32Array\", \"numberOfComponents\": 1, \"size\": 98, \"ranges\": [{\"min\": 0.0, \"max\": 0.10247792303562164, \"component\": null}], \"location\": \"pointData\", \"registration\": \"setScalars\"}]}}, {\"parent\": \"000000013e36e640\", \"id\": \"000000013dbcf530\", \"type\": \"vtkLookupTable\", \"properties\": {\"numberOfColors\": 256, \"valueRange\": [0.0, 0.10247792303562164], \"hueRange\": [0.5, 0], \"saturationRange\": [1.0, 1.0], \"nanColor\": [0.6627450980392157, 0.6627450980392157, 0.6627450980392157, 1.0], \"belowRangeColor\": [0.0, 0.0, 0.0, 1.0], \"aboveRangeColor\": [1.0, 1.0, 1.0, 1.0], \"useAboveRangeColor\": false, \"useBelowRangeColor\": false, \"alpha\": 1.0, \"vectorSize\": -1, \"vectorComponent\": 0, \"vectorMode\": 1, \"indexedLookup\": 0, \"table\": [[68, 1, 84, 255], [68, 2, 85, 255], [68, 3, 87, 255], [69, 5, 88, 255], [69, 6, 90, 255], [69, 8, 91, 255], [70, 9, 92, 255], [70, 11, 94, 255], [70, 12, 95, 255], [70, 14, 97, 255], [71, 15, 98, 255], [71, 17, 99, 255], [71, 18, 101, 255], [71, 20, 102, 255], [71, 21, 103, 255], [71, 22, 105, 255], [71, 24, 106, 255], [72, 25, 107, 255], [72, 26, 108, 255], [72, 28, 110, 255], [72, 29, 111, 255], [72, 30, 112, 255], [72, 32, 113, 255], [72, 33, 114, 255], [72, 34, 115, 255], [72, 35, 116, 255], [71, 37, 117, 255], [71, 38, 118, 255], [71, 39, 119, 255], [71, 40, 120, 255], [71, 42, 121, 255], [71, 43, 122, 255], [71, 44, 123, 255], [70, 45, 124, 255], [70, 47, 124, 255], [70, 48, 125, 255], [70, 49, 126, 255], [69, 50, 127, 255], [69, 52, 127, 255], [69, 53, 128, 255], [69, 54, 129, 255], [68, 55, 129, 255], [68, 57, 130, 255], [67, 58, 131, 255], [67, 59, 131, 255], [67, 60, 132, 255], [66, 61, 132, 255], [66, 62, 133, 255], [66, 64, 133, 255], [65, 65, 134, 255], [65, 66, 134, 255], [64, 67, 135, 255], [64, 68, 135, 255], [63, 69, 135, 255], [63, 71, 136, 255], [62, 72, 136, 255], [62, 73, 137, 255], [61, 74, 137, 255], [61, 75, 137, 255], [61, 76, 137, 255], [60, 77, 138, 255], [60, 78, 138, 255], [59, 80, 138, 255], [59, 81, 138, 255], [58, 82, 139, 255], [58, 83, 139, 255], [57, 84, 139, 255], [57, 85, 139, 255], [56, 86, 139, 255], [56, 87, 140, 255], [55, 88, 140, 255], [55, 89, 140, 255], [54, 90, 140, 255], [54, 91, 140, 255], [53, 92, 140, 255], [53, 93, 140, 255], [52, 94, 141, 255], [52, 95, 141, 255], [51, 96, 141, 255], [51, 97, 141, 255], [50, 98, 141, 255], [50, 99, 141, 255], [49, 100, 141, 255], [49, 101, 141, 255], [49, 102, 141, 255], [48, 103, 141, 255], [48, 104, 141, 255], [47, 105, 141, 255], [47, 106, 141, 255], [46, 107, 142, 255], [46, 108, 142, 255], [46, 109, 142, 255], [45, 110, 142, 255], [45, 111, 142, 255], [44, 112, 142, 255], [44, 113, 142, 255], [44, 114, 142, 255], [43, 115, 142, 255], [43, 116, 142, 255], [42, 117, 142, 255], [42, 118, 142, 255], [42, 119, 142, 255], [41, 120, 142, 255], [41, 121, 142, 255], [40, 122, 142, 255], [40, 122, 142, 255], [40, 123, 142, 255], [39, 124, 142, 255], [39, 125, 142, 255], [39, 126, 142, 255], [38, 127, 142, 255], [38, 128, 142, 255], [38, 129, 142, 255], [37, 130, 142, 255], [37, 131, 141, 255], [36, 132, 141, 255], [36, 133, 141, 255], [36, 134, 141, 255], [35, 135, 141, 255], [35, 136, 141, 255], [35, 137, 141, 255], [34, 137, 141, 255], [34, 138, 141, 255], [34, 139, 141, 255], [33, 140, 141, 255], [33, 141, 140, 255], [33, 142, 140, 255], [32, 143, 140, 255], [32, 144, 140, 255], [32, 145, 140, 255], [31, 146, 140, 255], [31, 147, 139, 255], [31, 148, 139, 255], [31, 149, 139, 255], [31, 150, 139, 255], [30, 151, 138, 255], [30, 152, 138, 255], [30, 153, 138, 255], [30, 153, 138, 255], [30, 154, 137, 255], [30, 155, 137, 255], [30, 156, 137, 255], [30, 157, 136, 255], [30, 158, 136, 255], [30, 159, 136, 255], [30, 160, 135, 255], [31, 161, 135, 255], [31, 162, 134, 255], [31, 163, 134, 255], [32, 164, 133, 255], [32, 165, 133, 255], [33, 166, 133, 255], [33, 167, 132, 255], [34, 167, 132, 255], [35, 168, 131, 255], [35, 169, 130, 255], [36, 170, 130, 255], [37, 171, 129, 255], [38, 172, 129, 255], [39, 173, 128, 255], [40, 174, 127, 255], [41, 175, 127, 255], [42, 176, 126, 255], [43, 177, 125, 255], [44, 177, 125, 255], [46, 178, 124, 255], [47, 179, 123, 255], [48, 180, 122, 255], [50, 181, 122, 255], [51, 182, 121, 255], [53, 183, 120, 255], [54, 184, 119, 255], [56, 185, 118, 255], [57, 185, 118, 255], [59, 186, 117, 255], [61, 187, 116, 255], [62, 188, 115, 255], [64, 189, 114, 255], [66, 190, 113, 255], [68, 190, 112, 255], [69, 191, 111, 255], [71, 192, 110, 255], [73, 193, 109, 255], [75, 194, 108, 255], [77, 194, 107, 255], [79, 195, 105, 255], [81, 196, 104, 255], [83, 197, 103, 255], [85, 198, 102, 255], [87, 198, 101, 255], [89, 199, 100, 255], [91, 200, 98, 255], [94, 201, 97, 255], [96, 201, 96, 255], [98, 202, 95, 255], [100, 203, 93, 255], [103, 204, 92, 255], [105, 204, 91, 255], [107, 205, 89, 255], [109, 206, 88, 255], [112, 206, 86, 255], [114, 207, 85, 255], [116, 208, 84, 255], [119, 208, 82, 255], [121, 209, 81, 255], [124, 210, 79, 255], [126, 210, 78, 255], [129, 211, 76, 255], [131, 211, 75, 255], [134, 212, 73, 255], [136, 213, 71, 255], [139, 213, 70, 255], [141, 214, 68, 255], [144, 214, 67, 255], [146, 215, 65, 255], [149, 215, 63, 255], [151, 216, 62, 255], [154, 216, 60, 255], [157, 217, 58, 255], [159, 217, 56, 255], [162, 218, 55, 255], [165, 218, 53, 255], [167, 219, 51, 255], [170, 219, 50, 255], [173, 220, 48, 255], [175, 220, 46, 255], [178, 221, 44, 255], [181, 221, 43, 255], [183, 221, 41, 255], [186, 222, 39, 255], [189, 222, 38, 255], [191, 223, 36, 255], [194, 223, 34, 255], [197, 223, 33, 255], [199, 224, 31, 255], [202, 224, 30, 255], [205, 224, 29, 255], [207, 225, 28, 255], [210, 225, 27, 255], [212, 225, 26, 255], [215, 226, 25, 255], [218, 226, 24, 255], [220, 226, 24, 255], [223, 227, 24, 255], [225, 227, 24, 255], [228, 227, 24, 255], [231, 228, 25, 255], [233, 228, 25, 255], [236, 228, 26, 255], [238, 229, 27, 255], [241, 229, 28, 255], [243, 229, 30, 255], [246, 230, 31, 255], [248, 230, 33, 255], [250, 230, 34, 255], [253, 231, 36, 255]]}}]}, {\"parent\": \"000000013e395960\", \"id\": \"000000013e397490\", \"type\": \"vtkOpenGLProperty\", \"properties\": {\"representation\": 2, \"diffuseColor\": [0.6784313725490196, 0.8470588235294118, 0.9019607843137255], \"color\": [0.6784313725490196, 0.8470588235294118, 0.9019607843137255], \"ambientColor\": [0.6784313725490196, 0.8470588235294118, 0.9019607843137255], \"specularColor\": [0.6784313725490196, 0.8470588235294118, 0.9019607843137255], \"edgeColor\": [0.0, 0.0, 0.0], \"ambient\": 0.0, \"diffuse\": 1.0, \"specular\": 0.0, \"specularPower\": 100.0, \"opacity\": 1.0, \"interpolation\": 0, \"edgeVisibility\": 1, \"backfaceCulling\": 0, \"frontfaceCulling\": 0, \"pointSize\": 5.0, \"lineWidth\": 1.0, \"lighting\": 1}}]}, {\"parent\": \"00000001178b8200\", \"id\": \"000000013e396e40\", \"type\": \"vtkScalarBarActor\", \"properties\": {\"visibility\": 1, \"pickable\": 0, \"dragable\": 1, \"useBounds\": true, \"automated\": true, \"axisLabel\": \"Disp\", \"boxPosition\": [0.88, -0.92], \"boxSize\": [0.6, 0.08], \"axisTitlePixelOffset\": 36.0, \"axisTextStyle\": {\"fontColor\": \"#000000\", \"fontStyle\": \"normal\", \"fontSize\": 18, \"fontFamily\": \"serif\"}, \"tickLabelPixelOffset\": 14.0, \"tickTextStyle\": {\"fontColor\": \"#000000\", \"fontStyle\": \"normal\", \"fontSize\": 14, \"fontFamily\": \"serif\"}, \"drawNanAnnotation\": 0, \"drawBelowRangeSwatch\": false, \"drawAboveRangeSwatch\": false}, \"calls\": [[\"setScalarsToColors\", [\"instance:${000000013dbcf530}\"]]], \"dependencies\": [{\"parent\": \"000000013e396e40\", \"id\": \"000000013dbcf530\", \"type\": \"vtkLookupTable\", \"properties\": {}}]}, {\"parent\": \"00000001178b8200\", \"id\": \"000000013df4e240\", \"type\": \"vtkOpenGLLight\", \"properties\": {\"switch\": 1, \"intensity\": 0.25, \"color\": [1.0, 1.0, 1.0], \"position\": [0.0, 0.0, 1.0], \"focalPoint\": [0.0, 0.0, 0.0], \"positional\": 0, \"exponent\": 1.0, \"coneAngle\": 30.0, \"attenuationValues\": [1.0, 0.0, 0.0], \"lightType\": \"HeadLight\", \"shadowAttenuation\": 1.0}}, {\"parent\": \"00000001178b8200\", \"id\": \"000000013df4eb60\", \"type\": \"vtkOpenGLLight\", \"properties\": {\"switch\": 1, \"intensity\": 0.75, \"color\": [1.0, 0.9725490196078431, 0.9019607843137255], \"position\": [0.11161889704894966, 0.766044443118978, 0.6330222215594891], \"focalPoint\": [0.0, 0.0, 0.0], \"positional\": 0, \"exponent\": 1.0, \"coneAngle\": 30.0, \"attenuationValues\": [1.0, 0.0, 0.0], \"lightType\": \"CameraLight\", \"shadowAttenuation\": 1.0}}, {\"parent\": \"00000001178b8200\", \"id\": \"000000013df4f5c0\", \"type\": \"vtkOpenGLLight\", \"properties\": {\"switch\": 1, \"intensity\": 0.25, \"color\": [0.9098039215686274, 0.9333333333333333, 1.0], \"position\": [-0.044943455527547777, -0.9659258262890683, 0.25488700224417876], \"focalPoint\": [0.0, 0.0, 0.0], \"positional\": 0, \"exponent\": 1.0, \"coneAngle\": 30.0, \"attenuationValues\": [1.0, 0.0, 0.0], \"lightType\": \"CameraLight\", \"shadowAttenuation\": 1.0}}, {\"parent\": \"00000001178b8200\", \"id\": \"000000013df50020\", \"type\": \"vtkOpenGLLight\", \"properties\": {\"switch\": 1, \"intensity\": 0.21428571428571427, \"color\": [1.0, 1.0, 1.0], \"position\": [0.9396926207859084, 0.0, -0.3420201433256687], \"focalPoint\": [0.0, 0.0, 0.0], \"positional\": 0, \"exponent\": 1.0, \"coneAngle\": 30.0, \"attenuationValues\": [1.0, 0.0, 0.0], \"lightType\": \"CameraLight\", \"shadowAttenuation\": 1.0}}, {\"parent\": \"00000001178b8200\", \"id\": \"000000013df50a80\", \"type\": \"vtkOpenGLLight\", \"properties\": {\"switch\": 1, \"intensity\": 0.21428571428571427, \"color\": [1.0, 1.0, 1.0], \"position\": [-0.9396926207859084, 0.0, -0.3420201433256687], \"focalPoint\": [0.0, 0.0, 0.0], \"positional\": 0, \"exponent\": 1.0, \"coneAngle\": 30.0, \"attenuationValues\": [1.0, 0.0, 0.0], \"lightType\": \"CameraLight\", \"shadowAttenuation\": 1.0}}], \"calls\": [[\"setActiveCamera\", [\"instance:${000000013df44f10}\"]], [\"addViewProp\", [\"instance:${000000013e395960}\"]], [\"addViewProp\", [\"instance:${000000013e396e40}\"]], [\"addLight\", [\"instance:${000000013df4e240}\"]], [\"addLight\", [\"instance:${000000013df4eb60}\"]], [\"addLight\", [\"instance:${000000013df4f5c0}\"]], [\"addLight\", [\"instance:${000000013df50020}\"]], [\"addLight\", [\"instance:${000000013df50a80}\"]]]}], \"calls\": [[\"addRenderer\", [\"instance:${00000001178b8200}\"]]], \"mtime\": 26565, \"extra\": {\"vtkRefId\": \"000000013df49960\", \"centerOfRotation\": [0.550000011920929, 0.5, 0.5], \"camera\": \"000000013df44f10\"}}}{\"wslink\": \"1.0\", \"id\": \"publish:trame.vtk.delta:0\", \"result\": {\"parent\": \"0x0\", \"id\": 5, \"type\": \"vtkCocoaRenderWindow\", \"properties\": {\"numberOfLayers\": 2}, \"dependencies\": [{\"parent\": \"000000013df49960\", \"id\": \"00000001178b8200\", \"type\": \"vtkOpenGLRenderer\", \"properties\": {\"background\": [1.0, 1.0, 1.0], \"background2\": [0.2, 0.2, 0.2], \"viewport\": [0.0, 0.0, 1.0, 1.0], \"twoSidedLighting\": 1, \"lightFollowCamera\": 1, \"layer\": 0, \"preserveColorBuffer\": 0, \"preserveDepthBuffer\": 0, \"nearClippingPlaneTolerance\": 0.001, \"clippingRangeExpansion\": 0.5, \"useShadows\": 0, \"useDepthPeeling\": 0, \"occlusionRatio\": 0.0, \"maximumNumberOfPeels\": 4, \"interactive\": 1}, \"dependencies\": [{\"parent\": \"00000001178b8200\", \"id\": \"000000013df44f10\", \"type\": \"vtkOpenGLCamera\", \"properties\": {\"focalPoint\": [0.550000011920929, 0.5, 0.5], \"position\": [2.548322916095824, 2.498322904174895, 2.498322904174895], \"viewUp\": [0.0, 0.0, 1.0], \"clippingRange\": [1.6457479129482366, 5.7548215268957135]}}, {\"parent\": \"00000001178b8200\", \"id\": \"000000013e395960\", \"type\": \"vtkOpenGLActor\", \"properties\": {}, \"calls\": [[\"setMapper\", [\"instance:${000000013e36e640}\"]], [\"setProperty\", [\"instance:${000000013e397490}\"]]], \"dependencies\": [{\"parent\": \"000000013e395960\", \"id\": \"000000013e36e640\", \"type\": \"vtkMapper\", \"properties\": {}, \"calls\": [[\"setInputData\", [\"instance:${000000013e36e640-dataset}\"]], [\"setLookupTable\", [\"instance:${000000013dbcf530}\"]]], \"dependencies\": [{\"parent\": \"000000013e36e640\", \"id\": \"000000013e36e640-dataset\", \"type\": \"vtkPolyData\", \"properties\": {\"points\": {\"hash\": \"741be6a9ad2cf8bb66f153c3df783fb6_294d\", \"vtkClass\": \"vtkPoints\", \"name\": \"Points\", \"dataType\": \"Float64Array\", \"numberOfComponents\": 3, \"size\": 294, \"ranges\": [{\"min\": 0.0, \"max\": 1.100000023841858, \"component\": null}, {\"min\": 0.0, \"max\": 1.0, \"component\": null}, {\"min\": 0.0, \"max\": 1.0, \"component\": null}, {\"min\": 0.0, \"max\": 1.7740201243350686, \"component\": null}]}, \"polys\": {\"hash\": \"720da1cb82360216b2deef301444f2fd_480L\", \"vtkClass\": \"vtkCellArray\", \"name\": null, \"dataType\": \"Uint32Array\", \"numberOfComponents\": 1, \"size\": 480, \"ranges\": [{\"min\": 0.0, \"max\": 97.0, \"component\": null}]}, \"fields\": [{\"hash\": \"e17a99ba83dab546485a80e58dc6bb5f_98f\", \"vtkClass\": \"vtkDataArray\", \"name\": \"Disp-normed\", \"dataType\": \"Float32Array\", \"numberOfComponents\": 1, \"size\": 98, \"ranges\": [{\"min\": 0.0, \"max\": 0.10247792303562164, \"component\": null}], \"location\": \"pointData\", \"registration\": \"setScalars\"}]}}, {\"parent\": \"000000013e36e640\", \"id\": \"000000013dbcf530\", \"type\": \"vtkLookupTable\", \"properties\": {}}]}, {\"parent\": \"000000013e395960\", \"id\": \"000000013e397490\", \"type\": \"vtkOpenGLProperty\", \"properties\": {}}]}, {\"parent\": \"00000001178b8200\", \"id\": \"000000013e396e40\", \"type\": \"vtkScalarBarActor\", \"properties\": {}, \"calls\": [[\"setScalarsToColors\", [\"instance:${000000013dbcf530}\"]]], \"dependencies\": [{\"parent\": \"000000013e396e40\", \"id\": \"000000013dbcf530\", \"type\": \"vtkLookupTable\", \"properties\": {}}]}, {\"parent\": \"00000001178b8200\", \"id\": \"000000013df4e240\", \"type\": \"vtkOpenGLLight\", \"properties\": {}}, {\"parent\": \"00000001178b8200\", \"id\": \"000000013df4eb60\", \"type\": \"vtkOpenGLLight\", \"properties\": {}}, {\"parent\": \"00000001178b8200\", \"id\": \"000000013df4f5c0\", \"type\": \"vtkOpenGLLight\", \"properties\": {}}, {\"parent\": \"00000001178b8200\", \"id\": \"000000013df50020\", \"type\": \"vtkOpenGLLight\", \"properties\": {}}, {\"parent\": \"00000001178b8200\", \"id\": \"000000013df50a80\", \"type\": \"vtkOpenGLLight\", \"properties\": {}}], \"calls\": [[\"setActiveCamera\", [\"instance:${000000013df44f10}\"]]]}], \"calls\": [], \"mtime\": 26565, \"extra\": {\"vtkRefId\": \"000000013df49960\", \"centerOfRotation\": [0.550000011920929, 0.5, 0.5], \"camera\": \"000000013df44f10\"}}}\n",
      " JS Error => Malformed message:  \n"
     ]
    }
   ],
   "source": [
    "# Remove constraints and set thermal strain instead\n",
    "displacements = torch.zeros_like(nodes)\n",
    "constraints[:, :] = False\n",
    "constraints[nodes[:, 0] == 0.0, 0] = True\n",
    "constraints[nodes[:, 1] == 0.0, 1] = True\n",
    "constraints[nodes[:, 2] == 0.0, 2] = True\n",
    "strains = torch.stack(len(elements) * [torch.tensor([0.1, 0.2, 0.3, 0.0, 0.0, 0.0])])\n",
    "\n",
    "box = Solid(nodes, elements, forces, displacements, constraints, material.C(), strains)"
   ]
  },
  {
   "cell_type": "code",
   "execution_count": 55,
   "metadata": {},
   "outputs": [],
   "source": [
    "u, f = box.solve()"
   ]
  },
  {
   "cell_type": "code",
   "execution_count": 56,
   "metadata": {},
   "outputs": [
    {
     "data": {
      "application/vnd.jupyter.widget-view+json": {
       "model_id": "da73e5d7f28f4effafe649bbae4cec9c",
       "version_major": 2,
       "version_minor": 0
      },
      "text/plain": [
       "Widget(value=\"<iframe src='http://localhost:64016/index.html?ui=P_0x13eb1ece0_5&reconnect=auto' style='width: …"
      ]
     },
     "metadata": {},
     "output_type": "display_data"
    }
   ],
   "source": [
    "box.plot(u=u, node_property={\"Disp\": u})"
   ]
  },
  {
   "attachments": {},
   "cell_type": "markdown",
   "metadata": {},
   "source": [
    "# 3D Cube with tetrahedrons"
   ]
  },
  {
   "cell_type": "code",
   "execution_count": 57,
   "metadata": {},
   "outputs": [],
   "source": [
    "# Generate cube\n",
    "points, cells = meshzoo.cube_tetra(\n",
    "    torch.linspace(0.0, 1.0, 3),\n",
    "    torch.linspace(0.0, 1.0, 3),\n",
    "    torch.linspace(0.0, 1.0, 3),\n",
    ")\n",
    "nodes = torch.tensor(points)\n",
    "elements = torch.tensor(cells.tolist())\n",
    "\n",
    "# Assign boundary conditions\n",
    "forces = torch.zeros_like(nodes)\n",
    "constraints = torch.zeros_like(nodes, dtype=bool)\n",
    "constraints[nodes[:, 0] == 0.0, :] = True\n",
    "constraints[nodes[:, 0] == 1.0, 0] = True\n",
    "displacements = torch.zeros_like(nodes)\n",
    "displacements[nodes[:, 0] == 1.0, 0] = 0.1\n",
    "\n",
    "\n",
    "box = Solid(nodes, elements, forces, displacements, constraints, material.C())"
   ]
  },
  {
   "cell_type": "code",
   "execution_count": 58,
   "metadata": {},
   "outputs": [],
   "source": [
    "u, f = box.solve()"
   ]
  },
  {
   "cell_type": "code",
   "execution_count": 59,
   "metadata": {},
   "outputs": [
    {
     "data": {
      "application/vnd.jupyter.widget-view+json": {
       "model_id": "748cf9935e8d44fdb82c0e8cfc86274d",
       "version_major": 2,
       "version_minor": 0
      },
      "text/plain": [
       "Widget(value=\"<iframe src='http://localhost:64016/index.html?ui=P_0x13e892ad0_6&reconnect=auto' style='width: …"
      ]
     },
     "metadata": {},
     "output_type": "display_data"
    }
   ],
   "source": [
    "box.plot(u=u, node_property={\"Disp\": u})"
   ]
  }
 ],
 "metadata": {
  "kernelspec": {
   "display_name": "torchfem",
   "language": "python",
   "name": "python3"
  },
  "language_info": {
   "codemirror_mode": {
    "name": "ipython",
    "version": 3
   },
   "file_extension": ".py",
   "mimetype": "text/x-python",
   "name": "python",
   "nbconvert_exporter": "python",
   "pygments_lexer": "ipython3",
   "version": "3.10.13"
  },
  "orig_nbformat": 4
 },
 "nbformat": 4,
 "nbformat_minor": 2
}
