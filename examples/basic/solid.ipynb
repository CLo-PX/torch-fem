{
 "cells": [
  {
   "cell_type": "code",
   "execution_count": 1,
   "metadata": {},
   "outputs": [],
   "source": [
    "import torch\n",
    "import matplotlib.pyplot as plt\n",
    "import meshzoo\n",
    "\n",
    "from torchfem.elements import linear_to_quadratic\n",
    "from torchfem import Solid\n",
    "from torchfem.materials import IsotropicElasticity3D, IsotropicPlasticity3D\n",
    "\n",
    "torch.set_default_dtype(torch.float64)\n",
    "\n",
    "# Elastic material model\n",
    "material = IsotropicElasticity3D(E=1000.0, nu=0.3)"
   ]
  },
  {
   "attachments": {},
   "cell_type": "markdown",
   "metadata": {},
   "source": [
    "# 3D Cube with linear hexahedrons \n",
    "\n",
    "The output shape of displacements and forces is (N_increments, N_nodes, 3). \n",
    "The output shape of stresses, strains is (N_increments, N_int, N_elem, 6).\n",
    "The output shape of state variables is (N_increments, N_int, N_elem, N_state).\n",
    "\n"
   ]
  },
  {
   "cell_type": "code",
   "execution_count": 2,
   "metadata": {},
   "outputs": [
    {
     "data": {
      "application/vnd.jupyter.widget-view+json": {
       "model_id": "16a99ca57c8948e687e4f40b77321664",
       "version_major": 2,
       "version_minor": 0
      },
      "text/plain": [
       "Widget(value='<iframe src=\"http://localhost:55542/index.html?ui=P_0x14f10a8c0_0&reconnect=auto\" class=\"pyvista…"
      ]
     },
     "metadata": {},
     "output_type": "display_data"
    }
   ],
   "source": [
    "# Generate cube\n",
    "points, cells = meshzoo.cube_hexa(\n",
    "    torch.linspace(0.0, 1.0, 5),\n",
    "    torch.linspace(0.0, 1.0, 5),\n",
    "    torch.linspace(0.0, 1.0, 5),\n",
    ")\n",
    "nodes = torch.tensor(points)\n",
    "elements = torch.tensor(cells.tolist())\n",
    "\n",
    "# Create model\n",
    "box = Solid(nodes, elements, material)\n",
    "\n",
    "# Assign boundary conditions\n",
    "box.constraints[nodes[:, 0] == 0.0, :] = True\n",
    "box.constraints[nodes[:, 0] == 1.0, 0] = True\n",
    "box.displacements[nodes[:, 0] == 1.0, 0] = 0.1\n",
    "\n",
    "\n",
    "# Solve\n",
    "u, f, σ, ε, α = box.solve()\n",
    "\n",
    "# Plot\n",
    "box.plot(u=u, node_property={\"Disp\": u})"
   ]
  },
  {
   "cell_type": "markdown",
   "metadata": {},
   "source": [
    "## 3D Cube with quadratic hexahedrons "
   ]
  },
  {
   "cell_type": "code",
   "execution_count": 3,
   "metadata": {},
   "outputs": [
    {
     "data": {
      "application/vnd.jupyter.widget-view+json": {
       "model_id": "1853b8cb9da24666a1e75b059bf81f9a",
       "version_major": 2,
       "version_minor": 0
      },
      "text/plain": [
       "Widget(value='<iframe src=\"http://localhost:55542/index.html?ui=P_0x176f93940_1&reconnect=auto\" class=\"pyvista…"
      ]
     },
     "metadata": {},
     "output_type": "display_data"
    }
   ],
   "source": [
    "# Upgrade elements to quadratic\n",
    "nodes, elements = linear_to_quadratic(nodes, elements)\n",
    "\n",
    "# Create model\n",
    "box = Solid(nodes, elements, material)\n",
    "\n",
    "# Assign boundary conditions\n",
    "box.constraints[nodes[:, 0] == 0.0, :] = True\n",
    "box.constraints[nodes[:, 0] == 1.0, 0] = True\n",
    "box.displacements[nodes[:, 0] == 1.0, 0] = 0.1\n",
    "\n",
    "# Solve\n",
    "u, f, σ, ε, α = box.solve()\n",
    "\n",
    "# Plot\n",
    "box.plot(u=u, node_property={\"Disp\": u})"
   ]
  },
  {
   "cell_type": "markdown",
   "metadata": {},
   "source": [
    "# 3D Cube with linear hexahedrons  and inelastic (e.g. thermal) strain"
   ]
  },
  {
   "cell_type": "code",
   "execution_count": 4,
   "metadata": {},
   "outputs": [
    {
     "data": {
      "application/vnd.jupyter.widget-view+json": {
       "model_id": "38d1986b54be4e70b222983b79f28147",
       "version_major": 2,
       "version_minor": 0
      },
      "text/plain": [
       "Widget(value='<iframe src=\"http://localhost:55542/index.html?ui=P_0x17731d180_2&reconnect=auto\" class=\"pyvista…"
      ]
     },
     "metadata": {},
     "output_type": "display_data"
    }
   ],
   "source": [
    "# Generate cube\n",
    "points, cells = meshzoo.cube_hexa(\n",
    "    torch.linspace(0.0, 1.0, 5),\n",
    "    torch.linspace(0.0, 1.0, 5),\n",
    "    torch.linspace(0.0, 1.0, 5),\n",
    ")\n",
    "nodes = torch.tensor(points)\n",
    "elements = torch.tensor(cells.tolist())\n",
    "\n",
    "# Create model\n",
    "box = Solid(nodes, elements, material)\n",
    "\n",
    "# Set constraints\n",
    "box.constraints[:, :] = False\n",
    "box.constraints[nodes[:, 0] == 0.0, 0] = True\n",
    "box.constraints[nodes[:, 0] == 1.0, 0] = True\n",
    "box.constraints[nodes[:, 1] == 0.5, 1] = True\n",
    "box.constraints[nodes[:, 2] == 0.5, 2] = True\n",
    "\n",
    "# Set inelastic strain (isotropic shrinkage)\n",
    "s = -0.1\n",
    "box.ext_strain = torch.stack(len(elements) * [torch.tensor([s, s, s, 0.0, 0.0, 0.0])])\n",
    "\n",
    "u, f, σ, ε, α = box.solve()\n",
    "\n",
    "box.plot(u=u, node_property={\"Disp\": u}, show_undeformed=True)"
   ]
  },
  {
   "cell_type": "code",
   "execution_count": 5,
   "metadata": {},
   "outputs": [
    {
     "name": "stdout",
     "output_type": "stream",
     "text": [
      "Mean stress in x is 100.0. It should be 100.0.\n"
     ]
    }
   ],
   "source": [
    "print(f\"Mean stress in x is {σ[:, 0].mean()}. It should be {-material.E * s}.\")"
   ]
  },
  {
   "attachments": {},
   "cell_type": "markdown",
   "metadata": {},
   "source": [
    "## 3D Cube with linear tetrahedrons"
   ]
  },
  {
   "cell_type": "code",
   "execution_count": null,
   "metadata": {},
   "outputs": [
    {
     "data": {
      "application/vnd.jupyter.widget-view+json": {
       "model_id": "623e5beddd094f97b90af60d2fd1757d",
       "version_major": 2,
       "version_minor": 0
      },
      "text/plain": [
       "Widget(value='<iframe src=\"http://localhost:55542/index.html?ui=P_0x1770aa110_3&reconnect=auto\" class=\"pyvista…"
      ]
     },
     "metadata": {},
     "output_type": "display_data"
    }
   ],
   "source": [
    "# Generate cube\n",
    "points, cells = meshzoo.cube_tetra(\n",
    "    torch.linspace(0.0, 1.0, 3),\n",
    "    torch.linspace(0.0, 1.0, 3),\n",
    "    torch.linspace(0.0, 1.0, 3),\n",
    ")\n",
    "nodes = torch.tensor(points)\n",
    "elements = torch.tensor(cells.tolist())\n",
    "\n",
    "box = Solid(nodes, elements, material)\n",
    "\n",
    "# Assign boundary conditions\n",
    "box.constraints[nodes[:, 0] == 0.0, :] = True\n",
    "box.constraints[nodes[:, 0] == 1.0, 0] = True\n",
    "box.displacements[nodes[:, 0] == 1.0, 0] = 0.1\n",
    "\n",
    "u, f, σ, ε, α = box.solve()\n",
    "\n",
    "box.plot(u=u, node_property={\"Disp\": u})"
   ]
  },
  {
   "cell_type": "markdown",
   "metadata": {},
   "source": [
    "## 3D Cube with quadratic tetrahedrons"
   ]
  },
  {
   "cell_type": "code",
   "execution_count": 7,
   "metadata": {},
   "outputs": [
    {
     "data": {
      "application/vnd.jupyter.widget-view+json": {
       "model_id": "17daf2e133f74c9991ac5bd2b28e1f8e",
       "version_major": 2,
       "version_minor": 0
      },
      "text/plain": [
       "Widget(value='<iframe src=\"http://localhost:55542/index.html?ui=P_0x17731e2f0_4&reconnect=auto\" class=\"pyvista…"
      ]
     },
     "metadata": {},
     "output_type": "display_data"
    }
   ],
   "source": [
    "nodes, elements = linear_to_quadratic(nodes, elements)\n",
    "\n",
    "box = Solid(nodes, elements, material)\n",
    "\n",
    "# Assign boundary conditions\n",
    "box.constraints[nodes[:, 0] == 0.0, :] = True\n",
    "box.constraints[nodes[:, 0] == 1.0, 0] = True\n",
    "box.displacements[nodes[:, 0] == 1.0, 0] = 0.1\n",
    "\n",
    "u, f, σ, ε, α = box.solve()\n",
    "\n",
    "box.plot(u=u, node_property={\"Disp\": u})"
   ]
  },
  {
   "cell_type": "markdown",
   "metadata": {},
   "source": [
    "# 3D Cube with tetrahedrons and inelastic (e.g. thermal) strain"
   ]
  },
  {
   "cell_type": "code",
   "execution_count": 8,
   "metadata": {},
   "outputs": [
    {
     "data": {
      "application/vnd.jupyter.widget-view+json": {
       "model_id": "98207941d0d848f28c9bf3cc4a9f1cba",
       "version_major": 2,
       "version_minor": 0
      },
      "text/plain": [
       "Widget(value='<iframe src=\"http://localhost:55542/index.html?ui=P_0x177535720_5&reconnect=auto\" class=\"pyvista…"
      ]
     },
     "metadata": {},
     "output_type": "display_data"
    }
   ],
   "source": [
    "# Generate cube\n",
    "points, cells = meshzoo.cube_tetra(\n",
    "    torch.linspace(0.0, 1.0, 3),\n",
    "    torch.linspace(0.0, 1.0, 3),\n",
    "    torch.linspace(0.0, 1.0, 3),\n",
    ")\n",
    "nodes = torch.tensor(points)\n",
    "elements = torch.tensor(cells.tolist())\n",
    "\n",
    "box = Solid(nodes, elements, material)\n",
    "\n",
    "# Boundary conditions\n",
    "box.constraints[nodes[:, 0] == 0.0, 0] = True\n",
    "box.constraints[nodes[:, 0] == 1.0, 0] = True\n",
    "box.constraints[nodes[:, 1] == 0.5, 1] = True\n",
    "box.constraints[nodes[:, 2] == 0.5, 2] = True\n",
    "\n",
    "# Set inelastic strain (isotropic shrinkage)\n",
    "s = -0.1\n",
    "box.ext_strain = torch.stack(len(elements) * [torch.tensor([s, s, s, 0.0, 0.0, 0.0])])\n",
    "\n",
    "u, f, σ, ε, α = box.solve()\n",
    "\n",
    "box.plot(u=u, node_property={\"Disp\": u}, show_undeformed=True)"
   ]
  },
  {
   "cell_type": "code",
   "execution_count": 9,
   "metadata": {},
   "outputs": [
    {
     "name": "stdout",
     "output_type": "stream",
     "text": [
      "Mean stress in x is 100.0. It should be 100.0.\n"
     ]
    }
   ],
   "source": [
    "print(f\"Mean stress in x is {σ[:, 0].mean()}. It should be {-material.E * s}.\")"
   ]
  },
  {
   "cell_type": "markdown",
   "metadata": {},
   "source": [
    "# Plasticity\n",
    "We subject a 3D unit cube meshed with linear hexahedrons to a uniaxial stress state in the x-direction. The displacement is increased in increments and the material yields when the stress reaches a critical value. The material is modeled with a v. Mises yield criterion and a linear isotropic hardening law.\n"
   ]
  },
  {
   "cell_type": "markdown",
   "metadata": {},
   "source": [
    "#### Material model\n",
    "We employ a von Mises yield criterion with isotropic linear hardening. The plastic hardening function is given by\n",
    "\n",
    "$$\n",
    "\\sigma_f(q) = \\sigma_y + k q\n",
    "$$\n",
    "\n",
    "with the yield stress $\\sigma_y$, the equivalent plastic strain $q$ and the hardening modulus $k$.\n",
    "\n",
    "#### Incremental loading with radial return mapping algorithm \n",
    "We implement a radial return mapping algorithm to solve the plasticity problem. In each increment, we calculate the trial stress \n",
    "$$ \n",
    "\\sigma_{\\text{trial}} = \\sigma_n + C : \\Delta\\varepsilon\n",
    "$$\n",
    "and check if it exceeds the yield surface by evaluating the flow potential\n",
    "$$ \n",
    "f = ||\\sigma_{\\text{trial}}'|| - \\sqrt{\\frac{2}{3}}\\sigma_f(q).\n",
    "$$\n",
    "Here, $||\\sigma_{\\text{trial}}'||$ denotes the Frobenius norm of the deviatoric part of the trial stress.\n",
    "\n",
    "1. If $f \\leq 0$, the stress state is elastic. We update the variables as follows: \n",
    "$$\n",
    "\\sigma_{n+1} = \\sigma_{\\text{trial}} \\\\ q_{n+1} = q_{n}\\\\ d\\sigma d\\varepsilon_{n+1} = C.\n",
    "$$\n",
    "\n",
    "2. If $f > 0$, the stress state is plastic. We need to calculate the equivalent plastic strain $\\Delta \\gamma$ that leads to $f=0$ to satisfy the yield condition. This is generally a nonlinear equation and we solve it with Newton's method (in case of linear hardening, this is essentially solved in the first step...). We assume, that the direction of of flow is given by the deviatoric part of the trial stress, i.e. $n = \\frac{\\sigma_{\\text{trial}}'}{||\\sigma_{\\text{trial}}'||}$.\n",
    "Then, we update the variables as follows: \n",
    "\n",
    "$$\n",
    "\\sigma_{n+1} = \\sigma_{\\text{trial}} - 2 G \\Delta \\gamma n \\\\\n",
    "\\quad q_{n+1} = q_{n} + \\sqrt{\\frac{2}{3}} \\Delta \\gamma \\\\\n",
    "(d\\sigma d\\varepsilon)_{ijkl} = C_{ijkl} \n",
    "    - \\frac{2 G}{1 + \\frac{\\sigma_f'}{3 \\mu}} n_{ij} n_{kl}\n",
    "    - \\frac{4 G^2 \\Delta\\gamma}{||s||} \\left(\\frac{1}{2} \\left( \\delta_{ik}\\delta_{jl} + \\delta_{il}\\delta_{kj} \\right)\n",
    "         - \\frac{1}{3} \\delta_{ij} \\delta_{kl}\n",
    "        - n_{ij} n_{lk} \\right)\n",
    "$$"
   ]
  },
  {
   "cell_type": "code",
   "execution_count": 10,
   "metadata": {},
   "outputs": [],
   "source": [
    "E = 1000.0\n",
    "nu = 0.3\n",
    "sigma_y = 50.0\n",
    "k = 100.0\n",
    "\n",
    "\n",
    "# Hardening function\n",
    "def sigma_f(q):\n",
    "    return sigma_y + k * q\n",
    "\n",
    "\n",
    "# Derivative of the hardening function\n",
    "def sigma_f_prime(q):\n",
    "    return k\n",
    "\n",
    "\n",
    "# Elastic properties\n",
    "material = IsotropicPlasticity3D(E, nu, sigma_f, sigma_f_prime)"
   ]
  },
  {
   "cell_type": "code",
   "execution_count": 11,
   "metadata": {},
   "outputs": [],
   "source": [
    "# Generate cube\n",
    "points, cells = meshzoo.cube_hexa(\n",
    "    torch.linspace(0.0, 1.0, 5),\n",
    "    torch.linspace(0.0, 1.0, 5),\n",
    "    torch.linspace(0.0, 1.0, 5),\n",
    ")\n",
    "nodes = torch.tensor(points)\n",
    "elements = torch.tensor(cells.tolist())\n",
    "\n",
    "box = Solid(nodes, elements, material)\n",
    "\n",
    "# Set constraints\n",
    "DL = 0.1\n",
    "box.displacements[nodes[:, 0] == 1.0, 0] = DL\n",
    "box.constraints[nodes[:, 0] == 0.0, 0] = True\n",
    "box.constraints[nodes[:, 0] == 1.0, 0] = True\n",
    "box.constraints[nodes[:, 1] == 0.5, 1] = True\n",
    "box.constraints[nodes[:, 2] == 0.5, 2] = True\n",
    "\n",
    "# Incremental loading\n",
    "increments = torch.cat((torch.linspace(0.0, 1.0, 10), torch.linspace(1.0, 0.0, 10)))\n",
    "u, f, σ, ε, α = box.solve(increments=increments, return_intermediate=True)"
   ]
  },
  {
   "cell_type": "markdown",
   "metadata": {},
   "source": [
    "#### Postprocessing and evaluation\n",
    "\n",
    "The reference solution for the plastic region is given by solving the hardening rule\n",
    "$$\n",
    "\\sigma = \\sigma_y + K q\n",
    "$$\n",
    "for $q$ and substituting it into the elastic equation\n",
    "$$\n",
    "\\sigma = E (\\varepsilon - q).\n",
    "$$\n",
    "Solving for $\\sigma$ gives \n",
    "$$\n",
    "\\sigma = \\frac{kE}{k+E} (\\varepsilon + \\frac{\\sigma_y}{k}).\n",
    "$$"
   ]
  },
  {
   "cell_type": "code",
   "execution_count": 12,
   "metadata": {},
   "outputs": [
    {
     "data": {
      "image/png": "[encoded data removed]",
      "text/plain": [
       "<Figure size 640x480 with 1 Axes>"
      ]
     },
     "metadata": {},
     "output_type": "display_data"
    }
   ],
   "source": [
    "ref_strain = [0.0, sigma_y / E, DL, DL - k / (k + E) * (DL + sigma_y / k)]\n",
    "ref_stress = [0.0, sigma_y, k * E / (k + E) * (DL + sigma_y / k), 0]\n",
    "\n",
    "# Average x components over elements\n",
    "strain = ε[:, :, 0].mean(dim=1)\n",
    "stress = σ[:, :, 0].mean(dim=1)\n",
    "\n",
    "plt.plot(ref_strain, ref_stress, \"-\", label=\"Reference\")\n",
    "plt.plot(strain, stress, \".-\", label=\"FEM\")\n",
    "plt.xlabel(\"Strain ε_xx\")\n",
    "plt.ylabel(\"Stress σ_xx\")\n",
    "plt.title(\"Stress-strain curve for isotropic linear hardening\")\n",
    "plt.ylim(bottom=0)\n",
    "plt.xlim(left=0)\n",
    "plt.grid()\n",
    "plt.legend()\n",
    "plt.show()"
   ]
  }
 ],
 "metadata": {
  "kernelspec": {
   "display_name": "torchfem",
   "language": "python",
   "name": "python3"
  },
  "language_info": {
   "codemirror_mode": {
    "name": "ipython",
    "version": 3
   },
   "file_extension": ".py",
   "mimetype": "text/x-python",
   "name": "python",
   "nbconvert_exporter": "python",
   "pygments_lexer": "ipython3",
   "version": "3.10.13"
  },
  "orig_nbformat": 4
 },
 "nbformat": 4,
 "nbformat_minor": 2
}
