{
 "cells": [
  {
   "cell_type": "code",
   "execution_count": 1,
   "metadata": {},
   "outputs": [],
   "source": [
    "import torch\n",
    "import meshzoo\n",
    "\n",
    "from torchfem import Shell"
   ]
  },
  {
   "attachments": {},
   "cell_type": "markdown",
   "metadata": {},
   "source": [
    "## Two simple triangular shell elements"
   ]
  },
  {
   "cell_type": "code",
   "execution_count": 2,
   "metadata": {},
   "outputs": [
    {
     "data": {
      "application/vnd.jupyter.widget-view+json": {
       "model_id": "b2f52dcf794e4773bd320788dad4e7bc",
       "version_major": 2,
       "version_minor": 0
      },
      "text/plain": [
       "Widget(value=\"<iframe src='http://localhost:63287/index.html?ui=P_0x174f60510_1&reconnect=auto' style='width: …"
      ]
     },
     "metadata": {},
     "output_type": "display_data"
    }
   ],
   "source": [
    "# Material model (plane stress)\n",
    "E = 1000.0\n",
    "nu = 0.3\n",
    "C = (E / ((1.0 + nu) * (1.0 - 2.0 * nu))) * torch.tensor(\n",
    "    [[1.0 - nu, nu, 0.0], [nu, 1.0 - nu, 0.0], [0.0, 0.0, 0.5 - nu]]\n",
    ")\n",
    "\n",
    "# Create nodes and element\n",
    "nodes = torch.tensor(\n",
    "    [[0.0, 0.0, 0.0], [2.0, 0.0, 0.0], [0.0, 1.0, 0.0], [1.0, 1.0, 0.0]]\n",
    ")\n",
    "elements = [[0, 1, 2], [3, 2, 1]]\n",
    "\n",
    "\n",
    "# Constrained displacement at left end\n",
    "forces = torch.zeros_like(nodes)\n",
    "displacements = torch.zeros_like(nodes)\n",
    "displacements[nodes[:, 0] > 0.99] = 1.0\n",
    "constraints = torch.ones_like(nodes, dtype=bool)\n",
    "\n",
    "# Thickness\n",
    "thickness = 0.1 * torch.ones(len(elements))\n",
    "\n",
    "rectangle = Shell(nodes, elements, forces, displacements, constraints, thickness, C)\n",
    "rectangle.plot()"
   ]
  },
  {
   "cell_type": "code",
   "execution_count": 3,
   "metadata": {},
   "outputs": [
    {
     "name": "stdout",
     "output_type": "stream",
     "text": [
      "torch.float32\n"
     ]
    },
    {
     "data": {
      "application/vnd.jupyter.widget-view+json": {
       "model_id": "4e83939e61d14ee1afc55d4de5237749",
       "version_major": 2,
       "version_minor": 0
      },
      "text/plain": [
       "Widget(value=\"<iframe src='http://localhost:63287/index.html?ui=P_0x28e68f850_3&reconnect=auto' style='width: …"
      ]
     },
     "metadata": {},
     "output_type": "display_data"
    }
   ],
   "source": [
    "# Solve\n",
    "u, f = rectangle.solve()\n",
    "# Plot\n",
    "rectangle.plot(u, node_property={\"u\": torch.norm(u, dim=1)})"
   ]
  },
  {
   "cell_type": "code",
   "execution_count": 27,
   "metadata": {},
   "outputs": [
    {
     "data": {
      "application/vnd.jupyter.widget-view+json": {
       "model_id": "abb8289b457c40e98752724fbcaaf19e",
       "version_major": 2,
       "version_minor": 0
      },
      "text/plain": [
       "Widget(value=\"<iframe src='http://localhost:63287/index.html?ui=P_0x28e722fd0_47&reconnect=auto' style='width:…"
      ]
     },
     "metadata": {},
     "output_type": "display_data"
    }
   ],
   "source": [
    "points, cells = meshzoo.tube(length=1.0, radius=0.5, n=15)\n",
    "nodes = torch.tensor(points, dtype=torch.float32)\n",
    "top = nodes[:, 2] > 0.49\n",
    "bottom = nodes[:, 2] < -0.49\n",
    "elements = cells.tolist()\n",
    "forces = torch.zeros_like(nodes)\n",
    "displacements = torch.zeros_like(nodes)\n",
    "displacements[top, 2] = 0.1\n",
    "constraints = torch.zeros_like(nodes, dtype=bool)\n",
    "constraints[bottom] = True\n",
    "constraints[top] = True\n",
    "thickness = 0.1 * torch.ones(len(elements))\n",
    "\n",
    "# Thickness\n",
    "thickness = 0.1 * torch.ones(len(elements))\n",
    "tube = Shell(nodes, elements, forces, displacements, constraints, thickness, C)\n",
    "tube.plot()"
   ]
  },
  {
   "cell_type": "code",
   "execution_count": 28,
   "metadata": {},
   "outputs": [
    {
     "name": "stdout",
     "output_type": "stream",
     "text": [
      "torch.float32\n"
     ]
    },
    {
     "data": {
      "application/vnd.jupyter.widget-view+json": {
       "model_id": "4d95fe5429444c44bf0fb1b506a9e941",
       "version_major": 2,
       "version_minor": 0
      },
      "text/plain": [
       "Widget(value=\"<iframe src='http://localhost:63287/index.html?ui=P_0x28e6b10d0_49&reconnect=auto' style='width:…"
      ]
     },
     "metadata": {},
     "output_type": "display_data"
    }
   ],
   "source": [
    "# Solve\n",
    "u, f = tube.solve()\n",
    "# Plot\n",
    "tube.plot(u, node_property={\"u\": u})"
   ]
  }
 ],
 "metadata": {
  "kernelspec": {
   "display_name": "Python 3 (ipykernel)",
   "language": "python",
   "name": "python3"
  },
  "language_info": {
   "codemirror_mode": {
    "name": "ipython",
    "version": 3
   },
   "file_extension": ".py",
   "mimetype": "text/x-python",
   "name": "python",
   "nbconvert_exporter": "python",
   "pygments_lexer": "ipython3",
   "version": "3.11.4"
  },
  "vscode": {
   "interpreter": {
    "hash": "53e816d343ac3b69abbe00d0113a5825a790940e53acda2e016fe2e76fc78702"
   }
  }
 },
 "nbformat": 4,
 "nbformat_minor": 4
}
