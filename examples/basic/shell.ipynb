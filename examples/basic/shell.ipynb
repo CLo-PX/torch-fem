{
 "cells": [
  {
   "cell_type": "code",
   "execution_count": 1,
   "metadata": {},
   "outputs": [],
   "source": [
    "import torch\n",
    "import meshzoo\n",
    "\n",
    "from torchfem import Shell"
   ]
  },
  {
   "attachments": {},
   "cell_type": "markdown",
   "metadata": {},
   "source": [
    "## Two simple triangular shell elements"
   ]
  },
  {
   "cell_type": "code",
   "execution_count": 2,
   "metadata": {},
   "outputs": [
    {
     "data": {
      "application/vnd.jupyter.widget-view+json": {
       "model_id": "377e6f335ef14d7daf1784660e228b3e",
       "version_major": 2,
       "version_minor": 0
      },
      "text/plain": [
       "Widget(value=\"<iframe src='http://localhost:56062/index.html?ui=P_0x29f9fae90_1&reconnect=auto' style='width: …"
      ]
     },
     "metadata": {},
     "output_type": "display_data"
    }
   ],
   "source": [
    "# Material model (plane stress)\n",
    "E = 1000.0\n",
    "nu = 0.3\n",
    "\n",
    "# Create nodes and element\n",
    "nodes = torch.tensor(\n",
    "    [[0.0, 0.0, 0.0], [1.0, 0.0, 0.0], [0.0, 1.0, 0.0], [1.0, 1.0, 0.0]]\n",
    ")\n",
    "elements = [[1, 2, 0], [3, 2, 1]]\n",
    "\n",
    "# Constrained displacement at left end\n",
    "left = nodes[:, 0] < 0.01\n",
    "right = nodes[:, 0] > 0.99\n",
    "forces = torch.zeros((len(nodes), 6))\n",
    "displacements = torch.zeros((len(nodes), 6))\n",
    "displacements[right,0] = 0.1\n",
    "constraints = torch.zeros((len(nodes), 6), dtype=bool)\n",
    "constraints[left] = True\n",
    "constraints[right,0] = True\n",
    "\n",
    "# Thickness\n",
    "thickness = 0.1 * torch.ones(len(elements))\n",
    "\n",
    "rectangle = Shell(nodes, elements, forces, displacements, constraints, thickness, E, nu)\n",
    "rectangle.plot()"
   ]
  },
  {
   "cell_type": "markdown",
   "metadata": {},
   "source": [
    "Reference stiffness matrix (Abaqus STRI3):\n",
    "\n",
    "```\n",
    " 54.9458,\n",
    "  0.0016, 19.2363    \n",
    "  0.0000,  0.0000, 0.5048\n",
    "  0.0000,  0.0000, 0.0366, 0.0512\n",
    "  0.0000,  0.0000, 0.2203, 0.0022, 0.1399\n",
    " -0.0016, -0.0048, 0.0000, 0.0000, 0.0000,0.00641\n",
    " -0.0016, 19.2267, 0.0000, 0.0000, 0.0000,0.00160, 19.2363\n",
    " 16.4827, -0.0016, 0.0000, 0.0000, 0.0000,0.00160,  0.0016, 54.9458\n",
    "  0.0000,  0.0000,-0.0446,-0.1007, 0.0097,0.00000,  0.0000,  0.0000, 0.5048\n",
    "  0.0000,  0.0000,-0.0097, 0.0343,-0.0346,0.00000,  0.0000,  0.0000,-0.2203,0.1399\n",
    "  0.0000,  0.0000, 0.1007, 0.0191, 0.0343,0.00000,  0.0000,  0.0000,-0.0366,0.0022, 0.0512\n",
    " -0.0160, -0.0016, 0.0000, 0.0000, 0.0000,0.00000,  0.0048,  0.0016, 0.0000,0.0000, 0.0000,  0.0064\n",
    "-54.9442,-19.2283, 0.0000, 0.0000, 0.0000,0.00000,-19.2347,-16.4843, 0.0000,0.0000, 0.0000, -0.0032,74.1790\n",
    "-16.4843,-19.2347, 0.0000, 0.0000, 0.0000,0.00320,-19.2283,-54.9442, 0.0000,0.0000, 0.0000,  0.0000,35.7126,74.1790   \n",
    "  0.0000,  0.0000,-0.4601, 0.0641,-0.2300,0.00000,  0.0000,  0.0000,-0.4601,0.2300,-0.0641,  0.0000, 0.0000, 0.0000, 0.9203  \n",
    "  0.0000,  0.0000, 0.0177, 0.0151, 0.0226,0.00000,  0.0000,  0.0000,-0.1837,0.0460, 0.0151,  0.0000, 0.0000, 0.0000, 0.1659, 0.1224\n",
    "  0.0000,  0.0000, 0.1837, 0.0151, 0.0460,0.00000,  0.0000,  0.0000,-0.0177,0.0226, 0.0151,  0.0000, 0.0000, 0.0000,-0.1659,-0.0200,0.1224\n",
    "  0.0000, -0.0032, 0.0000, 0.0000, 0.0000,0.00000,  0.0032,  0.0000, 0.0000,0.0000, 0.0000,  0.0000,-0.0032, 0.0032, 0.0000, 0.0000,0.0000,0.0064\n",
    "```"
   ]
  },
  {
   "cell_type": "code",
   "execution_count": 3,
   "metadata": {},
   "outputs": [
    {
     "name": "stdout",
     "output_type": "stream",
     "text": [
      " 54.9451\n",
      "  0.0000, 19.2308\n",
      "  0.0000,  0.0000,  0.2462\n",
      "  0.0000,  0.0000,  0.0000,  0.0776\n",
      "  0.0000,  0.0000,  0.1231, -0.0000,  0.1073\n",
      "  0.0000,  0.0000,  0.0000,  0.0000,  0.0000,  1.0000\n",
      "  0.0000, 19.2308,  0.0000,  0.0000,  0.0000,  0.0000, 19.2308\n",
      " 16.4835,  0.0000,  0.0000,  0.0000,  0.0000,  0.0000,  0.0000, 54.9450\n",
      "  0.0000,  0.0000, -0.0000, -0.1231, -0.0000,  0.0000,  0.0000,  0.0000,  0.2462\n",
      "  0.0000,  0.0000,  0.0000,  0.0615, -0.0137,  0.0000,  0.0000,  0.0000, -0.1231,  0.1073\n",
      "  0.0000,  0.0000,  0.0000,  0.0455,  0.0000,  0.0000,  0.0000,  0.0000, -0.1231,  0.0615,  0.0776\n",
      "  0.0000,  0.0000,  0.0000,  0.0000,  0.0000,  0.0000,  0.0000,  0.0000,  0.0000,  0.0000,  0.0000,  1.0000\n",
      "-54.9450,-19.2308,  0.0000,  0.0000,  0.0000,  0.0000,-19.2308,-16.4835,  0.0000,  0.0000,  0.0000,  0.0000, 74.1758\n",
      "-16.4835,-19.2308,  0.0000,  0.0000,  0.0000,  0.0000,-19.2308,-54.9450,  0.0000,  0.0000,  0.0000,  0.0000, 35.7143, 74.1758\n",
      "  0.0000,  0.0000, -0.2462,  0.1231, -0.1231,  0.0000,  0.0000,  0.0000, -0.2462,  0.1231,  0.1231,  0.0000,  0.0000,  0.0000,  0.4923\n",
      "  0.0000,  0.0000,  0.0000, -0.0160,  0.0137,  0.0000,  0.0000,  0.0000,  0.0000, -0.0458,  0.0160,  0.0000,  0.0000,  0.0000, -0.0000,  0.0618\n",
      "  0.0000,  0.0000,  0.1231, -0.0455,  0.0158,  0.0000,  0.0000,  0.0000,  0.1231, -0.0478, -0.0776,  0.0000,  0.0000,  0.0000, -0.2462, -0.0298,  0.1849\n",
      "  0.0000,  0.0000,  0.0000,  0.0000,  0.0000,  0.0000,  0.0000,  0.0000,  0.0000,  0.0000,  0.0000,  0.0000,  0.0000,  0.0000,  0.0000,  0.0000,  0.0000,  1.0000\n"
     ]
    }
   ],
   "source": [
    "for i, row in enumerate(rectangle.k()[0]):\n",
    "    print(\",\".join([f\"{j:8.4f}\" for j in row[0 : i + 1]]))"
   ]
  },
  {
   "cell_type": "code",
   "execution_count": 4,
   "metadata": {},
   "outputs": [
    {
     "data": {
      "application/vnd.jupyter.widget-view+json": {
       "model_id": "fd970c6b032647a09a567606dcc058ad",
       "version_major": 2,
       "version_minor": 0
      },
      "text/plain": [
       "Widget(value=\"<iframe src='http://localhost:56062/index.html?ui=P_0x1711d6410_2&reconnect=auto' style='width: …"
      ]
     },
     "metadata": {},
     "output_type": "display_data"
    }
   ],
   "source": [
    "# Solve\n",
    "u, f = rectangle.solve()\n",
    "sigma = rectangle.compute_stress(u)\n",
    "# Plot\n",
    "rectangle.plot(u[:, 0:3], node_property={\"u\": torch.norm(u, dim=1)})"
   ]
  },
  {
   "cell_type": "markdown",
   "metadata": {},
   "source": [
    "## Membrane tube"
   ]
  },
  {
   "cell_type": "code",
   "execution_count": 5,
   "metadata": {},
   "outputs": [
    {
     "data": {
      "application/vnd.jupyter.widget-view+json": {
       "model_id": "45c0d551c4314baeae31a48c5db27970",
       "version_major": 2,
       "version_minor": 0
      },
      "text/plain": [
       "Widget(value=\"<iframe src='http://localhost:56062/index.html?ui=P_0x1711d9950_3&reconnect=auto' style='width: …"
      ]
     },
     "metadata": {},
     "output_type": "display_data"
    }
   ],
   "source": [
    "points, cells = meshzoo.tube(length=1.0, radius=0.5, n=10)\n",
    "nodes = torch.tensor(points, dtype=torch.float32)\n",
    "top = nodes[:, 2] > 0.49\n",
    "middle = (nodes[:, 2] < 0.01) & (nodes[:, 2] > -0.01)\n",
    "bottom = nodes[:, 2] < -0.49\n",
    "elements = cells.tolist()\n",
    "forces = torch.zeros((len(nodes), 6))\n",
    "displacements = torch.zeros((len(nodes), 6))\n",
    "displacements[top, 2] = 0.1\n",
    "constraints = torch.ones((len(nodes), 6), dtype=bool)\n",
    "constraints[middle, 2] = False\n",
    "thickness = 0.1 * torch.ones(len(elements))\n",
    "\n",
    "# Thickness\n",
    "thickness = 0.1 * torch.ones(len(elements))\n",
    "tube = Shell(nodes, elements, forces, displacements, constraints, thickness, E, nu)\n",
    "tube.plot()"
   ]
  },
  {
   "cell_type": "code",
   "execution_count": 6,
   "metadata": {},
   "outputs": [
    {
     "data": {
      "application/vnd.jupyter.widget-view+json": {
       "model_id": "417bc2a51f944edb94be4995925603f9",
       "version_major": 2,
       "version_minor": 0
      },
      "text/plain": [
       "Widget(value=\"<iframe src='http://localhost:56062/index.html?ui=P_0x1711c40d0_4&reconnect=auto' style='width: …"
      ]
     },
     "metadata": {},
     "output_type": "display_data"
    }
   ],
   "source": [
    "# Solve\n",
    "u, f = tube.solve()\n",
    "tube.plot(u[:, 0:3], node_property={\"u_z\": u[:, 2]})"
   ]
  },
  {
   "cell_type": "code",
   "execution_count": 7,
   "metadata": {},
   "outputs": [
    {
     "data": {
      "application/vnd.jupyter.widget-view+json": {
       "model_id": "2b5a8499a1074b2597082cf9d6dba993",
       "version_major": 2,
       "version_minor": 0
      },
      "text/plain": [
       "Widget(value=\"<iframe src='http://localhost:56062/index.html?ui=P_0x29fe9b0d0_5&reconnect=auto' style='width: …"
      ]
     },
     "metadata": {},
     "output_type": "display_data"
    }
   ],
   "source": [
    "sigma = tube.compute_stress(u)  # Plot\n",
    "tube.plot(u[:, 0:3], element_property={\"S_zz\": sigma[:, 2, 2]})"
   ]
  }
 ],
 "metadata": {
  "kernelspec": {
   "display_name": "Python 3 (ipykernel)",
   "language": "python",
   "name": "python3"
  },
  "language_info": {
   "codemirror_mode": {
    "name": "ipython",
    "version": 3
   },
   "file_extension": ".py",
   "mimetype": "text/x-python",
   "name": "python",
   "nbconvert_exporter": "python",
   "pygments_lexer": "ipython3",
   "version": "3.11.4"
  },
  "vscode": {
   "interpreter": {
    "hash": "53e816d343ac3b69abbe00d0113a5825a790940e53acda2e016fe2e76fc78702"
   }
  }
 },
 "nbformat": 4,
 "nbformat_minor": 4
}
