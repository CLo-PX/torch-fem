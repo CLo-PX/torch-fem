{
 "cells": [
  {
   "cell_type": "code",
   "execution_count": 1,
   "metadata": {},
   "outputs": [],
   "source": [
    "import torch\n",
    "import meshzoo\n",
    "\n",
    "from torchfem import Shell"
   ]
  },
  {
   "cell_type": "markdown",
   "metadata": {},
   "source": [
    "# Cantilever plate \n",
    "\n",
    "A plate of dimensions 100mm x 50mm x 0.5mm clamped at one end. It is subjected to concentrated forces of 5N at each corner at the tip. \n",
    "\n",
    "A reference solution is computed with ABAQUS for the following shell elements: \n",
    "\n",
    "| Type   | u_max | S_max |\n",
    "|--------|-------|-------|\n",
    "| S3     | 30.36 | 423.6 |\n",
    "| STRI3  | 30.64 | 461.7 |\n",
    "| STRI65 | 30.90 | 481.4 |"
   ]
  },
  {
   "cell_type": "code",
   "execution_count": 2,
   "metadata": {},
   "outputs": [
    {
     "data": {
      "application/vnd.jupyter.widget-view+json": {
       "model_id": "30e7b7e763b0466d96f66bd8522b5d6f",
       "version_major": 2,
       "version_minor": 0
      },
      "text/plain": [
       "Widget(value=\"<iframe src='http://localhost:60689/index.html?ui=P_0x16a02fad0_1&reconnect=auto' style='width: …"
      ]
     },
     "metadata": {},
     "output_type": "display_data"
    },
    {
     "data": {
      "application/vnd.jupyter.widget-view+json": {
       "model_id": "2de27ebaef8949ac8280d23cfe2e0853",
       "version_major": 2,
       "version_minor": 0
      },
      "text/plain": [
       "Widget(value=\"<iframe src='http://localhost:60689/index.html?ui=P_0x156947c90_1&reconnect=auto' style='width: …"
      ]
     },
     "metadata": {},
     "output_type": "display_data"
    }
   ],
   "source": [
    "# Material parameters\n",
    "E = 200000\n",
    "nu = 0.3\n",
    "\n",
    "# Define nodes and element of the plate\n",
    "X = torch.linspace(0.0, 100.0, 10)\n",
    "Y = torch.linspace(0.0, 50.0, 5)\n",
    "points, cells = meshzoo.rectangle_tri(X, Y, variant=\"zigzag\")\n",
    "N = len(points)\n",
    "nodes = torch.hstack([torch.tensor(points, dtype=torch.float32), torch.zeros((N, 1))])\n",
    "elements = cells.tolist()\n",
    "\n",
    "# Define masks for boundaries\n",
    "left = nodes[:, 0] < 0.01\n",
    "corner_1 = (nodes[:, 0] > 99.9) & (nodes[:, 1] < 0.01)\n",
    "corner_2 = (nodes[:, 0] > 99.9) & (nodes[:, 1] > 49.99)\n",
    "\n",
    "# Apply load boundary conditions\n",
    "forces = torch.zeros((N, 6))\n",
    "forces[corner_1, 2] = 5\n",
    "forces[corner_2, 2] = 5\n",
    "\n",
    "# Apply displacement boundary conditions\n",
    "displacements = torch.zeros((N, 6))\n",
    "constraints = torch.zeros((N, 6), dtype=bool)\n",
    "constraints[left] = True\n",
    "\n",
    "# Thickness\n",
    "thickness = 0.5 * torch.ones(len(elements))\n",
    "\n",
    "# Define Shell model\n",
    "cantilever = Shell(nodes, elements, forces, displacements, constraints, thickness, E, nu)\n",
    "\n",
    "# Solve and visualize results\n",
    "u, f = cantilever.solve()\n",
    "mises = cantilever.compute_stress(u, z=0.25, mises=True)\n",
    "cantilever.plot(u[:, 0:3], node_property={\"u\": torch.linalg.norm(u[:, 0:3], dim=1)})\n",
    "cantilever.plot(u[:, 0:3], element_property={\"mises\": mises}, thickness=True)"
   ]
  },
  {
   "cell_type": "markdown",
   "metadata": {},
   "source": [
    "# Center-loaded plate\n",
    "\n",
    "A square plate of 100x100 is fully clamped at all edges and subjected to a concentrated force F=16.367 at the center. A symmetric quarter model is computed. \n",
    "\n",
    "\n",
    "A reference solution is computed with ABAQUS for the following shell elements: \n",
    "\n",
    "| Type   | u_max  | \n",
    "|--------|--------| \n",
    "| S3     | -3.773 |\n",
    "| STRI3  | -4.041 | \n",
    "| STRI65 | -4.486 | \n",
    " "
   ]
  },
  {
   "cell_type": "code",
   "execution_count": 3,
   "metadata": {},
   "outputs": [
    {
     "data": {
      "application/vnd.jupyter.widget-view+json": {
       "model_id": "8cfc9ad8104a474ca42015b7b100727c",
       "version_major": 2,
       "version_minor": 0
      },
      "text/plain": [
       "Widget(value=\"<iframe src='http://localhost:60689/index.html?ui=P_0x16a061ed0_2&reconnect=auto' style='width: …"
      ]
     },
     "metadata": {},
     "output_type": "display_data"
    },
    {
     "data": {
      "application/vnd.jupyter.widget-view+json": {
       "model_id": "d30399a641ad46cdb4c15e52b287f8e6",
       "version_major": 2,
       "version_minor": 0
      },
      "text/plain": [
       "Widget(value=\"<iframe src='http://localhost:60689/index.html?ui=P_0x16a0e9fd0_2&reconnect=auto' style='width: …"
      ]
     },
     "metadata": {},
     "output_type": "display_data"
    }
   ],
   "source": [
    "# Constants\n",
    "E = 10000\n",
    "nu = 0.3\n",
    "L = 100.0\n",
    "t = 1.0\n",
    "F = -16.367\n",
    "\n",
    "# Define plate\n",
    "X = torch.linspace(0.0, 0.5*L, 9)\n",
    "Y = torch.linspace(0.0, 0.5*L, 9)\n",
    "points, cells = meshzoo.rectangle_tri(X, Y, variant=\"zigzag\")\n",
    "N = len(points)\n",
    "nodes = torch.hstack([torch.tensor(points, dtype=torch.float32), torch.zeros((N, 1))])\n",
    "elements = cells.tolist()\n",
    "\n",
    "# Boundaries\n",
    "top = nodes[:, 1] > (L/2.0 - 0.01)\n",
    "bottom = nodes[:, 1] < 0.01\n",
    "left = nodes[:, 0] < 0.01\n",
    "right = nodes[:, 0] > (L/2.0 - 0.01)\n",
    "\n",
    "# Boundary conditions\n",
    "forces = torch.zeros((N, 6))\n",
    "forces[0, 2] = F\n",
    "displacements = torch.zeros((N, 6))\n",
    "constraints = torch.zeros((N, 6), dtype=bool)\n",
    "constraints[top] = True\n",
    "constraints[right] = True\n",
    "constraints[left, 0] = True\n",
    "constraints[left, 4] = True\n",
    "constraints[left, 5] = True\n",
    "constraints[bottom, 1] = True\n",
    "constraints[bottom, 3] = True\n",
    "constraints[bottom, 5] = True\n",
    "\n",
    "# Thickness\n",
    "thickness = t * torch.ones(len(elements))\n",
    "\n",
    "# Create Shell model\n",
    "plate = Shell(nodes, elements, forces, displacements, constraints, thickness, E, nu)\n",
    "\n",
    "# Solve\n",
    "u, f = plate.solve()\n",
    "mises = plate.compute_stress(u, z=0.25, mises=True)\n",
    "plate.plot(u[:, 0:3], node_property={\"u\": torch.linalg.norm(u[:, 0:3], dim=1)})\n",
    "plate.plot(u[:, 0:3], element_property={\"mises\": mises}, thickness=True)"
   ]
  }
 ],
 "metadata": {
  "kernelspec": {
   "display_name": "Python 3 (ipykernel)",
   "language": "python",
   "name": "python3"
  },
  "language_info": {
   "codemirror_mode": {
    "name": "ipython",
    "version": 3
   },
   "file_extension": ".py",
   "mimetype": "text/x-python",
   "name": "python",
   "nbconvert_exporter": "python",
   "pygments_lexer": "ipython3",
   "version": "3.11.4"
  },
  "vscode": {
   "interpreter": {
    "hash": "53e816d343ac3b69abbe00d0113a5825a790940e53acda2e016fe2e76fc78702"
   }
  }
 },
 "nbformat": 4,
 "nbformat_minor": 4
}
