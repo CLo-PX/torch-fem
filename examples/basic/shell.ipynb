{
 "cells": [
  {
   "cell_type": "code",
   "execution_count": 1,
   "metadata": {},
   "outputs": [],
   "source": [
    "import meshzoo\n",
    "import torch\n",
    "\n",
    "from torchfem import Shell\n",
    "from torchfem.materials import IsotropicElasticityPlaneStress"
   ]
  },
  {
   "cell_type": "markdown",
   "metadata": {},
   "source": [
    "# Cantilever plate \n",
    "\n",
    "A plate of dimensions 100mm x 50mm x 0.5mm clamped at one end. It is subjected to concentrated forces of 5N at each corner at the tip. \n",
    "\n",
    "A reference solution is computed with ABAQUS for the following shell elements: \n",
    "\n",
    "| Type   | u_max | S_max |\n",
    "|--------|-------|-------|\n",
    "| S3     | 30.36 | 423.6 |\n",
    "| STRI3  | 30.64 | 461.7 |\n",
    "| STRI65 | 30.90 | 481.4 |"
   ]
  },
  {
   "cell_type": "code",
   "execution_count": 2,
   "metadata": {},
   "outputs": [
    {
     "name": "stdout",
     "output_type": "stream",
     "text": [
      "tensor(30.7007)\n",
      "tensor(430.3632)\n"
     ]
    },
    {
     "data": {
      "application/vnd.jupyter.widget-view+json": {
       "model_id": "bdf9714533584153a6126121e62b6d33",
       "version_major": 2,
       "version_minor": 0
      },
      "text/plain": [
       "Widget(value='<iframe src=\"http://localhost:55617/index.html?ui=P_0x164fb6860_0&reconnect=auto\" class=\"pyvista…"
      ]
     },
     "metadata": {},
     "output_type": "display_data"
    },
    {
     "data": {
      "application/vnd.jupyter.widget-view+json": {
       "model_id": "92e13738886d4e36a42dd64fab45e98e",
       "version_major": 2,
       "version_minor": 0
      },
      "text/plain": [
       "Widget(value='<iframe src=\"http://localhost:55617/index.html?ui=P_0x167abe5f0_1&reconnect=auto\" class=\"pyvista…"
      ]
     },
     "metadata": {},
     "output_type": "display_data"
    }
   ],
   "source": [
    "# Material parameters\n",
    "material = IsotropicElasticityPlaneStress(E=200000.0, nu=0.3)\n",
    "\n",
    "# Define nodes and element of the plate\n",
    "X = torch.linspace(0.0, 100.0, 10)\n",
    "Y = torch.linspace(0.0, 50.0, 5)\n",
    "points, cells = meshzoo.rectangle_tri(X, Y, variant=\"zigzag\")\n",
    "N = len(points)\n",
    "nodes = torch.hstack([torch.tensor(points, dtype=torch.float32), torch.zeros((N, 1))])\n",
    "elements = torch.tensor(cells.tolist())\n",
    "\n",
    "# Define Shell model\n",
    "cantilever = Shell(nodes, elements, material)\n",
    "\n",
    "# Define masks for boundaries\n",
    "left = nodes[:, 0] < 0.01\n",
    "corner_1 = (nodes[:, 0] > 99.9) & (nodes[:, 1] < 0.01)\n",
    "corner_2 = (nodes[:, 0] > 99.9) & (nodes[:, 1] > 49.99)\n",
    "\n",
    "# Apply load boundary conditions\n",
    "cantilever.forces[corner_1, 2] = 5\n",
    "cantilever.forces[corner_2, 2] = 5\n",
    "\n",
    "# Apply displacement boundary conditions\n",
    "cantilever.constraints[left] = True\n",
    "\n",
    "# Thickness\n",
    "cantilever.thickness[:] = 0.5\n",
    "\n",
    "\n",
    "# Solve and visualize results\n",
    "u, f = cantilever.solve()\n",
    "mises = cantilever.compute_stress(u, z=0.25, mises=True)\n",
    "print(torch.max(u[:, 0:3]))\n",
    "print(torch.max(mises))\n",
    "cantilever.plot(u[:, 0:3], node_property={\"u\": torch.linalg.norm(u[:, 0:3], dim=1)})\n",
    "cantilever.plot(u[:, 0:3], element_property={\"mises\": mises}, thickness=True)"
   ]
  },
  {
   "cell_type": "markdown",
   "metadata": {},
   "source": [
    "# Center-loaded plate\n",
    "\n",
    "A square plate of 100x100 is fully clamped at all edges and subjected to a concentrated force F=16.367 at the center. A symmetric quarter model is computed. \n",
    "\n",
    "\n",
    "A reference solution is computed with ABAQUS for the following shell elements: \n",
    "\n",
    "| Type   | u_max  | \n",
    "|--------|--------| \n",
    "| S3     | -3.773 |\n",
    "| STRI3  | -4.041 | \n",
    "| STRI65 | -4.486 | \n",
    " "
   ]
  },
  {
   "cell_type": "code",
   "execution_count": 3,
   "metadata": {},
   "outputs": [
    {
     "name": "stdout",
     "output_type": "stream",
     "text": [
      "tensor(-3.9851)\n"
     ]
    },
    {
     "data": {
      "application/vnd.jupyter.widget-view+json": {
       "model_id": "06e02565e32043fca798cf821c2973a9",
       "version_major": 2,
       "version_minor": 0
      },
      "text/plain": [
       "Widget(value='<iframe src=\"http://localhost:55617/index.html?ui=P_0x1500fdfc0_2&reconnect=auto\" class=\"pyvista…"
      ]
     },
     "metadata": {},
     "output_type": "display_data"
    },
    {
     "data": {
      "application/vnd.jupyter.widget-view+json": {
       "model_id": "8ada0cc6589848a696f555bd0edde385",
       "version_major": 2,
       "version_minor": 0
      },
      "text/plain": [
       "Widget(value='<iframe src=\"http://localhost:55617/index.html?ui=P_0x1500ffac0_3&reconnect=auto\" class=\"pyvista…"
      ]
     },
     "metadata": {},
     "output_type": "display_data"
    }
   ],
   "source": [
    "# Constants\n",
    "L = 100.0\n",
    "F = -16.367\n",
    "\n",
    "# Material parameters (Cs is transverse shear stiffness)\n",
    "mat = IsotropicElasticityPlaneStress(E=10000.0, nu=0.3)\n",
    "\n",
    "# Define plate\n",
    "X = torch.linspace(0.0, 0.5 * L, 9)\n",
    "Y = torch.linspace(0.0, 0.5 * L, 9)\n",
    "points, cells = meshzoo.rectangle_tri(X, Y, variant=\"zigzag\")\n",
    "N = len(points)\n",
    "nodes = torch.hstack([torch.tensor(points, dtype=torch.float32), torch.zeros((N, 1))])\n",
    "elements = torch.tensor(cells.tolist())\n",
    "\n",
    "# Create Shell model\n",
    "plate = Shell(nodes, elements, mat)\n",
    "\n",
    "# Boundaries\n",
    "top = nodes[:, 1] > (L / 2.0 - 0.01)\n",
    "bottom = nodes[:, 1] < 0.01\n",
    "left = nodes[:, 0] < 0.01\n",
    "right = nodes[:, 0] > (L / 2.0 - 0.01)\n",
    "\n",
    "# Boundary conditions\n",
    "plate.forces[0, 2] = F\n",
    "plate.constraints[top] = True\n",
    "plate.constraints[right] = True\n",
    "plate.constraints[left, 0] = True\n",
    "plate.constraints[left, 4] = True\n",
    "plate.constraints[left, 5] = True\n",
    "plate.constraints[bottom, 1] = True\n",
    "plate.constraints[bottom, 3] = True\n",
    "plate.constraints[bottom, 5] = True\n",
    "\n",
    "\n",
    "# Solve\n",
    "u, f = plate.solve()\n",
    "print(u.min())\n",
    "mises = plate.compute_stress(u, z=0.25, mises=True)\n",
    "plate.plot(\n",
    "    u[:, 0:3],\n",
    "    node_property={\"u\": torch.linalg.norm(u[:, 0:3], dim=1)},\n",
    "    mirror=[True, True, False],\n",
    ")\n",
    "plate.plot(\n",
    "    u[:, 0:3],\n",
    "    element_property={\"mises\": mises},\n",
    "    thickness=True,\n",
    "    mirror=[True, True, False],\n",
    ")"
   ]
  }
 ],
 "metadata": {
  "kernelspec": {
   "display_name": "torchfem",
   "language": "python",
   "name": "python3"
  },
  "language_info": {
   "codemirror_mode": {
    "name": "ipython",
    "version": 3
   },
   "file_extension": ".py",
   "mimetype": "text/x-python",
   "name": "python",
   "nbconvert_exporter": "python",
   "pygments_lexer": "ipython3",
   "version": "3.10.13"
  }
 },
 "nbformat": 4,
 "nbformat_minor": 4
}
