{
 "cells": [
  {
   "cell_type": "code",
   "execution_count": 1,
   "metadata": {},
   "outputs": [],
   "source": [
    "import torch\n",
    "import meshzoo\n",
    "\n",
    "from torchfem import Shell"
   ]
  },
  {
   "attachments": {},
   "cell_type": "markdown",
   "metadata": {},
   "source": [
    "## Two simple triangular shell elements"
   ]
  },
  {
   "cell_type": "code",
   "execution_count": 2,
   "metadata": {},
   "outputs": [
    {
     "data": {
      "application/vnd.jupyter.widget-view+json": {
       "model_id": "f11286e27440427591841e8e63859bec",
       "version_major": 2,
       "version_minor": 0
      },
      "text/plain": [
       "Widget(value=\"<iframe src='http://localhost:50814/index.html?ui=P_0x28c5f3490_1&reconnect=auto' style='width: …"
      ]
     },
     "metadata": {},
     "output_type": "display_data"
    }
   ],
   "source": [
    "# Material model (plane stress)\n",
    "E = 1000.0\n",
    "nu = 0.3\n",
    "C = (E / (1.0 - nu**2)) * torch.tensor(\n",
    "    [[1.0, nu, 0.0], [nu, 1.0, 0.0], [0.0, 0.0, 0.5 * (1.0 - nu)]]\n",
    ")\n",
    "\n",
    "# Create nodes and element\n",
    "nodes = torch.tensor(\n",
    "    [[0.0, 0.0, 0.0], [1.0, 0.0, 0.0], [0.0, 1.0, 0.0], [1.0, 1.0, 0.0]]\n",
    ")\n",
    "elements = [[1, 2, 0], [3, 2, 1]]\n",
    "\n",
    "\n",
    "# Constrained displacement at left end\n",
    "forces = torch.zeros_like(nodes)\n",
    "displacements = torch.zeros_like(nodes)\n",
    "displacements[nodes[:, 0] > 0.99, 0] = 1.0\n",
    "constraints = torch.ones_like(nodes, dtype=bool)\n",
    "\n",
    "# Thickness\n",
    "thickness = 0.1 * torch.ones(len(elements))\n",
    "\n",
    "rectangle = Shell(nodes, elements, forces, displacements, constraints, thickness, C)\n",
    "rectangle.plot()"
   ]
  },
  {
   "cell_type": "code",
   "execution_count": 3,
   "metadata": {},
   "outputs": [
    {
     "data": {
      "application/vnd.jupyter.widget-view+json": {
       "model_id": "36b501aa4244414aa5cc4c2ea84a10fb",
       "version_major": 2,
       "version_minor": 0
      },
      "text/plain": [
       "Widget(value=\"<iframe src='http://localhost:50814/index.html?ui=P_0x173d159d0_2&reconnect=auto' style='width: …"
      ]
     },
     "metadata": {},
     "output_type": "display_data"
    }
   ],
   "source": [
    "# Solve\n",
    "u, f = rectangle.solve()\n",
    "sigma = rectangle.compute_stress(u)\n",
    "# Plot\n",
    "rectangle.plot(u, node_property={\"u\": torch.norm(u, dim=1)})"
   ]
  },
  {
   "cell_type": "markdown",
   "metadata": {},
   "source": [
    "## Membrane tube"
   ]
  },
  {
   "cell_type": "code",
   "execution_count": 4,
   "metadata": {},
   "outputs": [
    {
     "data": {
      "application/vnd.jupyter.widget-view+json": {
       "model_id": "b7942d563d4f4f12a26dd1b5748d77f2",
       "version_major": 2,
       "version_minor": 0
      },
      "text/plain": [
       "Widget(value=\"<iframe src='http://localhost:50814/index.html?ui=P_0x173db9150_3&reconnect=auto' style='width: …"
      ]
     },
     "metadata": {},
     "output_type": "display_data"
    }
   ],
   "source": [
    "points, cells = meshzoo.tube(length=1.0, radius=0.5, n=10)\n",
    "nodes = torch.tensor(points, dtype=torch.float32)\n",
    "top = nodes[:, 2] > 0.49\n",
    "middle = (nodes[:, 2] < 0.01) & (nodes[:, 2] > -0.01)\n",
    "bottom = nodes[:, 2] < -0.49\n",
    "elements = cells.tolist()\n",
    "forces = torch.zeros_like(nodes)\n",
    "displacements = torch.zeros_like(nodes)\n",
    "displacements[top, 2] = 0.1\n",
    "constraints = torch.zeros_like(nodes, dtype=bool)\n",
    "constraints[bottom] = True\n",
    "constraints[middle, 0] = True\n",
    "constraints[middle, 1] = True\n",
    "constraints[top] = True\n",
    "thickness = 0.1 * torch.ones(len(elements))\n",
    "\n",
    "# Thickness\n",
    "thickness = 0.1 * torch.ones(len(elements))\n",
    "tube = Shell(nodes, elements, forces, displacements, constraints, thickness, C)\n",
    "tube.plot()"
   ]
  },
  {
   "cell_type": "markdown",
   "metadata": {},
   "source": [
    "First stiffness matrix should be (Abaqus reference)\n",
    "```\n",
    "  1.13,\n",
    " -3.49,  10.75  \n",
    "  0.00,   0.00,  33.95\n",
    "  0.00,   0.00,   5.09,   8.48   \n",
    "  0.00,   0.00, -15.67, -26.12,  80.41\n",
    "  5.94, -18.28,   0.00,   0.00,   0.00,  31.11 \n",
    " -1.13,  3.492,  -5.09,  -8.48,  26.12,  -5.94,  9.62  \n",
    "  3.49, -10.75,  15.67,  26.12, -80.41,  18.28, -29.62,  91.16\n",
    " -5.94,  18.28, -33.95,  -5.09,  15.67, -31.11,  11.03, -33.96, 65.07\n",
    " ``````"
   ]
  },
  {
   "cell_type": "code",
   "execution_count": 5,
   "metadata": {},
   "outputs": [
    {
     "name": "stdout",
     "output_type": "stream",
     "text": [
      "   1.13\n",
      "  -3.49,  10.75\n",
      "  -0.00,   0.00,  33.96\n",
      "  -0.00,   0.00,   5.09,   8.49\n",
      "   0.00,  -0.00, -15.68, -26.13,  80.41\n",
      "   5.94, -18.29,  -0.00,  -0.00,   0.00,  31.12\n",
      "  -1.13,   3.49,  -5.09,  -8.49,  26.13,  -5.94,   9.62\n",
      "   3.49, -10.75,  15.68,  26.13, -80.41,  18.29, -29.62,  91.16\n",
      "  -5.94,  18.29, -33.96,  -5.09,  15.68, -31.12,  11.04, -33.97,  65.07\n"
     ]
    }
   ],
   "source": [
    "for i, row in enumerate(tube.k()[0]):\n",
    "    print(\",\".join([f\"{j:7.2f}\" for j in row[0 : i + 1]]))"
   ]
  },
  {
   "cell_type": "code",
   "execution_count": 6,
   "metadata": {},
   "outputs": [
    {
     "data": {
      "application/vnd.jupyter.widget-view+json": {
       "model_id": "6f74c1ef4cec42f1ade81498fbb6bb05",
       "version_major": 2,
       "version_minor": 0
      },
      "text/plain": [
       "Widget(value=\"<iframe src='http://localhost:50814/index.html?ui=P_0x16b555e50_4&reconnect=auto' style='width: …"
      ]
     },
     "metadata": {},
     "output_type": "display_data"
    }
   ],
   "source": [
    "# Solve\n",
    "u, f = tube.solve()\n",
    "tube.plot(u, node_property={\"u_z\": u[:, 2]})"
   ]
  },
  {
   "cell_type": "code",
   "execution_count": 7,
   "metadata": {},
   "outputs": [
    {
     "data": {
      "application/vnd.jupyter.widget-view+json": {
       "model_id": "f82b28caec1b4608aa572302876e705e",
       "version_major": 2,
       "version_minor": 0
      },
      "text/plain": [
       "Widget(value=\"<iframe src='http://localhost:50814/index.html?ui=P_0x173dc0110_5&reconnect=auto' style='width: …"
      ]
     },
     "metadata": {},
     "output_type": "display_data"
    }
   ],
   "source": [
    "sigma = tube.compute_stress(u)  # Plot\n",
    "tube.plot(u, element_property={\"S_zz\": sigma[:, 2, 2]})"
   ]
  }
 ],
 "metadata": {
  "kernelspec": {
   "display_name": "Python 3 (ipykernel)",
   "language": "python",
   "name": "python3"
  },
  "language_info": {
   "codemirror_mode": {
    "name": "ipython",
    "version": 3
   },
   "file_extension": ".py",
   "mimetype": "text/x-python",
   "name": "python",
   "nbconvert_exporter": "python",
   "pygments_lexer": "ipython3",
   "version": "3.11.4"
  },
  "vscode": {
   "interpreter": {
    "hash": "53e816d343ac3b69abbe00d0113a5825a790940e53acda2e016fe2e76fc78702"
   }
  }
 },
 "nbformat": 4,
 "nbformat_minor": 4
}
