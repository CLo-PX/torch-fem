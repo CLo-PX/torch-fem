{
 "cells": [
  {
   "cell_type": "code",
   "execution_count": 1,
   "metadata": {},
   "outputs": [],
   "source": [
    "import torch\n",
    "import meshzoo\n",
    "\n",
    "from torchfem import Shell"
   ]
  },
  {
   "cell_type": "markdown",
   "metadata": {},
   "source": [
    "# Cantilever plate \n",
    "\n",
    "A plate of dimensions 100mm x 50mm x 0.5mm clamped at one end. It is subjected to concentrated forces of 5N at each corner at the tip. \n",
    "\n",
    "A reference solution is computed with ABAQUS for the following shell elements: \n",
    "\n",
    "| Type   | u_max | S_max |\n",
    "|--------|-------|-------|\n",
    "| S3     | 30.36 | 423.6 |\n",
    "| STRI3  | 30.64 | 461.7 |\n",
    "| STRI65 | 30.90 | 481.4 |"
   ]
  },
  {
   "cell_type": "code",
   "execution_count": 2,
   "metadata": {},
   "outputs": [
    {
     "name": "stdout",
     "output_type": "stream",
     "text": [
      "tensor(30.7162)\n",
      "tensor(430.5191)\n"
     ]
    },
    {
     "data": {
      "application/vnd.jupyter.widget-view+json": {
       "model_id": "ce6c78613fd24d02aa7b90c4075c7227",
       "version_major": 2,
       "version_minor": 0
      },
      "text/plain": [
       "Widget(value=\"<iframe src='http://localhost:57669/index.html?ui=P_0x16ad78dc0_0&reconnect=auto' style='width: …"
      ]
     },
     "metadata": {},
     "output_type": "display_data"
    },
    {
     "data": {
      "application/vnd.jupyter.widget-view+json": {
       "model_id": "75d7768e491b46efaed9f5174a63b953",
       "version_major": 2,
       "version_minor": 0
      },
      "text/plain": [
       "Widget(value=\"<iframe src='http://localhost:57669/index.html?ui=P_0x16b939390_1&reconnect=auto' style='width: …"
      ]
     },
     "metadata": {},
     "output_type": "display_data"
    }
   ],
   "source": [
    "# Material ()\n",
    "E = 200000\n",
    "nu = 0.3\n",
    "C = (E / (1.0 - nu**2)) * torch.tensor(\n",
    "    [[1.0, nu, 0.0], [nu, 1.0, 0.0], [0.0, 0.0, 0.5 * (1.0 - nu)]]\n",
    ")\n",
    "Cs = torch.tensor([[E / (2 * (1 + nu)), 0], [0.0, E / (2 * (1 + nu))]])\n",
    "\n",
    "# Define nodes and element of the plate\n",
    "X = torch.linspace(0.0, 100.0, 10)\n",
    "Y = torch.linspace(0.0, 50.0, 5)\n",
    "points, cells = meshzoo.rectangle_tri(X, Y, variant=\"zigzag\")\n",
    "N = len(points)\n",
    "nodes = torch.hstack([torch.tensor(points, dtype=torch.float32), torch.zeros((N, 1))])\n",
    "elements = cells.tolist()\n",
    "\n",
    "# Define masks for boundaries\n",
    "left = nodes[:, 0] < 0.01\n",
    "corner_1 = (nodes[:, 0] > 99.9) & (nodes[:, 1] < 0.01)\n",
    "corner_2 = (nodes[:, 0] > 99.9) & (nodes[:, 1] > 49.99)\n",
    "\n",
    "# Apply load boundary conditions\n",
    "forces = torch.zeros((N, 6))\n",
    "forces[corner_1, 2] = 5\n",
    "forces[corner_2, 2] = 5\n",
    "\n",
    "# Apply displacement boundary conditions\n",
    "displacements = torch.zeros((N, 6))\n",
    "constraints = torch.zeros((N, 6), dtype=bool)\n",
    "constraints[left] = True\n",
    "\n",
    "# Thickness\n",
    "thickness = 0.5 * torch.ones(len(elements))\n",
    "\n",
    "# Define Shell model\n",
    "cantilever = Shell(\n",
    "    nodes, elements, forces, displacements, constraints, thickness, C, Cs\n",
    ")\n",
    "\n",
    "\n",
    "# Solve and visualize results\n",
    "u, f = cantilever.solve()\n",
    "mises = cantilever.compute_stress(u, z=0.25, mises=True)\n",
    "print(torch.max(u[:, 0:3]))\n",
    "print(torch.max(mises))\n",
    "cantilever.plot(u[:, 0:3], node_property={\"u\": torch.linalg.norm(u[:, 0:3], dim=1)})\n",
    "cantilever.plot(u[:, 0:3], element_property={\"mises\": mises}, thickness=True)"
   ]
  },
  {
   "cell_type": "markdown",
   "metadata": {},
   "source": [
    "# Center-loaded plate\n",
    "\n",
    "A square plate of 100x100 is fully clamped at all edges and subjected to a concentrated force F=16.367 at the center. A symmetric quarter model is computed. \n",
    "\n",
    "\n",
    "A reference solution is computed with ABAQUS for the following shell elements: \n",
    "\n",
    "| Type   | u_max  | \n",
    "|--------|--------| \n",
    "| S3     | -3.773 |\n",
    "| STRI3  | -4.041 | \n",
    "| STRI65 | -4.486 | \n",
    " "
   ]
  },
  {
   "cell_type": "code",
   "execution_count": 3,
   "metadata": {},
   "outputs": [
    {
     "data": {
      "application/vnd.jupyter.widget-view+json": {
       "model_id": "a6736dfc60044e6f83da01480b0dd616",
       "version_major": 2,
       "version_minor": 0
      },
      "text/plain": [
       "Widget(value=\"<iframe src='http://localhost:57669/index.html?ui=P_0x137e6f580_2&reconnect=auto' style='width: …"
      ]
     },
     "metadata": {},
     "output_type": "display_data"
    },
    {
     "data": {
      "application/vnd.jupyter.widget-view+json": {
       "model_id": "eae352f74b314f78a305e47907814e67",
       "version_major": 2,
       "version_minor": 0
      },
      "text/plain": [
       "Widget(value=\"<iframe src='http://localhost:57669/index.html?ui=P_0x137e36620_3&reconnect=auto' style='width: …"
      ]
     },
     "metadata": {},
     "output_type": "display_data"
    }
   ],
   "source": [
    "# Constants\n",
    "L = 100.0\n",
    "t = 1.0\n",
    "F = -16.367\n",
    "\n",
    "# Material\n",
    "E = 10000\n",
    "nu = 0.3\n",
    "C = (E / (1.0 - nu**2)) * torch.tensor(\n",
    "    [[1.0, nu, 0.0], [nu, 1.0, 0.0], [0.0, 0.0, 0.5 * (1.0 - nu)]]\n",
    ")\n",
    "Cs = torch.tensor([[E / (2 * (1 + nu)), 0], [0.0, E / (2 * (1 + nu))]])\n",
    "\n",
    "# Define plate\n",
    "X = torch.linspace(0.0, 0.5 * L, 9)\n",
    "Y = torch.linspace(0.0, 0.5 * L, 9)\n",
    "points, cells = meshzoo.rectangle_tri(X, Y, variant=\"zigzag\")\n",
    "N = len(points)\n",
    "nodes = torch.hstack([torch.tensor(points, dtype=torch.float32), torch.zeros((N, 1))])\n",
    "elements = cells.tolist()\n",
    "\n",
    "# Boundaries\n",
    "top = nodes[:, 1] > (L / 2.0 - 0.01)\n",
    "bottom = nodes[:, 1] < 0.01\n",
    "left = nodes[:, 0] < 0.01\n",
    "right = nodes[:, 0] > (L / 2.0 - 0.01)\n",
    "\n",
    "# Boundary conditions\n",
    "forces = torch.zeros((N, 6))\n",
    "forces[0, 2] = F\n",
    "displacements = torch.zeros((N, 6))\n",
    "constraints = torch.zeros((N, 6), dtype=bool)\n",
    "constraints[top] = True\n",
    "constraints[right] = True\n",
    "constraints[left, 0] = True\n",
    "constraints[left, 4] = True\n",
    "constraints[left, 5] = True\n",
    "constraints[bottom, 1] = True\n",
    "constraints[bottom, 3] = True\n",
    "constraints[bottom, 5] = True\n",
    "\n",
    "# Thickness\n",
    "thickness = t * torch.ones(len(elements))\n",
    "\n",
    "# Create Shell model\n",
    "plate = Shell(nodes, elements, forces, displacements, constraints, thickness, C, Cs)\n",
    "\n",
    "# Solve\n",
    "u, f = plate.solve()\n",
    "mises = plate.compute_stress(u, z=0.25, mises=True)\n",
    "plate.plot(u[:, 0:3], node_property={\"u\": torch.linalg.norm(u[:, 0:3], dim=1)}, mirror=[True, True, False])\n",
    "plate.plot(u[:, 0:3], element_property={\"mises\": mises}, thickness=True, mirror=[True, True, False])"
   ]
  }
 ],
 "metadata": {
  "kernelspec": {
   "display_name": "Python 3 (ipykernel)",
   "language": "python",
   "name": "python3"
  },
  "language_info": {
   "codemirror_mode": {
    "name": "ipython",
    "version": 3
   },
   "file_extension": ".py",
   "mimetype": "text/x-python",
   "name": "python",
   "nbconvert_exporter": "python",
   "pygments_lexer": "ipython3",
   "version": "3.10.13"
  },
  "vscode": {
   "interpreter": {
    "hash": "53e816d343ac3b69abbe00d0113a5825a790940e53acda2e016fe2e76fc78702"
   }
  }
 },
 "nbformat": 4,
 "nbformat_minor": 4
}
