{
 "cells": [
  {
   "cell_type": "markdown",
   "metadata": {},
   "source": [
    "# Cubes with different element types\n",
    "[![Google Collab Book](https://colab.research.google.com/assets/colab-badge.svg)](https://colab.research.google.com/github/meyer-nils/torch-fem/blob/main/examples/basic/solid/cubes.ipynb)\n",
    "\n",
    "All unit cubes are clamped at one end and subjected to a uniaxial strain."
   ]
  },
  {
   "cell_type": "code",
   "execution_count": 1,
   "metadata": {},
   "outputs": [],
   "source": [
    "import meshzoo\n",
    "import torch\n",
    "\n",
    "from torchfem import Solid\n",
    "from torchfem.elements import linear_to_quadratic\n",
    "from torchfem.materials import IsotropicElasticity3D\n",
    "\n",
    "# Set default data type to double precision\n",
    "torch.set_default_dtype(torch.float64)\n",
    "\n",
    "# Elastic material model\n",
    "material = IsotropicElasticity3D(E=1000.0, nu=0.3)"
   ]
  },
  {
   "attachments": {},
   "cell_type": "markdown",
   "metadata": {},
   "source": [
    "## 3D Cube with linear hexahedrons \n"
   ]
  },
  {
   "cell_type": "code",
   "execution_count": 2,
   "metadata": {},
   "outputs": [
    {
     "data": {
      "application/vnd.jupyter.widget-view+json": {
       "model_id": "23b5c71a909546d29ed609405fd1099a",
       "version_major": 2,
       "version_minor": 0
      },
      "text/plain": [
       "EmbeddableWidget(value='<iframe srcdoc=\"<!DOCTYPE html>\\n<html>\\n  <head>\\n    <meta http-equiv=&quot;Content-…"
      ]
     },
     "metadata": {},
     "output_type": "display_data"
    }
   ],
   "source": [
    "# Generate cube\n",
    "points, cells = meshzoo.cube_hexa(\n",
    "    torch.linspace(0.0, 1.0, 5),\n",
    "    torch.linspace(0.0, 1.0, 5),\n",
    "    torch.linspace(0.0, 1.0, 5),\n",
    ")\n",
    "nodes = torch.tensor(points)\n",
    "elements = torch.tensor(cells.tolist())\n",
    "\n",
    "# Create model\n",
    "box = Solid(nodes, elements, material)\n",
    "\n",
    "# Assign boundary conditions\n",
    "box.constraints[nodes[:, 0] == 0.0, :] = True\n",
    "box.constraints[nodes[:, 0] == 1.0, 0] = True\n",
    "box.displacements[nodes[:, 0] == 1.0, 0] = 0.1\n",
    "\n",
    "\n",
    "# Solve\n",
    "u, f, σ, ε, α = box.solve()\n",
    "\n",
    "# Plot\n",
    "box.plot(u=u, node_property={\"Disp\": u})"
   ]
  },
  {
   "cell_type": "markdown",
   "metadata": {},
   "source": [
    "### 3D Cube with quadratic hexahedrons "
   ]
  },
  {
   "cell_type": "code",
   "execution_count": 3,
   "metadata": {},
   "outputs": [
    {
     "data": {
      "application/vnd.jupyter.widget-view+json": {
       "model_id": "8a06c2e2a35944e99312f5465a8e3408",
       "version_major": 2,
       "version_minor": 0
      },
      "text/plain": [
       "EmbeddableWidget(value='<iframe srcdoc=\"<!DOCTYPE html>\\n<html>\\n  <head>\\n    <meta http-equiv=&quot;Content-…"
      ]
     },
     "metadata": {},
     "output_type": "display_data"
    }
   ],
   "source": [
    "# Upgrade elements to quadratic\n",
    "nodes, elements = linear_to_quadratic(nodes, elements)\n",
    "\n",
    "# Create model\n",
    "box = Solid(nodes, elements, material)\n",
    "\n",
    "# Assign boundary conditions\n",
    "box.constraints[nodes[:, 0] == 0.0, :] = True\n",
    "box.constraints[nodes[:, 0] == 1.0, 0] = True\n",
    "box.displacements[nodes[:, 0] == 1.0, 0] = 0.1\n",
    "\n",
    "# Solve\n",
    "u, f, σ, ε, α = box.solve()\n",
    "\n",
    "# Plot\n",
    "box.plot(u=u, node_property={\"Disp\": u})"
   ]
  },
  {
   "attachments": {},
   "cell_type": "markdown",
   "metadata": {},
   "source": [
    "### 3D Cube with linear tetrahedrons"
   ]
  },
  {
   "cell_type": "code",
   "execution_count": 4,
   "metadata": {},
   "outputs": [
    {
     "data": {
      "application/vnd.jupyter.widget-view+json": {
       "model_id": "9439ae076d384be485919b8638c264ed",
       "version_major": 2,
       "version_minor": 0
      },
      "text/plain": [
       "EmbeddableWidget(value='<iframe srcdoc=\"<!DOCTYPE html>\\n<html>\\n  <head>\\n    <meta http-equiv=&quot;Content-…"
      ]
     },
     "metadata": {},
     "output_type": "display_data"
    }
   ],
   "source": [
    "# Generate cube\n",
    "points, cells = meshzoo.cube_tetra(\n",
    "    torch.linspace(0.0, 1.0, 3),\n",
    "    torch.linspace(0.0, 1.0, 3),\n",
    "    torch.linspace(0.0, 1.0, 3),\n",
    ")\n",
    "nodes = torch.tensor(points)\n",
    "elements = torch.tensor(cells.tolist())\n",
    "\n",
    "box = Solid(nodes, elements, material)\n",
    "\n",
    "# Assign boundary conditions\n",
    "box.constraints[nodes[:, 0] == 0.0, :] = True\n",
    "box.constraints[nodes[:, 0] == 1.0, 0] = True\n",
    "box.displacements[nodes[:, 0] == 1.0, 0] = 0.1\n",
    "\n",
    "u, f, σ, ε, α = box.solve()\n",
    "\n",
    "box.plot(u=u, node_property={\"Disp\": u})"
   ]
  },
  {
   "cell_type": "markdown",
   "metadata": {},
   "source": [
    "### 3D Cube with quadratic tetrahedrons"
   ]
  },
  {
   "cell_type": "code",
   "execution_count": 5,
   "metadata": {},
   "outputs": [
    {
     "data": {
      "application/vnd.jupyter.widget-view+json": {
       "model_id": "e1654f155af14b0dba03dbce4687d965",
       "version_major": 2,
       "version_minor": 0
      },
      "text/plain": [
       "EmbeddableWidget(value='<iframe srcdoc=\"<!DOCTYPE html>\\n<html>\\n  <head>\\n    <meta http-equiv=&quot;Content-…"
      ]
     },
     "metadata": {},
     "output_type": "display_data"
    }
   ],
   "source": [
    "nodes, elements = linear_to_quadratic(nodes, elements)\n",
    "\n",
    "box = Solid(nodes, elements, material)\n",
    "\n",
    "# Assign boundary conditions\n",
    "box.constraints[nodes[:, 0] == 0.0, :] = True\n",
    "box.constraints[nodes[:, 0] == 1.0, 0] = True\n",
    "box.displacements[nodes[:, 0] == 1.0, 0] = 0.1\n",
    "\n",
    "u, f, σ, ε, α = box.solve()\n",
    "\n",
    "box.plot(u=u, node_property={\"Disp\": u})"
   ]
  }
 ],
 "metadata": {
  "kernelspec": {
   "display_name": "torchfem",
   "language": "python",
   "name": "python3"
  },
  "language_info": {
   "codemirror_mode": {
    "name": "ipython",
    "version": 3
   },
   "file_extension": ".py",
   "mimetype": "text/x-python",
   "name": "python",
   "nbconvert_exporter": "python",
   "pygments_lexer": "ipython3",
   "version": "3.10.13"
  },
  "orig_nbformat": 4
 },
 "nbformat": 4,
 "nbformat_minor": 2
}
