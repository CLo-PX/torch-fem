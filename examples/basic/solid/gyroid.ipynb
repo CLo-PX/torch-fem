{
 "cells": [
  {
   "cell_type": "markdown",
   "metadata": {},
   "source": [
    "# Implicit Gyroid structure\n",
    "[![Google Collab Book](https://colab.research.google.com/assets/colab-badge.svg)](https://colab.research.google.com/github/meyer-nils/torch-fem/blob/main/examples/basic/solid/implicits.ipynb)"
   ]
  },
  {
   "cell_type": "code",
   "execution_count": 8,
   "metadata": {},
   "outputs": [],
   "source": [
    "import torch\n",
    "from torchfem import Solid\n",
    "from torchfem.materials import IsotropicElasticity3D\n",
    "from torchfem.mesh import cube_hexa\n",
    "from torchfem.sdfs import gyroid\n",
    "\n",
    "import pyvista\n",
    "\n",
    "torch.set_default_dtype(torch.float64)\n",
    "\n",
    "# Elastic material model\n",
    "material = IsotropicElasticity3D(E=1000.0, nu=0.3)\n",
    "\n",
    "# Parameters\n",
    "scale = 2.0\n",
    "thickness = 0.1"
   ]
  },
  {
   "cell_type": "markdown",
   "metadata": {},
   "source": [
    "## Create voxel mesh"
   ]
  },
  {
   "cell_type": "code",
   "execution_count": 9,
   "metadata": {},
   "outputs": [],
   "source": [
    "nodes, elements = cube_hexa(51, 51, 51, 1.0, 1.0, 1.0)\n",
    "\n",
    "ecenters = nodes[elements].mean(dim=1)"
   ]
  },
  {
   "cell_type": "markdown",
   "metadata": {},
   "source": [
    "## Evaluate signed distance function"
   ]
  },
  {
   "cell_type": "code",
   "execution_count": 10,
   "metadata": {},
   "outputs": [],
   "source": [
    "# Create unstructured mesh\n",
    "elems = [item for element in elements for item in (len(element), *element)]\n",
    "cell_types = len(elements) * [pyvista.CellType.HEXAHEDRON]\n",
    "mesh = pyvista.UnstructuredGrid(elems, cell_types, nodes.tolist())\n",
    "\n",
    "# Evaluate signed distance function\n",
    "mesh.point_data[\"SDF\"] = gyroid(scale * nodes).numpy()"
   ]
  },
  {
   "cell_type": "markdown",
   "metadata": {},
   "source": [
    "## Plot signed distance function"
   ]
  },
  {
   "cell_type": "code",
   "execution_count": 11,
   "metadata": {},
   "outputs": [
    {
     "data": {
      "application/vnd.jupyter.widget-view+json": {
       "model_id": "355991ca02094bc1a041144f8c750142",
       "version_major": 2,
       "version_minor": 0
      },
      "text/plain": [
       "EmbeddableWidget(value='<iframe srcdoc=\"<!DOCTYPE html>\\n<html>\\n  <head>\\n    <meta http-equiv=&quot;Content-…"
      ]
     },
     "metadata": {},
     "output_type": "display_data"
    }
   ],
   "source": [
    "pyvista.set_plot_theme(\"document\")\n",
    "pl = pyvista.Plotter()\n",
    "pl.enable_anti_aliasing(\"ssaa\")\n",
    "pl.add_mesh(mesh, cmap=\"coolwarm\", show_edges=True, clim=[-1.0, 1.0])\n",
    "pl.show(jupyter_backend=\"html\")"
   ]
  },
  {
   "cell_type": "markdown",
   "metadata": {},
   "source": [
    "## Plot shell gyroid "
   ]
  },
  {
   "cell_type": "code",
   "execution_count": 12,
   "metadata": {},
   "outputs": [
    {
     "data": {
      "application/vnd.jupyter.widget-view+json": {
       "model_id": "1dd4226fb8da47c390c11793b509a832",
       "version_major": 2,
       "version_minor": 0
      },
      "text/plain": [
       "EmbeddableWidget(value='<iframe srcdoc=\"<!DOCTYPE html>\\n<html>\\n  <head>\\n    <meta http-equiv=&quot;Content-…"
      ]
     },
     "metadata": {},
     "output_type": "display_data"
    }
   ],
   "source": [
    "# Contours\n",
    "contours = mesh.contour([-thickness, thickness])\n",
    "\n",
    "# Plot\n",
    "pyvista.set_plot_theme(\"document\")\n",
    "pl = pyvista.Plotter()\n",
    "pl.enable_anti_aliasing(\"ssaa\")\n",
    "pl.add_mesh(mesh.outline(), color=\"k\")\n",
    "pl.add_mesh(contours, color=\"gray\")\n",
    "pl.show(jupyter_backend=\"html\")"
   ]
  },
  {
   "cell_type": "code",
   "execution_count": 13,
   "metadata": {},
   "outputs": [],
   "source": [
    "# Create model\n",
    "model = Solid(nodes, elements, material)\n",
    "\n",
    "# Set constraints\n",
    "model.constraints[nodes[:, 0] == 0.0, 0] = True\n",
    "model.constraints[nodes[:, 1] == 0.5, 1] = True\n",
    "model.constraints[nodes[:, 2] == 0.5, 2] = True\n",
    "model.constraints[nodes[:, 0] == 1.0, 0] = True\n",
    "model.displacements[nodes[:, 0] == 1.0, 0] = 0.1\n",
    "\n",
    "# Reduce stiffness outside shell, i.e. in void region\n",
    "mask = torch.abs(gyroid(scale * ecenters)) > thickness\n",
    "model.material.C[mask] *= 0.01"
   ]
  },
  {
   "cell_type": "markdown",
   "metadata": {},
   "source": [
    "## Compute homogenized properties"
   ]
  },
  {
   "cell_type": "code",
   "execution_count": 14,
   "metadata": {},
   "outputs": [],
   "source": [
    "# Solve\n",
    "u, f, σ, ε, α = model.solve()"
   ]
  },
  {
   "cell_type": "code",
   "execution_count": 16,
   "metadata": {},
   "outputs": [
    {
     "data": {
      "application/vnd.jupyter.widget-view+json": {
       "model_id": "1d8cb4c4f5cb4b8996406983e3e3f462",
       "version_major": 2,
       "version_minor": 0
      },
      "text/plain": [
       "EmbeddableWidget(value='<iframe srcdoc=\"<!DOCTYPE html>\\n<html>\\n  <head>\\n    <meta http-equiv=&quot;Content-…"
      ]
     },
     "metadata": {},
     "output_type": "display_data"
    }
   ],
   "source": [
    "# Evaluate displacement\n",
    "mesh.point_data[\"Disp\"] = u.numpy()\n",
    "\n",
    "# Contours\n",
    "contours = mesh.contour([-thickness, thickness], scalars=\"SDF\")\n",
    "\n",
    "# Plot\n",
    "pyvista.set_plot_theme(\"document\")\n",
    "pl = pyvista.Plotter()\n",
    "pl.enable_anti_aliasing(\"ssaa\")\n",
    "pl.add_mesh(mesh.outline(), color=\"k\")\n",
    "pl.add_mesh(contours, cmap=\"viridis\", scalars=\"Disp\")\n",
    "pl.show(jupyter_backend=\"html\")"
   ]
  }
 ],
 "metadata": {
  "kernelspec": {
   "display_name": "torchfem",
   "language": "python",
   "name": "python3"
  },
  "language_info": {
   "codemirror_mode": {
    "name": "ipython",
    "version": 3
   },
   "file_extension": ".py",
   "mimetype": "text/x-python",
   "name": "python",
   "nbconvert_exporter": "python",
   "pygments_lexer": "ipython3",
   "version": "3.10.13"
  }
 },
 "nbformat": 4,
 "nbformat_minor": 2
}
