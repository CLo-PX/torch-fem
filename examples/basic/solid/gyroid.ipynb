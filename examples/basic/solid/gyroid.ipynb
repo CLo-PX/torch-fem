{
 "cells": [
  {
   "cell_type": "markdown",
   "metadata": {},
   "source": [
    "# Implicit Gyroid structure\n",
    "[![Google Collab Book](https://colab.research.google.com/assets/colab-badge.svg)](https://colab.research.google.com/github/meyer-nils/torch-fem/blob/main/examples/basic/solid/gyroid.ipynb)"
   ]
  },
  {
   "cell_type": "code",
   "execution_count": 1,
   "metadata": {},
   "outputs": [],
   "source": [
    "import torch\n",
    "from torchfem import Solid\n",
    "from torchfem.materials import IsotropicElasticity3D\n",
    "from torchfem.mesh import cube_hexa\n",
    "from torchfem.sdfs import Gyroid\n",
    "\n",
    "import pyvista\n",
    "\n",
    "pyvista.set_plot_theme(\"document\")\n",
    "torch.set_default_dtype(torch.float64)"
   ]
  },
  {
   "cell_type": "code",
   "execution_count": 2,
   "metadata": {},
   "outputs": [],
   "source": [
    "# Material parameters\n",
    "E = 1000.0\n",
    "nu = 0.3\n",
    "\n",
    "# Gyroid parameters\n",
    "scale = 2.0\n",
    "thickness = 0.1\n",
    "\n",
    "# Mesh parameters\n",
    "N = 51\n",
    "\n",
    "# Homogenization parameters\n",
    "disp = 0.1\n",
    "rho_min = 0.01"
   ]
  },
  {
   "cell_type": "markdown",
   "metadata": {},
   "source": [
    "## Create voxel mesh"
   ]
  },
  {
   "cell_type": "code",
   "execution_count": 3,
   "metadata": {},
   "outputs": [],
   "source": [
    "# Create a mesh\n",
    "nodes, elements = cube_hexa(51, 51, 51)\n",
    "\n",
    "# Create unstructured mesh\n",
    "elems = [item for element in elements for item in (len(element), *element)]\n",
    "cell_types = len(elements) * [pyvista.CellType.HEXAHEDRON]\n",
    "mesh = pyvista.UnstructuredGrid(elems, cell_types, nodes.tolist())"
   ]
  },
  {
   "cell_type": "markdown",
   "metadata": {},
   "source": [
    "## Evaluate signed distance function"
   ]
  },
  {
   "cell_type": "code",
   "execution_count": 4,
   "metadata": {},
   "outputs": [],
   "source": [
    "g = Gyroid(scale=2 * torch.pi * scale)\n",
    "\n",
    "# Evaluate signed distance function\n",
    "mesh.point_data[\"SDF\"] = g.sdf(nodes).numpy()"
   ]
  },
  {
   "cell_type": "markdown",
   "metadata": {},
   "source": [
    "## Plot signed distance function"
   ]
  },
  {
   "cell_type": "code",
   "execution_count": 5,
   "metadata": {},
   "outputs": [
    {
     "data": {
      "application/vnd.jupyter.widget-view+json": {
       "model_id": "635cfe2c4f314d9e9ad8a8a116d34554",
       "version_major": 2,
       "version_minor": 0
      },
      "text/plain": [
       "EmbeddableWidget(value='<iframe srcdoc=\"<!DOCTYPE html>\\n<html>\\n  <head>\\n    <meta http-equiv=&quot;Content-…"
      ]
     },
     "metadata": {},
     "output_type": "display_data"
    }
   ],
   "source": [
    "pl = pyvista.Plotter()\n",
    "pl.enable_anti_aliasing(\"ssaa\")\n",
    "pl.add_mesh(mesh, cmap=\"coolwarm\", show_edges=True, clim=[-1.0, 1.0])\n",
    "pl.show(jupyter_backend=\"html\")"
   ]
  },
  {
   "cell_type": "markdown",
   "metadata": {},
   "source": [
    "## Plot shell gyroid "
   ]
  },
  {
   "cell_type": "code",
   "execution_count": 6,
   "metadata": {},
   "outputs": [
    {
     "data": {
      "application/vnd.jupyter.widget-view+json": {
       "model_id": "ff0df27d0116486fae0e54dcda357891",
       "version_major": 2,
       "version_minor": 0
      },
      "text/plain": [
       "EmbeddableWidget(value='<iframe srcdoc=\"<!DOCTYPE html>\\n<html>\\n  <head>\\n    <meta http-equiv=&quot;Content-…"
      ]
     },
     "metadata": {},
     "output_type": "display_data"
    }
   ],
   "source": [
    "# Contours\n",
    "contours = mesh.contour([-thickness, thickness])\n",
    "\n",
    "# Plot\n",
    "pl = pyvista.Plotter()\n",
    "pl.enable_anti_aliasing(\"ssaa\")\n",
    "pl.add_mesh(mesh.outline(), color=\"k\")\n",
    "pl.add_mesh(contours, color=\"gray\")\n",
    "pl.show(jupyter_backend=\"html\")"
   ]
  },
  {
   "cell_type": "code",
   "execution_count": 7,
   "metadata": {},
   "outputs": [],
   "source": [
    "# Elastic material model\n",
    "material = IsotropicElasticity3D(E=E, nu=nu)\n",
    "\n",
    "# Create model\n",
    "model = Solid(nodes, elements, material)\n",
    "\n",
    "# Set constraints\n",
    "model.constraints[nodes[:, 0] == 0.0, 0] = True\n",
    "model.constraints[nodes[:, 1] == 0.5, 1] = True\n",
    "model.constraints[nodes[:, 2] == 0.5, 2] = True\n",
    "model.constraints[nodes[:, 0] == 1.0, 0] = True\n",
    "model.displacements[nodes[:, 0] == 1.0, 0] = 0.1\n",
    "\n",
    "# Create nodal density field\n",
    "mask = torch.abs(g.sdf(nodes)) > thickness\n",
    "rho_nodes = torch.ones_like(g.sdf(nodes))\n",
    "rho_nodes[mask] = rho_min\n",
    "\n",
    "# Integrate element density field\n",
    "rho_elems = torch.zeros(len(elements))\n",
    "vol_elems = torch.zeros(len(elements))\n",
    "for i, (w, xi) in enumerate(zip(model.etype.iweights(), model.etype.ipoints())):\n",
    "    N = model.etype.N(xi)\n",
    "    B = model.etype.B(xi)\n",
    "    J = torch.einsum(\"jk,mkl->mjl\", B, nodes[elements, :])\n",
    "    detJ = torch.linalg.det(J)\n",
    "    rho = rho_nodes[elements, None].squeeze() @ N\n",
    "    rho_elems += w * rho * detJ\n",
    "    vol_elems += w * detJ\n",
    "\n",
    "# Normalize\n",
    "rho_elems /= vol_elems"
   ]
  },
  {
   "cell_type": "code",
   "execution_count": 8,
   "metadata": {},
   "outputs": [
    {
     "data": {
      "application/vnd.jupyter.widget-view+json": {
       "model_id": "103b45bfeb5a4e7ab126c592459420d0",
       "version_major": 2,
       "version_minor": 0
      },
      "text/plain": [
       "EmbeddableWidget(value='<iframe srcdoc=\"<!DOCTYPE html>\\n<html>\\n  <head>\\n    <meta http-equiv=&quot;Content-…"
      ]
     },
     "metadata": {},
     "output_type": "display_data"
    }
   ],
   "source": [
    "pl = pyvista.Plotter()\n",
    "pl.enable_anti_aliasing(\"ssaa\")\n",
    "mesh.cell_data[\"Density\"] = rho_elems.numpy()\n",
    "pl.add_mesh(mesh, cmap=\"coolwarm\", show_edges=True, scalars=\"Density\")\n",
    "pl.show(jupyter_backend=\"html\")"
   ]
  },
  {
   "cell_type": "markdown",
   "metadata": {},
   "source": [
    "## Compute homogenized properties"
   ]
  },
  {
   "cell_type": "code",
   "execution_count": 9,
   "metadata": {},
   "outputs": [],
   "source": [
    "# Reduce stiffness with density field\n",
    "model.material.C *= rho_elems[:, None, None]\n",
    "\n",
    "# Solve\n",
    "u, f, σ, ε, α = model.solve()"
   ]
  },
  {
   "cell_type": "code",
   "execution_count": 10,
   "metadata": {},
   "outputs": [
    {
     "name": "stdout",
     "output_type": "stream",
     "text": [
      "Effective E_xx (8.27%): 79.21\n"
     ]
    }
   ],
   "source": [
    "E_xx = torch.mean(σ[:, 0] / ε[:, 0])\n",
    "vol_frac = (rho_elems * vol_elems).sum()\n",
    "print(f\"Effective E_xx ({100*vol_frac:.2f}%): {E_xx:.2f}\")"
   ]
  },
  {
   "cell_type": "code",
   "execution_count": 11,
   "metadata": {},
   "outputs": [
    {
     "data": {
      "application/vnd.jupyter.widget-view+json": {
       "model_id": "d387fecfb52847b0858d7a6890e665bd",
       "version_major": 2,
       "version_minor": 0
      },
      "text/plain": [
       "EmbeddableWidget(value='<iframe srcdoc=\"<!DOCTYPE html>\\n<html>\\n  <head>\\n    <meta http-equiv=&quot;Content-…"
      ]
     },
     "metadata": {},
     "output_type": "display_data"
    }
   ],
   "source": [
    "# Evaluate displacement\n",
    "mesh.point_data[\"Disp\"] = u.numpy()\n",
    "\n",
    "# Contours\n",
    "contours = mesh.contour([-thickness, thickness], scalars=\"SDF\")\n",
    "\n",
    "# Plot\n",
    "pl = pyvista.Plotter()\n",
    "pl.enable_anti_aliasing(\"ssaa\")\n",
    "pl.add_mesh(mesh.outline(), color=\"k\")\n",
    "pl.add_mesh(contours, cmap=\"viridis\", scalars=\"Disp\")\n",
    "pl.show(jupyter_backend=\"html\")"
   ]
  }
 ],
 "metadata": {
  "kernelspec": {
   "display_name": "torchfem",
   "language": "python",
   "name": "python3"
  },
  "language_info": {
   "codemirror_mode": {
    "name": "ipython",
    "version": 3
   },
   "file_extension": ".py",
   "mimetype": "text/x-python",
   "name": "python",
   "nbconvert_exporter": "python",
   "pygments_lexer": "ipython3",
   "version": "3.10.13"
  }
 },
 "nbformat": 4,
 "nbformat_minor": 2
}
