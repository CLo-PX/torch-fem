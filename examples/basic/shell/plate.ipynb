{
 "cells": [
  {
   "cell_type": "markdown",
   "metadata": {},
   "source": [
    "# Center-loaded plate\n",
    "\n",
    "[![Google Collab Book](https://colab.research.google.com/assets/colab-badge.svg)](https://colab.research.google.com/github/meyer-nils/torch-fem/blob/main/examples/basic/shell/plate.ipynb)\n",
    "\n",
    "A square plate of 100x100 is fully clamped at all edges and subjected to a concentrated force F=16.367 at the center. A symmetric quarter model is computed. \n",
    "\n",
    "\n",
    "A reference solution is computed with ABAQUS for the following shell elements: \n",
    "\n",
    "| Type   | u_max  | \n",
    "|--------|--------| \n",
    "| S3     | -3.773 |\n",
    "| STRI3  | -4.041 | \n",
    "| STRI65 | -4.486 | \n",
    " "
   ]
  },
  {
   "cell_type": "code",
   "execution_count": 1,
   "metadata": {},
   "outputs": [],
   "source": [
    "import meshzoo\n",
    "import torch\n",
    "\n",
    "from torchfem import Shell\n",
    "from torchfem.materials import IsotropicElasticityPlaneStress"
   ]
  },
  {
   "cell_type": "markdown",
   "metadata": {},
   "source": [
    "## Model setup"
   ]
  },
  {
   "cell_type": "code",
   "execution_count": 2,
   "metadata": {},
   "outputs": [],
   "source": [
    "# Constants\n",
    "L = 100.0\n",
    "F = -16.367\n",
    "\n",
    "# Material parameters (Cs is transverse shear stiffness)\n",
    "mat = IsotropicElasticityPlaneStress(E=10000.0, nu=0.3)\n",
    "\n",
    "# Define plate\n",
    "X = torch.linspace(0.0, 0.5 * L, 9)\n",
    "Y = torch.linspace(0.0, 0.5 * L, 9)\n",
    "points, cells = meshzoo.rectangle_tri(X, Y, variant=\"zigzag\")\n",
    "N = len(points)\n",
    "nodes = torch.hstack([torch.tensor(points, dtype=torch.float32), torch.zeros((N, 1))])\n",
    "elements = torch.tensor(cells.tolist())\n",
    "\n",
    "# Create Shell model\n",
    "plate = Shell(nodes, elements, mat)\n",
    "\n",
    "# Boundaries\n",
    "top = nodes[:, 1] > (L / 2.0 - 0.01)\n",
    "bottom = nodes[:, 1] < 0.01\n",
    "left = nodes[:, 0] < 0.01\n",
    "right = nodes[:, 0] > (L / 2.0 - 0.01)\n",
    "\n",
    "# Force\n",
    "plate.forces[0, 2] = F\n",
    "plate.constraints[top] = True\n",
    "plate.constraints[right] = True\n",
    "plate.constraints[left, 0] = True\n",
    "plate.constraints[left, 4] = True\n",
    "plate.constraints[left, 5] = True\n",
    "plate.constraints[bottom, 1] = True\n",
    "plate.constraints[bottom, 3] = True\n",
    "plate.constraints[bottom, 5] = True"
   ]
  },
  {
   "cell_type": "markdown",
   "metadata": {},
   "source": [
    "## Solve "
   ]
  },
  {
   "cell_type": "code",
   "execution_count": null,
   "metadata": {},
   "outputs": [
    {
     "name": "stdout",
     "output_type": "stream",
     "text": [
      "u_max: -3.99\n"
     ]
    }
   ],
   "source": [
    "u, f = plate.solve()\n",
    "\n",
    "# Print maximum displacement\n",
    "print(f\"u_max: {u.min():.2f}\")"
   ]
  },
  {
   "cell_type": "markdown",
   "metadata": {},
   "source": [
    "## Visualize displacement \n",
    "\n",
    "The symmetric quarter model is mirrored in x-direction and y-direction."
   ]
  },
  {
   "cell_type": "code",
   "execution_count": 4,
   "metadata": {},
   "outputs": [
    {
     "data": {
      "application/vnd.jupyter.widget-view+json": {
       "model_id": "eae994a40b234181b126f4acb6773462",
       "version_major": 2,
       "version_minor": 0
      },
      "text/plain": [
       "Widget(value='<iframe src=\"http://localhost:60067/index.html?ui=P_0x148f7ce20_0&reconnect=auto\" class=\"pyvista…"
      ]
     },
     "metadata": {},
     "output_type": "display_data"
    }
   ],
   "source": [
    "plate.plot(\n",
    "    u[:, 0:3],\n",
    "    node_property={\"u\": torch.linalg.norm(u[:, 0:3], dim=1)},\n",
    "    mirror=[True, True, False],\n",
    ")"
   ]
  },
  {
   "cell_type": "markdown",
   "metadata": {},
   "source": [
    "## Visualize v. Mises stress\n",
    "\n",
    "The symmetric quarter model is mirrored in x-direction and y-direction."
   ]
  },
  {
   "cell_type": "code",
   "execution_count": 5,
   "metadata": {},
   "outputs": [
    {
     "data": {
      "application/vnd.jupyter.widget-view+json": {
       "model_id": "509b43bf4c14432d86abf3bdb9cd2739",
       "version_major": 2,
       "version_minor": 0
      },
      "text/plain": [
       "Widget(value='<iframe src=\"http://localhost:60067/index.html?ui=P_0x14c09ccd0_1&reconnect=auto\" class=\"pyvista…"
      ]
     },
     "metadata": {},
     "output_type": "display_data"
    }
   ],
   "source": [
    "# Compute v. Mises stress\n",
    "mises = plate.compute_stress(u, z=0.25, mises=True)\n",
    "\n",
    "plate.plot(\n",
    "    u[:, 0:3],\n",
    "    element_property={\"mises\": mises},\n",
    "    thickness=True,\n",
    "    mirror=[True, True, False],\n",
    ")"
   ]
  }
 ],
 "metadata": {
  "kernelspec": {
   "display_name": "torchfem",
   "language": "python",
   "name": "python3"
  },
  "language_info": {
   "codemirror_mode": {
    "name": "ipython",
    "version": 3
   },
   "file_extension": ".py",
   "mimetype": "text/x-python",
   "name": "python",
   "nbconvert_exporter": "python",
   "pygments_lexer": "ipython3",
   "version": "3.10.13"
  }
 },
 "nbformat": 4,
 "nbformat_minor": 4
}
