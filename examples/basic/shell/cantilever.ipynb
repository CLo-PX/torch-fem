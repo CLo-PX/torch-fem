{
 "cells": [
  {
   "cell_type": "markdown",
   "metadata": {},
   "source": [
    "# Cantilever plate \n",
    "[![Google Collab Book](https://colab.research.google.com/assets/colab-badge.svg)](https://colab.research.google.com/github/meyer-nils/torch-fem/blob/main/examples/basic/shell/cantilever.ipynb)\n",
    "\n",
    "A plate of dimensions 100mm x 50mm x 0.5mm clamped at one end. It is subjected to concentrated forces of 5N at each corner at the tip. \n",
    "\n",
    "A reference solution is computed with ABAQUS for the following shell elements: \n",
    "\n",
    "| Type   | u_max | S_max |\n",
    "|--------|-------|-------|\n",
    "| S3     | 30.36 | 423.6 |\n",
    "| STRI3  | 30.64 | 461.7 |\n",
    "| STRI65 | 30.90 | 481.4 |"
   ]
  },
  {
   "cell_type": "code",
   "execution_count": 1,
   "metadata": {},
   "outputs": [],
   "source": [
    "import meshzoo\n",
    "import torch\n",
    "\n",
    "from torchfem import Shell\n",
    "from torchfem.materials import IsotropicElasticityPlaneStress"
   ]
  },
  {
   "cell_type": "markdown",
   "metadata": {},
   "source": [
    "## Model setup"
   ]
  },
  {
   "cell_type": "code",
   "execution_count": 2,
   "metadata": {},
   "outputs": [],
   "source": [
    "# Material parameters\n",
    "material = IsotropicElasticityPlaneStress(E=200000.0, nu=0.3)\n",
    "\n",
    "# Define nodes and element of the plate\n",
    "X = torch.linspace(0.0, 100.0, 10)\n",
    "Y = torch.linspace(0.0, 50.0, 5)\n",
    "points, cells = meshzoo.rectangle_tri(X, Y, variant=\"zigzag\")\n",
    "N = len(points)\n",
    "nodes = torch.hstack([torch.tensor(points, dtype=torch.float32), torch.zeros((N, 1))])\n",
    "elements = torch.tensor(cells.tolist())\n",
    "\n",
    "# Define Shell model\n",
    "cantilever = Shell(nodes, elements, material)\n",
    "\n",
    "# Define masks for boundaries\n",
    "left = nodes[:, 0] < 0.01\n",
    "corner_1 = (nodes[:, 0] > 99.9) & (nodes[:, 1] < 0.01)\n",
    "corner_2 = (nodes[:, 0] > 99.9) & (nodes[:, 1] > 49.99)\n",
    "\n",
    "# Apply load boundary conditions\n",
    "cantilever.forces[corner_1, 2] = 5\n",
    "cantilever.forces[corner_2, 2] = 5\n",
    "\n",
    "# Apply displacement boundary conditions\n",
    "cantilever.constraints[left] = True\n",
    "\n",
    "# Thickness\n",
    "cantilever.thickness[:] = 0.5"
   ]
  },
  {
   "cell_type": "markdown",
   "metadata": {},
   "source": [
    "## Solve and extract maxima"
   ]
  },
  {
   "cell_type": "code",
   "execution_count": 3,
   "metadata": {},
   "outputs": [
    {
     "name": "stdout",
     "output_type": "stream",
     "text": [
      "u_max: 30.70, S_max: 430.4.\n"
     ]
    }
   ],
   "source": [
    "# Solve\n",
    "u, f = cantilever.solve()\n",
    "\n",
    "# Compute stress and maxima\n",
    "mises = cantilever.compute_stress(u, z=0.25, mises=True)\n",
    "print(f\"u_max: {torch.max(u[:, 0:3]):.2f}, S_max: {torch.max(mises):.1f}.\")"
   ]
  },
  {
   "cell_type": "markdown",
   "metadata": {},
   "source": [
    "## Visualize displacement"
   ]
  },
  {
   "cell_type": "code",
   "execution_count": 4,
   "metadata": {},
   "outputs": [
    {
     "data": {
      "application/vnd.jupyter.widget-view+json": {
       "model_id": "700c0a2139bd4d4584e299c1edca3fba",
       "version_major": 2,
       "version_minor": 0
      },
      "text/plain": [
       "EmbeddableWidget(value='<iframe srcdoc=\"<!DOCTYPE html>\\n<html>\\n  <head>\\n    <meta http-equiv=&quot;Content-…"
      ]
     },
     "metadata": {},
     "output_type": "display_data"
    }
   ],
   "source": [
    "# Displacement on deformed configuration\n",
    "cantilever.plot(u[:, 0:3], node_property={\"u\": torch.linalg.norm(u[:, 0:3], dim=1)})"
   ]
  },
  {
   "cell_type": "markdown",
   "metadata": {},
   "source": [
    "## Visualize v. Mises stress"
   ]
  },
  {
   "cell_type": "code",
   "execution_count": 5,
   "metadata": {},
   "outputs": [
    {
     "data": {
      "application/vnd.jupyter.widget-view+json": {
       "model_id": "3fa0063e32494152beb0bc2ce154b537",
       "version_major": 2,
       "version_minor": 0
      },
      "text/plain": [
       "EmbeddableWidget(value='<iframe srcdoc=\"<!DOCTYPE html>\\n<html>\\n  <head>\\n    <meta http-equiv=&quot;Content-…"
      ]
     },
     "metadata": {},
     "output_type": "display_data"
    }
   ],
   "source": [
    "# Mises stress on deformed configuration\n",
    "cantilever.plot(u[:, 0:3], element_property={\"mises\": mises}, thickness=True)"
   ]
  }
 ],
 "metadata": {
  "kernelspec": {
   "display_name": "torchfem",
   "language": "python",
   "name": "python3"
  },
  "language_info": {
   "codemirror_mode": {
    "name": "ipython",
    "version": 3
   },
   "file_extension": ".py",
   "mimetype": "text/x-python",
   "name": "python",
   "nbconvert_exporter": "python",
   "pygments_lexer": "ipython3",
   "version": "3.10.13"
  }
 },
 "nbformat": 4,
 "nbformat_minor": 4
}
