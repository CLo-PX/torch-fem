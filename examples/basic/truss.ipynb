{
 "cells": [
  {
   "cell_type": "code",
   "execution_count": 1,
   "metadata": {},
   "outputs": [],
   "source": [
    "import torch\n",
    "\n",
    "from torchfem import Truss\n",
    "from torchfem.materials import IsotropicElasticity1D"
   ]
  },
  {
   "cell_type": "code",
   "execution_count": 2,
   "metadata": {},
   "outputs": [],
   "source": [
    "# Create truss\n",
    "material = IsotropicElasticity1D(1.0)"
   ]
  },
  {
   "cell_type": "code",
   "execution_count": 3,
   "metadata": {},
   "outputs": [
    {
     "name": "stderr",
     "output_type": "stream",
     "text": [
      "/Users/meyernil/Code/torch-fem/src/torchfem/sparse.py:28: MatrixRankWarning: Matrix is exactly singular\n",
      "  x_np = spsolve(A_np, b_np)\n"
     ]
    },
    {
     "data": {
      "image/png": "[encoded data removed]",
      "text/plain": [
       "<Figure size 640x480 with 2 Axes>"
      ]
     },
     "metadata": {},
     "output_type": "display_data"
    }
   ],
   "source": [
    "n1 = torch.linspace(0.0, 4.0, 5)\n",
    "n2 = torch.linspace(0.0, 1.0, 2)\n",
    "n1, n2 = torch.stack(torch.meshgrid(n1, n2, indexing=\"xy\"))\n",
    "nodes = torch.stack([n1.ravel(), n2.ravel()], dim=1)\n",
    "\n",
    "elements = torch.tensor(\n",
    "    [\n",
    "        [0, 1],\n",
    "        [1, 2],\n",
    "        [2, 3],\n",
    "        [3, 4],\n",
    "        [5, 6],\n",
    "        [6, 7],\n",
    "        [7, 8],\n",
    "        [8, 9],\n",
    "        [1, 5],\n",
    "        [0, 6],\n",
    "        [2, 6],\n",
    "        [1, 7],\n",
    "        [3, 7],\n",
    "        [2, 8],\n",
    "        [4, 8],\n",
    "        [3, 9],\n",
    "        [1, 6],\n",
    "        [2, 7],\n",
    "        [3, 8],\n",
    "        [4, 9],\n",
    "    ]\n",
    ")\n",
    "\n",
    "# Create truss\n",
    "truss = Truss(nodes, elements, material)\n",
    "\n",
    "# Set boundary conditions\n",
    "truss.forces[4, 1] = -0.01\n",
    "truss.constraints[0, 0] = True\n",
    "truss.constraints[0, 1] = True\n",
    "truss.constraints[5, 0] = True\n",
    "\n",
    "# Solve\n",
    "u, f, σ, ε, α = truss.solve()\n",
    "\n",
    "\n",
    "# Plot\n",
    "truss.plot(u=u, sigma=σ)"
   ]
  },
  {
   "cell_type": "code",
   "execution_count": 4,
   "metadata": {},
   "outputs": [
    {
     "name": "stdout",
     "output_type": "stream",
     "text": [
      "torch.Size([3, 1])\n"
     ]
    },
    {
     "name": "stderr",
     "output_type": "stream",
     "text": [
      "/Users/meyernil/miniforge3/envs/torchfem/lib/python3.10/site-packages/pyvista/plotting/mapper.py:670: RuntimeWarning: All-NaN axis encountered\n",
      "  clim = [np.nanmin(scalars), np.nanmax(scalars)]\n"
     ]
    },
    {
     "data": {
      "application/vnd.jupyter.widget-view+json": {
       "model_id": "019dc2ed32c54ec58746cdffe70817fe",
       "version_major": 2,
       "version_minor": 0
      },
      "text/plain": [
       "Widget(value='<iframe src=\"http://localhost:60322/index.html?ui=P_0x12fc1eb90_0&reconnect=auto\" class=\"pyvista…"
      ]
     },
     "metadata": {},
     "output_type": "display_data"
    }
   ],
   "source": [
    "nodes = torch.tensor(\n",
    "    [[-1.0, 0.0, 0.0], [1.0, 0.0, 0.0], [0.0, 1.0, 0.0], [0.0, 0.0, 1.0]]\n",
    ")\n",
    "elements = torch.tensor([[0, 3], [1, 3], [2, 3]])\n",
    "\n",
    "# Create truss\n",
    "truss3d = Truss(nodes, elements, material)\n",
    "\n",
    "# Boundary conditions\n",
    "truss3d.forces[3, 1] = -0.001\n",
    "truss3d.constraints[0:3, :] = True\n",
    "\n",
    "# Geometrical properties\n",
    "truss3d.areas[:] = 0.05\n",
    "\n",
    "# Solve\n",
    "u, f, σ, ε, α = truss3d.solve()\n",
    "\n",
    "# Plot\n",
    "truss3d.plot(u=u, sigma=σ)"
   ]
  }
 ],
 "metadata": {
  "kernelspec": {
   "display_name": "torchfem",
   "language": "python",
   "name": "python3"
  },
  "language_info": {
   "codemirror_mode": {
    "name": "ipython",
    "version": 3
   },
   "file_extension": ".py",
   "mimetype": "text/x-python",
   "name": "python",
   "nbconvert_exporter": "python",
   "pygments_lexer": "ipython3",
   "version": "3.10.13"
  },
  "orig_nbformat": 4
 },
 "nbformat": 4,
 "nbformat_minor": 2
}
